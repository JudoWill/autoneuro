{
 "cells": [
  {
   "cell_type": "code",
   "execution_count": 1,
   "metadata": {
    "collapsed": true
   },
   "outputs": [],
   "source": [
    "# default_exp calculators"
   ]
  },
  {
   "cell_type": "code",
   "execution_count": 2,
   "outputs": [],
   "source": [
    "#hide\n",
    "#export\n",
    "import pandas as pd\n",
    "import numpy as np\n",
    "import matplotlib.pyplot as plt\n",
    "import seaborn as sbn\n",
    "import numexpr as ne\n",
    "\n",
    "from autoneuro import operators\n"
   ],
   "metadata": {
    "collapsed": false,
    "pycharm": {
     "name": "#%%\n"
    }
   }
  },
  {
   "cell_type": "markdown",
   "source": [
    "# Calculators\n",
    "\n",
    "This is a slightly different approach to try. What about making a set of \"calculators\". It\n",
    "\n",
    "In the abstract, an `AbstractCalculator` contains a set of expected fields and operations for calculating resulting values.\n",
    "With these it can manage creating descriptions of how the fields are manipulated through a set of `AbstractOperation`s.\n",
    "It can handle processing the relevant values from dataframes.\n",
    "Then, it can manage the visualization of both an interactive calculator and cohort visualization."
   ],
   "metadata": {
    "collapsed": false
   }
  },
  {
   "cell_type": "code",
   "execution_count": 3,
   "outputs": [],
   "source": [
    "from nbdev.showdoc import *\n",
    "\n",
    "%load_ext autoreload\n",
    "%autoreload 2"
   ],
   "metadata": {
    "collapsed": false,
    "pycharm": {
     "name": "#%%\n"
    }
   }
  },
  {
   "cell_type": "code",
   "execution_count": 4,
   "outputs": [],
   "source": [
    "#export\n",
    "class AbstractCalculator(object):\n",
    "    fields = []\n",
    "    operations = []\n",
    "    inferred_cols = []\n",
    "\n",
    "    def __init__(self, name, operations):\n",
    "        \"\"\"\n",
    "\n",
    "        Parameters\n",
    "        ----------\n",
    "        name : list[str]\n",
    "        operations : list[AbstractOperation]\n",
    "        \"\"\"\n",
    "\n",
    "        self.name = name\n",
    "        self.operations = operations\n",
    "\n",
    "        fields = sum((op.fields for op in operations), start = [])\n",
    "        fields = set(fields)\n",
    "\n",
    "        inferred = sum((op.result_fields for op in operations), start = [])\n",
    "        inferred = set(inferred)\n",
    "\n",
    "        self.fields = sorted(fields-inferred)\n",
    "        self.inferred_cols = sorted(inferred)\n",
    "\n",
    "    def to_series(self, row):\n",
    "\n",
    "        series = pd.Series(dict((field, row.get(field)) for field in self.fields))\n",
    "        return series\n",
    "    \n",
    "    def explain(self, row):\n",
    "\n",
    "        ins = [f'{f}:{row[f]}' for f in self.fields]\n",
    "        print('Input:', ', '.join(ins))\n",
    "\n",
    "        res = self.process_single(row, explain=True)\n",
    "        outs = [f'{f}:{res[f]}' for f in self.inferred_cols]\n",
    "        print('Resulting in:', ', '.join(outs))\n",
    "\n",
    "    def __add__(self, other):\n",
    "\n",
    "        return AbstractCalculator(self.name, self.operations+other.operations)\n",
    "\n",
    "    def process_single(self, row, explain=False):\n",
    "        \"\"\"\n",
    "\n",
    "        Parameters\n",
    "        ----------\n",
    "        row : pd.Series,dict\n",
    "        explain : bool\n",
    "\n",
    "        Returns\n",
    "        -------\n",
    "\n",
    "        \"\"\"\n",
    "\n",
    "        data = self.to_series(row)\n",
    "        if self.operations:\n",
    "            for operation in self.operations:\n",
    "                cfields = []\n",
    "                for field, val in operation(data):\n",
    "                    data[field] = val\n",
    "                    cfields.append(field)\n",
    "                if explain:\n",
    "                    explanation = operation.explain(data)\n",
    "                    print(f'Calculating: {cfields}')\n",
    "                    print(explanation, '\\n')\n",
    "\n",
    "\n",
    "            #print(data)\n",
    "        return pd.Series(data)\n",
    "\n",
    "\n",
    "    def process_dataframe(self, df, mapping = None):\n",
    "        \"\"\"\n",
    "\n",
    "        Parameters\n",
    "        ----------\n",
    "        df : pd.DataFrame\n",
    "        mapping : dict\n",
    "        Returns\n",
    "        -------\n",
    "        pd.DataFrame\n",
    "\n",
    "        \"\"\"\n",
    "\n",
    "        if mapping is not None:\n",
    "            clean_data = df.rename(columns=mapping)\n",
    "        else:\n",
    "            clean_data = df\n",
    "\n",
    "        #print(clean_data[self.fields])\n",
    "\n",
    "        res = clean_data.apply(self.process_single, axis=1)\n",
    "        return res"
   ],
   "metadata": {
    "collapsed": false,
    "pycharm": {
     "name": "#%%\n"
    }
   }
  },
  {
   "cell_type": "markdown",
   "source": [
    "However, you'll probably never need to use that directly.\n",
    "Instead, you'll likely use the `TestCalculator`object.\n"
   ],
   "metadata": {
    "collapsed": false,
    "pycharm": {
     "name": "#%% md\n"
    }
   }
  },
  {
   "cell_type": "code",
   "execution_count": 5,
   "outputs": [],
   "source": [
    "#export\n",
    "\n",
    "class TestCalculator(AbstractCalculator):\n",
    "\n",
    "    def __init__(self, name, operations):\n",
    "        super().__init__(name, operations)\n",
    "\n",
    "    @staticmethod\n",
    "    def from_config(config):\n",
    "        name = config['short_name']\n",
    "        ops = [operators.AbstractOperation.from_config(c) for c in config['operations']]\n",
    "        return TestCalculator(name, ops)"
   ],
   "metadata": {
    "collapsed": false,
    "pycharm": {
     "name": "#%%\n"
    }
   }
  },
  {
   "cell_type": "markdown",
   "source": [
    "The `TestCalculator` holds a sequential list of `operators.AbstractOperation` objects to perform on a single object.\n",
    "While one could create these entirely in Python, its more likely that you'll load these from a set of `yaml` files.\n",
    "Here's the example for the BVMT test."
   ],
   "metadata": {
    "collapsed": false,
    "pycharm": {
     "name": "#%% md\n"
    }
   }
  },
  {
   "cell_type": "code",
   "execution_count": 6,
   "outputs": [
    {
     "name": "stdout",
     "output_type": "stream",
     "text": [
      "name: 'Brief Visiospatial Memory Test'\r\n",
      "short_name: 'BVMT'\r\n",
      "\r\n",
      "\r\n",
      "operations:\r\n",
      "  - type: equation\r\n",
      "    equation: 'trial1+trial2+trial3'\r\n",
      "    fields: ['trial1', 'trial2', 'trial3']\r\n",
      "    out_field: immediate\r\n",
      "  - type: agg\r\n",
      "    method: 'max'\r\n",
      "    fields: ['trial2', 'trial3']\r\n",
      "    out_field: retention_denom\r\n",
      "  - type: equation\r\n",
      "    equation: 'delay/retention_denom'\r\n",
      "    fields: [ 'delay', 'retention_denom']\r\n",
      "    out_field: retention\r\n",
      "  - type: clip\r\n",
      "    field: retention\r\n",
      "    lower: 0\r\n",
      "    upper: 1\r\n",
      "  - type: equation\r\n",
      "    equation: 'hits-false_pos'\r\n",
      "    fields: ['hits', 'false_pos']\r\n",
      "    out_field: 'recognition'\r\n",
      "\r\n"
     ]
    }
   ],
   "source": [
    "!cat data/test_calculators/BVMT.yaml"
   ],
   "metadata": {
    "collapsed": false,
    "pycharm": {
     "name": "#%%\n"
    }
   }
  },
  {
   "cell_type": "markdown",
   "source": [
    "It defines how to calculate the `immediate`, `retention`, and `recognition` values from the raw measurements.\n",
    "We can load this in from the `yaml` file easily.\n",
    "\n",
    "We'll imagine an individual to test.\n",
    "\n",
    "Measured Values:\n",
    " - `trial1` - 5\n",
    " - `trial2` - 6\n",
    " - `trial3` - 7\n",
    " - `delay` - 8\n",
    " - `hits` - 6\n",
    " - `false_pos` - 2\n",
    " - `copy` - 12\n"
   ],
   "metadata": {
    "collapsed": false,
    "pycharm": {
     "name": "#%% md\n"
    }
   }
  },
  {
   "cell_type": "code",
   "execution_count": 7,
   "outputs": [
    {
     "name": "stdout",
     "output_type": "stream",
     "text": [
      "Taking: delay:8, false_pos:2, hits:6, trial1:5, trial2:6, trial3:7\n",
      "Used Equation: trial1+trial2+trial3 = 18 = immediate\n",
      "Aggregation: max [trial2, trial3]  = 7\n",
      "Used Equation: delay/retention_denom = 1.1428571428571428 = retention\n",
      "Clipped retention to [0, 1]\n",
      "Used Equation: hits-false_pos = 4.0 = recognition\n",
      "Resulting in: immediate:18.0, recognition:4.0, retention:1.0, retention_denom:7.0\n"
     ]
    }
   ],
   "source": [
    "import yaml\n",
    "\n",
    "DATA = {'trial1': 5, 'trial2': 6, 'trial3': 7,\n",
    "        'delay': 8, 'hits': 6, 'false_pos': 2,\n",
    "        'copy': 12}\n",
    "\n",
    "\n",
    "bvmt_calc = TestCalculator.from_config(yaml.full_load(open('data/test_calculators/BVMT.yaml')))\n",
    "result = bvmt_calc.process_single(DATA)\n",
    "\n",
    "assert result['immediate'] == 18\n",
    "assert result['recognition'] == 4\n",
    "assert result['retention'] == 1 # clipped from a raw 8/7\n",
    "\n",
    "bvmt_calc.explain(DATA)"
   ],
   "metadata": {
    "collapsed": false,
    "pycharm": {
     "name": "#%%\n"
    }
   }
  },
  {
   "cell_type": "markdown",
   "source": [
    "Sweet! Everything got calculated automatically and I have easy descriptions of how each value was calculated.\n",
    "What if I need to process a lot of data?\n",
    "\n",
    "Put it into a `pd.DataFrame` and then use the `process_dataframe` method."
   ],
   "metadata": {
    "collapsed": false,
    "pycharm": {
     "name": "#%% md\n"
    }
   }
  },
  {
   "cell_type": "code",
   "execution_count": 8,
   "outputs": [
    {
     "data": {
      "text/plain": "   delay  false_pos  hits  trial1  trial2  trial3  immediate  retention_denom  \\\n0    8.0        2.0   6.0     5.0     6.0     7.0       18.0              7.0   \n1    8.0        2.0   6.0     5.0     6.0     7.0       18.0              7.0   \n2    8.0        2.0   6.0     5.0     6.0     7.0       18.0              7.0   \n3    8.0        2.0   6.0     5.0     6.0     7.0       18.0              7.0   \n4    8.0        2.0   6.0     5.0     6.0     7.0       18.0              7.0   \n\n   retention  recognition  \n0        1.0          4.0  \n1        1.0          4.0  \n2        1.0          4.0  \n3        1.0          4.0  \n4        1.0          4.0  ",
      "text/html": "<div>\n<style scoped>\n    .dataframe tbody tr th:only-of-type {\n        vertical-align: middle;\n    }\n\n    .dataframe tbody tr th {\n        vertical-align: top;\n    }\n\n    .dataframe thead th {\n        text-align: right;\n    }\n</style>\n<table border=\"1\" class=\"dataframe\">\n  <thead>\n    <tr style=\"text-align: right;\">\n      <th></th>\n      <th>delay</th>\n      <th>false_pos</th>\n      <th>hits</th>\n      <th>trial1</th>\n      <th>trial2</th>\n      <th>trial3</th>\n      <th>immediate</th>\n      <th>retention_denom</th>\n      <th>retention</th>\n      <th>recognition</th>\n    </tr>\n  </thead>\n  <tbody>\n    <tr>\n      <th>0</th>\n      <td>8.0</td>\n      <td>2.0</td>\n      <td>6.0</td>\n      <td>5.0</td>\n      <td>6.0</td>\n      <td>7.0</td>\n      <td>18.0</td>\n      <td>7.0</td>\n      <td>1.0</td>\n      <td>4.0</td>\n    </tr>\n    <tr>\n      <th>1</th>\n      <td>8.0</td>\n      <td>2.0</td>\n      <td>6.0</td>\n      <td>5.0</td>\n      <td>6.0</td>\n      <td>7.0</td>\n      <td>18.0</td>\n      <td>7.0</td>\n      <td>1.0</td>\n      <td>4.0</td>\n    </tr>\n    <tr>\n      <th>2</th>\n      <td>8.0</td>\n      <td>2.0</td>\n      <td>6.0</td>\n      <td>5.0</td>\n      <td>6.0</td>\n      <td>7.0</td>\n      <td>18.0</td>\n      <td>7.0</td>\n      <td>1.0</td>\n      <td>4.0</td>\n    </tr>\n    <tr>\n      <th>3</th>\n      <td>8.0</td>\n      <td>2.0</td>\n      <td>6.0</td>\n      <td>5.0</td>\n      <td>6.0</td>\n      <td>7.0</td>\n      <td>18.0</td>\n      <td>7.0</td>\n      <td>1.0</td>\n      <td>4.0</td>\n    </tr>\n    <tr>\n      <th>4</th>\n      <td>8.0</td>\n      <td>2.0</td>\n      <td>6.0</td>\n      <td>5.0</td>\n      <td>6.0</td>\n      <td>7.0</td>\n      <td>18.0</td>\n      <td>7.0</td>\n      <td>1.0</td>\n      <td>4.0</td>\n    </tr>\n  </tbody>\n</table>\n</div>"
     },
     "execution_count": 8,
     "metadata": {},
     "output_type": "execute_result"
    }
   ],
   "source": [
    "tdf = pd.DataFrame([DATA]*5)\n",
    "bvmt_calc.process_dataframe(tdf)"
   ],
   "metadata": {
    "collapsed": false,
    "pycharm": {
     "name": "#%%\n"
    }
   }
  },
  {
   "cell_type": "markdown",
   "source": [
    "Awesome, how do we deal with our full neuro data?\n",
    "There are lots of different column names?\n",
    "Easy, the `process_dataframe` allows for a mapping."
   ],
   "metadata": {
    "collapsed": false,
    "pycharm": {
     "name": "#%% md\n"
    }
   }
  },
  {
   "cell_type": "code",
   "execution_count": 16,
   "outputs": [
    {
     "data": {
      "text/plain": "                      Visit  Age     Sex Race Race_specify  Education  \\\nVisitDate  PatientID                                                    \n2013-09-24 A0091        1.0   36    male   AA          NaN         16   \n           A0107        1.0   49  female   AA          NaN         12   \n           A0138        1.0   53  female   AA          NaN         11   \n2013-10-03 A0165        1.0   62    male   AA          NaN         12   \n2013-10-08 A0127        1.0   62    male   AA          NaN         16   \n\n                      EngFluency  SpanFluency  MMSE  DigitBackwardSENAS  ...  \\\nVisitDate  PatientID                                                     ...   \n2013-09-24 A0091             3.0          0.0  27.0                 6.0  ...   \n           A0107             3.0          0.0  27.0                 3.0  ...   \n           A0138             3.0          0.0   NaN                 NaN  ...   \n2013-10-03 A0165             3.0          0.0  29.0                 5.0  ...   \n2013-10-08 A0127             3.0          0.0  28.0                 2.0  ...   \n\n                      Professional  Homeowner  Householdsize  Earnings.Indiv  \\\nVisitDate  PatientID                                                           \n2013-09-24 A0091               NaN        NaN            NaN             NaN   \n           A0107               NaN        NaN            NaN             NaN   \n           A0138               NaN        NaN            NaN             NaN   \n2013-10-03 A0165               NaN        NaN            NaN             NaN   \n2013-10-08 A0127               NaN        NaN            NaN             NaN   \n\n                      Income.Indiv  Earnings.House  Income.House  \\\nVisitDate  PatientID                                               \n2013-09-24 A0091               NaN             NaN           NaN   \n           A0107               NaN             NaN           NaN   \n           A0138               NaN             NaN           NaN   \n2013-10-03 A0165               NaN             NaN           NaN   \n2013-10-08 A0127               NaN             NaN           NaN   \n\n                      Income.House.Weighted1  Income.House.Weighted2  Effort  \nVisitDate  PatientID                                                          \n2013-09-24 A0091                         NaN                     NaN     1.0  \n           A0107                         NaN                     NaN     NaN  \n           A0138                         NaN                     NaN     1.0  \n2013-10-03 A0165                         NaN                     NaN     NaN  \n2013-10-08 A0127                         NaN                     NaN     NaN  \n\n[5 rows x 163 columns]",
      "text/html": "<div>\n<style scoped>\n    .dataframe tbody tr th:only-of-type {\n        vertical-align: middle;\n    }\n\n    .dataframe tbody tr th {\n        vertical-align: top;\n    }\n\n    .dataframe thead th {\n        text-align: right;\n    }\n</style>\n<table border=\"1\" class=\"dataframe\">\n  <thead>\n    <tr style=\"text-align: right;\">\n      <th></th>\n      <th></th>\n      <th>Visit</th>\n      <th>Age</th>\n      <th>Sex</th>\n      <th>Race</th>\n      <th>Race_specify</th>\n      <th>Education</th>\n      <th>EngFluency</th>\n      <th>SpanFluency</th>\n      <th>MMSE</th>\n      <th>DigitBackwardSENAS</th>\n      <th>...</th>\n      <th>Professional</th>\n      <th>Homeowner</th>\n      <th>Householdsize</th>\n      <th>Earnings.Indiv</th>\n      <th>Income.Indiv</th>\n      <th>Earnings.House</th>\n      <th>Income.House</th>\n      <th>Income.House.Weighted1</th>\n      <th>Income.House.Weighted2</th>\n      <th>Effort</th>\n    </tr>\n    <tr>\n      <th>VisitDate</th>\n      <th>PatientID</th>\n      <th></th>\n      <th></th>\n      <th></th>\n      <th></th>\n      <th></th>\n      <th></th>\n      <th></th>\n      <th></th>\n      <th></th>\n      <th></th>\n      <th></th>\n      <th></th>\n      <th></th>\n      <th></th>\n      <th></th>\n      <th></th>\n      <th></th>\n      <th></th>\n      <th></th>\n      <th></th>\n      <th></th>\n    </tr>\n  </thead>\n  <tbody>\n    <tr>\n      <th rowspan=\"3\" valign=\"top\">2013-09-24</th>\n      <th>A0091</th>\n      <td>1.0</td>\n      <td>36</td>\n      <td>male</td>\n      <td>AA</td>\n      <td>NaN</td>\n      <td>16</td>\n      <td>3.0</td>\n      <td>0.0</td>\n      <td>27.0</td>\n      <td>6.0</td>\n      <td>...</td>\n      <td>NaN</td>\n      <td>NaN</td>\n      <td>NaN</td>\n      <td>NaN</td>\n      <td>NaN</td>\n      <td>NaN</td>\n      <td>NaN</td>\n      <td>NaN</td>\n      <td>NaN</td>\n      <td>1.0</td>\n    </tr>\n    <tr>\n      <th>A0107</th>\n      <td>1.0</td>\n      <td>49</td>\n      <td>female</td>\n      <td>AA</td>\n      <td>NaN</td>\n      <td>12</td>\n      <td>3.0</td>\n      <td>0.0</td>\n      <td>27.0</td>\n      <td>3.0</td>\n      <td>...</td>\n      <td>NaN</td>\n      <td>NaN</td>\n      <td>NaN</td>\n      <td>NaN</td>\n      <td>NaN</td>\n      <td>NaN</td>\n      <td>NaN</td>\n      <td>NaN</td>\n      <td>NaN</td>\n      <td>NaN</td>\n    </tr>\n    <tr>\n      <th>A0138</th>\n      <td>1.0</td>\n      <td>53</td>\n      <td>female</td>\n      <td>AA</td>\n      <td>NaN</td>\n      <td>11</td>\n      <td>3.0</td>\n      <td>0.0</td>\n      <td>NaN</td>\n      <td>NaN</td>\n      <td>...</td>\n      <td>NaN</td>\n      <td>NaN</td>\n      <td>NaN</td>\n      <td>NaN</td>\n      <td>NaN</td>\n      <td>NaN</td>\n      <td>NaN</td>\n      <td>NaN</td>\n      <td>NaN</td>\n      <td>1.0</td>\n    </tr>\n    <tr>\n      <th>2013-10-03</th>\n      <th>A0165</th>\n      <td>1.0</td>\n      <td>62</td>\n      <td>male</td>\n      <td>AA</td>\n      <td>NaN</td>\n      <td>12</td>\n      <td>3.0</td>\n      <td>0.0</td>\n      <td>29.0</td>\n      <td>5.0</td>\n      <td>...</td>\n      <td>NaN</td>\n      <td>NaN</td>\n      <td>NaN</td>\n      <td>NaN</td>\n      <td>NaN</td>\n      <td>NaN</td>\n      <td>NaN</td>\n      <td>NaN</td>\n      <td>NaN</td>\n      <td>NaN</td>\n    </tr>\n    <tr>\n      <th>2013-10-08</th>\n      <th>A0127</th>\n      <td>1.0</td>\n      <td>62</td>\n      <td>male</td>\n      <td>AA</td>\n      <td>NaN</td>\n      <td>16</td>\n      <td>3.0</td>\n      <td>0.0</td>\n      <td>28.0</td>\n      <td>2.0</td>\n      <td>...</td>\n      <td>NaN</td>\n      <td>NaN</td>\n      <td>NaN</td>\n      <td>NaN</td>\n      <td>NaN</td>\n      <td>NaN</td>\n      <td>NaN</td>\n      <td>NaN</td>\n      <td>NaN</td>\n      <td>NaN</td>\n    </tr>\n  </tbody>\n</table>\n<p>5 rows × 163 columns</p>\n</div>"
     },
     "execution_count": 16,
     "metadata": {},
     "output_type": "execute_result"
    }
   ],
   "source": [
    "all_neuro = pd.read_excel('data/neuro_data.xlsx',\n",
    "                          na_values=['na', '-', 'nd']).groupby(['VisitDate', 'PatientID']).first()\n",
    "all_neuro.replace({'Race': {2: 'AA',\n",
    "                            1: 'white',\n",
    "                            3: 'asian'},\n",
    "                   'Sex': {1: 'male', 2: 'female'}},\n",
    "                  inplace=True)\n",
    "all_neuro.head()"
   ],
   "metadata": {
    "collapsed": false,
    "pycharm": {
     "name": "#%%\n"
    }
   }
  },
  {
   "cell_type": "code",
   "execution_count": 10,
   "outputs": [
    {
     "data": {
      "text/plain": "                      delay  false_pos  hits  trial1  trial2  trial3  \\\nVisitDate  PatientID                                                   \n2013-10-03 A0165        6.0        0.0   5.0     6.0     6.0     7.0   \n2013-10-08 A0127        6.0        0.0   6.0     5.0     6.0     9.0   \n           A0164        7.0        2.0   6.0     5.0     6.0     7.0   \n2013-10-10 A0421        7.0        0.0   6.0     6.0     8.0     9.0   \n2013-10-15 A0067        4.0        1.0   4.0     2.0     4.0     4.0   \n\n                      immediate  retention_denom  retention  recognition  \nVisitDate  PatientID                                                      \n2013-10-03 A0165           19.0              7.0   0.857143          5.0  \n2013-10-08 A0127           20.0              9.0   0.666667          6.0  \n           A0164           18.0              7.0   1.000000          4.0  \n2013-10-10 A0421           23.0              9.0   0.777778          6.0  \n2013-10-15 A0067           10.0              4.0   1.000000          3.0  ",
      "text/html": "<div>\n<style scoped>\n    .dataframe tbody tr th:only-of-type {\n        vertical-align: middle;\n    }\n\n    .dataframe tbody tr th {\n        vertical-align: top;\n    }\n\n    .dataframe thead th {\n        text-align: right;\n    }\n</style>\n<table border=\"1\" class=\"dataframe\">\n  <thead>\n    <tr style=\"text-align: right;\">\n      <th></th>\n      <th></th>\n      <th>delay</th>\n      <th>false_pos</th>\n      <th>hits</th>\n      <th>trial1</th>\n      <th>trial2</th>\n      <th>trial3</th>\n      <th>immediate</th>\n      <th>retention_denom</th>\n      <th>retention</th>\n      <th>recognition</th>\n    </tr>\n    <tr>\n      <th>VisitDate</th>\n      <th>PatientID</th>\n      <th></th>\n      <th></th>\n      <th></th>\n      <th></th>\n      <th></th>\n      <th></th>\n      <th></th>\n      <th></th>\n      <th></th>\n      <th></th>\n    </tr>\n  </thead>\n  <tbody>\n    <tr>\n      <th>2013-10-03</th>\n      <th>A0165</th>\n      <td>6.0</td>\n      <td>0.0</td>\n      <td>5.0</td>\n      <td>6.0</td>\n      <td>6.0</td>\n      <td>7.0</td>\n      <td>19.0</td>\n      <td>7.0</td>\n      <td>0.857143</td>\n      <td>5.0</td>\n    </tr>\n    <tr>\n      <th rowspan=\"2\" valign=\"top\">2013-10-08</th>\n      <th>A0127</th>\n      <td>6.0</td>\n      <td>0.0</td>\n      <td>6.0</td>\n      <td>5.0</td>\n      <td>6.0</td>\n      <td>9.0</td>\n      <td>20.0</td>\n      <td>9.0</td>\n      <td>0.666667</td>\n      <td>6.0</td>\n    </tr>\n    <tr>\n      <th>A0164</th>\n      <td>7.0</td>\n      <td>2.0</td>\n      <td>6.0</td>\n      <td>5.0</td>\n      <td>6.0</td>\n      <td>7.0</td>\n      <td>18.0</td>\n      <td>7.0</td>\n      <td>1.000000</td>\n      <td>4.0</td>\n    </tr>\n    <tr>\n      <th>2013-10-10</th>\n      <th>A0421</th>\n      <td>7.0</td>\n      <td>0.0</td>\n      <td>6.0</td>\n      <td>6.0</td>\n      <td>8.0</td>\n      <td>9.0</td>\n      <td>23.0</td>\n      <td>9.0</td>\n      <td>0.777778</td>\n      <td>6.0</td>\n    </tr>\n    <tr>\n      <th>2013-10-15</th>\n      <th>A0067</th>\n      <td>4.0</td>\n      <td>1.0</td>\n      <td>4.0</td>\n      <td>2.0</td>\n      <td>4.0</td>\n      <td>4.0</td>\n      <td>10.0</td>\n      <td>4.0</td>\n      <td>1.000000</td>\n      <td>3.0</td>\n    </tr>\n  </tbody>\n</table>\n</div>"
     },
     "execution_count": 10,
     "metadata": {},
     "output_type": "execute_result"
    }
   ],
   "source": [
    "bvmt_calc.process_dataframe(all_neuro.dropna(subset = ['BVMTtrial1', 'BVMTdelay']).head(),\n",
    "                            mapping = {'BVMTtrial1': 'trial1',\n",
    "                                       'BVMTtrial2': 'trial2',\n",
    "                                       'BVMTtrial3': 'trial3',\n",
    "                                       'BVMTdelay': 'delay',\n",
    "                                       'BVMThits': 'hits',\n",
    "                                       'BVMTfalsepos': 'false_pos'})"
   ],
   "metadata": {
    "collapsed": false,
    "pycharm": {
     "name": "#%%\n"
    }
   }
  },
  {
   "cell_type": "markdown",
   "source": [
    "Awesome, a generic method for aggregating tests.\n",
    "Can we then follow this with another normalization scheme.\n",
    "\n",
    "`TestCalculator`s can be added together to concatenate their operations.\n",
    "This allows for a modular design of tests.\n",
    "Since the BVMT test is common, but there are many normalization schemes, we can use the calculator multiple times.\n",
    "\n",
    "Let's load in the `heaton` norms for BVMT test."
   ],
   "metadata": {
    "collapsed": false,
    "pycharm": {
     "name": "#%% md\n"
    }
   }
  },
  {
   "cell_type": "code",
   "execution_count": 11,
   "outputs": [
    {
     "name": "stdout",
     "output_type": "stream",
     "text": [
      "Taking: age:22, delay:11, immediate:30, recognition:2, retention:0.91\n",
      "heaton_immediate: Matched (20 <= age) & (age <= 23), Expecting 28.44 +- 4.38, Observed: 30.0\n",
      "heaton_retention: Matched (20 <= age) & (age <= 23), Expecting 0.9493 +- 0.0726, Observed: 0.91\n",
      "heaton_delay: Matched (20 <= age) & (age <= 23), Expecting 10.68 +- 1.41, Observed: 11.0\n",
      "heaton_recognition: Matched (20 <= age) & (age <= 23), Expecting 5.92 +- 0.26, Observed: 2.0\n",
      "Resulting in: heaton_delay:0.2269503546099293, heaton_immediate:0.35616438356164354, heaton_recognition:-15.076923076923077, heaton_retention:-0.5413223140495869\n"
     ]
    }
   ],
   "source": [
    "path = 'data/norms/from_kate/heaton_bvmt.yaml'\n",
    "heaton_bvmt_calc = TestCalculator.from_config(yaml.full_load(open(path)))\n",
    "\n",
    "heaton_bvmt_calc.explain({'age': 22,\n",
    "                          'immediate': 30,\n",
    "                          'retention': 0.91,\n",
    "                          'delay': 11,\n",
    "                          'recognition': 2})"
   ],
   "metadata": {
    "collapsed": false,
    "pycharm": {
     "name": "#%%\n"
    }
   }
  },
  {
   "cell_type": "markdown",
   "source": [
    "We can just `add` them!"
   ],
   "metadata": {
    "collapsed": false,
    "pycharm": {
     "name": "#%% md\n"
    }
   }
  },
  {
   "cell_type": "code",
   "execution_count": 12,
   "outputs": [
    {
     "data": {
      "text/plain": "                       age  delay  false_pos  hits  trial1  trial2  trial3  \\\nVisitDate  PatientID                                                         \n2013-10-03 A0165      62.0    6.0        0.0   5.0     6.0     6.0     7.0   \n2013-10-08 A0127      62.0    6.0        0.0   6.0     5.0     6.0     9.0   \n           A0164      56.0    7.0        2.0   6.0     5.0     6.0     7.0   \n2013-10-10 A0421      63.0    7.0        0.0   6.0     6.0     8.0     9.0   \n2013-10-15 A0067      47.0    4.0        1.0   4.0     2.0     4.0     4.0   \n\n                      immediate  retention_denom  retention  recognition  \\\nVisitDate  PatientID                                                       \n2013-10-03 A0165           19.0              7.0   0.857143          5.0   \n2013-10-08 A0127           20.0              9.0   0.666667          6.0   \n           A0164           18.0              7.0   1.000000          4.0   \n2013-10-10 A0421           23.0              9.0   0.777778          6.0   \n2013-10-15 A0067           10.0              4.0   1.000000          3.0   \n\n                      heaton_immediate  heaton_retention  heaton_delay  \\\nVisitDate  PatientID                                                     \n2013-10-03 A0165             -0.679035         -0.917898     -1.215962   \n2013-10-08 A0127             -0.493506         -3.107280     -1.215962   \n           A0164             -0.998106          0.711744     -0.882927   \n2013-10-10 A0421              0.172727         -1.010536     -0.622727   \n2013-10-15 A0067             -2.856016          0.776084     -2.763158   \n\n                      heaton_recognition  \nVisitDate  PatientID                      \n2013-10-03 A0165               -1.954545  \n2013-10-08 A0127                0.318182  \n           A0164               -2.948276  \n2013-10-10 A0421                0.166667  \n2013-10-15 A0067               -8.142857  ",
      "text/html": "<div>\n<style scoped>\n    .dataframe tbody tr th:only-of-type {\n        vertical-align: middle;\n    }\n\n    .dataframe tbody tr th {\n        vertical-align: top;\n    }\n\n    .dataframe thead th {\n        text-align: right;\n    }\n</style>\n<table border=\"1\" class=\"dataframe\">\n  <thead>\n    <tr style=\"text-align: right;\">\n      <th></th>\n      <th></th>\n      <th>age</th>\n      <th>delay</th>\n      <th>false_pos</th>\n      <th>hits</th>\n      <th>trial1</th>\n      <th>trial2</th>\n      <th>trial3</th>\n      <th>immediate</th>\n      <th>retention_denom</th>\n      <th>retention</th>\n      <th>recognition</th>\n      <th>heaton_immediate</th>\n      <th>heaton_retention</th>\n      <th>heaton_delay</th>\n      <th>heaton_recognition</th>\n    </tr>\n    <tr>\n      <th>VisitDate</th>\n      <th>PatientID</th>\n      <th></th>\n      <th></th>\n      <th></th>\n      <th></th>\n      <th></th>\n      <th></th>\n      <th></th>\n      <th></th>\n      <th></th>\n      <th></th>\n      <th></th>\n      <th></th>\n      <th></th>\n      <th></th>\n      <th></th>\n    </tr>\n  </thead>\n  <tbody>\n    <tr>\n      <th>2013-10-03</th>\n      <th>A0165</th>\n      <td>62.0</td>\n      <td>6.0</td>\n      <td>0.0</td>\n      <td>5.0</td>\n      <td>6.0</td>\n      <td>6.0</td>\n      <td>7.0</td>\n      <td>19.0</td>\n      <td>7.0</td>\n      <td>0.857143</td>\n      <td>5.0</td>\n      <td>-0.679035</td>\n      <td>-0.917898</td>\n      <td>-1.215962</td>\n      <td>-1.954545</td>\n    </tr>\n    <tr>\n      <th rowspan=\"2\" valign=\"top\">2013-10-08</th>\n      <th>A0127</th>\n      <td>62.0</td>\n      <td>6.0</td>\n      <td>0.0</td>\n      <td>6.0</td>\n      <td>5.0</td>\n      <td>6.0</td>\n      <td>9.0</td>\n      <td>20.0</td>\n      <td>9.0</td>\n      <td>0.666667</td>\n      <td>6.0</td>\n      <td>-0.493506</td>\n      <td>-3.107280</td>\n      <td>-1.215962</td>\n      <td>0.318182</td>\n    </tr>\n    <tr>\n      <th>A0164</th>\n      <td>56.0</td>\n      <td>7.0</td>\n      <td>2.0</td>\n      <td>6.0</td>\n      <td>5.0</td>\n      <td>6.0</td>\n      <td>7.0</td>\n      <td>18.0</td>\n      <td>7.0</td>\n      <td>1.000000</td>\n      <td>4.0</td>\n      <td>-0.998106</td>\n      <td>0.711744</td>\n      <td>-0.882927</td>\n      <td>-2.948276</td>\n    </tr>\n    <tr>\n      <th>2013-10-10</th>\n      <th>A0421</th>\n      <td>63.0</td>\n      <td>7.0</td>\n      <td>0.0</td>\n      <td>6.0</td>\n      <td>6.0</td>\n      <td>8.0</td>\n      <td>9.0</td>\n      <td>23.0</td>\n      <td>9.0</td>\n      <td>0.777778</td>\n      <td>6.0</td>\n      <td>0.172727</td>\n      <td>-1.010536</td>\n      <td>-0.622727</td>\n      <td>0.166667</td>\n    </tr>\n    <tr>\n      <th>2013-10-15</th>\n      <th>A0067</th>\n      <td>47.0</td>\n      <td>4.0</td>\n      <td>1.0</td>\n      <td>4.0</td>\n      <td>2.0</td>\n      <td>4.0</td>\n      <td>4.0</td>\n      <td>10.0</td>\n      <td>4.0</td>\n      <td>1.000000</td>\n      <td>3.0</td>\n      <td>-2.856016</td>\n      <td>0.776084</td>\n      <td>-2.763158</td>\n      <td>-8.142857</td>\n    </tr>\n  </tbody>\n</table>\n</div>"
     },
     "execution_count": 12,
     "metadata": {},
     "output_type": "execute_result"
    }
   ],
   "source": [
    "full_calc = bvmt_calc + heaton_bvmt_calc\n",
    "full_calc.process_dataframe(all_neuro.dropna(subset = ['BVMTtrial1', 'BVMTdelay']).head(),\n",
    "                            mapping = {'BVMTtrial1': 'trial1',\n",
    "                                       'BVMTtrial2': 'trial2',\n",
    "                                       'BVMTtrial3': 'trial3',\n",
    "                                       'BVMTdelay': 'delay',\n",
    "                                       'BVMThits': 'hits',\n",
    "                                       'BVMTfalsepos': 'false_pos',\n",
    "                                       'Age': 'age'})\n"
   ],
   "metadata": {
    "collapsed": false,
    "pycharm": {
     "name": "#%%\n"
    }
   }
  },
  {
   "cell_type": "markdown",
   "source": [
    "The `norman` set regression norms have also been created in the same format.\n"
   ],
   "metadata": {
    "collapsed": false,
    "pycharm": {
     "name": "#%% md\n"
    }
   }
  },
  {
   "cell_type": "code",
   "execution_count": 15,
   "outputs": [
    {
     "name": "stdout",
     "output_type": "stream",
     "text": [
      "Taking: delay:8, false_pos:2, gender:male, hits:6, race:AA, trial1:5, trial2:6, trial3:7\n",
      "Used Equation: trial1+trial2+trial3 = 18 = immediate\n",
      "Aggregation: max [trial2, trial3]  = 7\n",
      "Used Equation: delay/retention_denom = 1.1428571428571428 = retention\n",
      "Clipped retention to [0, 1]\n",
      "Used Equation: hits-false_pos = 4 = recognition\n",
      "gender:male -> norman_gender:0\n",
      "race:AA -> norman_race:1\n",
      "delay matched 8, scaled to 7\n",
      "immediate matched 16, scaled to 6\n",
      "Resulting in: delay_scaled:7, immediate:18, immediate_scaled:6, norman_gender:0, norman_race:1, recognition:4, retention:1.0, retention_denom:7\n"
     ]
    }
   ],
   "source": [
    "path = 'data/norms/norman/norman_scaling.yaml'\n",
    "norman_scale = TestCalculator.from_config(yaml.full_load(open(path)))\n",
    "\n",
    "DATA['gender'] = 'male'\n",
    "DATA['race'] = 'AA'\n",
    "\n",
    "norman_scaled_calc = bvmt_calc + norman_scale\n",
    "norman_scaled_calc.explain(DATA)\n",
    "\n"
   ],
   "metadata": {
    "collapsed": false,
    "pycharm": {
     "name": "#%%\n"
    }
   }
  },
  {
   "cell_type": "code",
   "execution_count": 14,
   "outputs": [
    {
     "name": "stdout",
     "output_type": "stream",
     "text": [
      "Taking: age:32, delay:8, education:6, false_pos:2, gender:male, hits:6, race:AA, trial1:5, trial2:6, trial3:7\n",
      "Used Equation: trial1+trial2+trial3 = 18 = immediate\n",
      "Aggregation: max [trial2, trial3]  = 7\n",
      "Used Equation: delay/retention_denom = 1.1428571428571428 = retention\n",
      "Clipped retention to [0, 1]\n",
      "Used Equation: hits-false_pos = 4 = recognition\n",
      "gender:male -> norman_gender:0\n",
      "race:AA -> norman_race:1\n",
      "delay matched 8, scaled to 7\n",
      "immediate matched 16, scaled to 6\n",
      "Matched (norman_race == 1) & ((age >= 18) & (age <= 66)), applied ((immediate_scaled-(0.2834*(education-13.86)+(-0.1125)*(age-40.63)+1.0394*norman_gender + 8.0679))/2.5701)*10 + 50 = -0.31564958561923645\n",
      "Matched (norman_race == 1) & ((age >= 18) & (age <= 66)), applied ((delay_scaled-(0.2267*(education-13.86) + (-0.1262)*(age-40.63) + 0.8593*norman_gender + 7.691))/2.5197)*10 + 50 = 0.0006969083621065408\n",
      "Resulting in: delay_scaled:7, immediate:18, immediate_scaled:6, norman_delay:0.0006969083621065408, norman_gender:0, norman_immediate:-0.31564958561923645, norman_race:1, recognition:4, retention:1.0, retention_denom:7\n"
     ]
    }
   ],
   "source": [
    "reg_calc = TestCalculator.from_config(yaml.full_load(open('data/norms/norman/norman_bvmt_regnorm.yaml')))\n",
    "\n",
    "full_norman = norman_scaled_calc + reg_calc\n",
    "DATA['education'] = 6\n",
    "DATA['age'] = 32\n",
    "\n",
    "full_norman.explain(DATA)\n",
    "\n",
    "#reg_calc.operations[0].regressions[1]['filter']"
   ],
   "metadata": {
    "collapsed": false,
    "pycharm": {
     "name": "#%%\n"
    }
   }
  },
  {
   "cell_type": "markdown",
   "source": [
    "And then we can do the full collection across the whole dataset easily."
   ],
   "metadata": {
    "collapsed": false,
    "pycharm": {
     "name": "#%% md\n"
    }
   }
  },
  {
   "cell_type": "code",
   "execution_count": 22,
   "outputs": [
    {
     "data": {
      "text/plain": "                      heaton_immediate  heaton_retention  heaton_delay  \\\nVisitDate  PatientID                                                     \n2013-10-03 A0165             -0.679035         -0.917898     -1.215962   \n2013-10-08 A0127             -0.493506         -3.107280     -1.215962   \n           A0164             -0.998106          0.711744     -0.882927   \n2013-10-10 A0421              0.172727         -1.010536     -0.622727   \n2013-10-15 A0067             -2.856016          0.776084     -2.763158   \n\n                      heaton_recognition  norman_immediate  norman_delay  \nVisitDate  PatientID                                                      \n2013-10-03 A0165               -1.954545          0.725010      0.169685  \n2013-10-08 A0127                0.318182          0.283938     -0.190199  \n           A0164               -2.948276         -0.147251      0.086104  \n2013-10-10 A0421                0.166667          1.157873      0.616643  \n2013-10-15 A0067               -8.142857         -0.878313     -0.798525  ",
      "text/html": "<div>\n<style scoped>\n    .dataframe tbody tr th:only-of-type {\n        vertical-align: middle;\n    }\n\n    .dataframe tbody tr th {\n        vertical-align: top;\n    }\n\n    .dataframe thead th {\n        text-align: right;\n    }\n</style>\n<table border=\"1\" class=\"dataframe\">\n  <thead>\n    <tr style=\"text-align: right;\">\n      <th></th>\n      <th></th>\n      <th>heaton_immediate</th>\n      <th>heaton_retention</th>\n      <th>heaton_delay</th>\n      <th>heaton_recognition</th>\n      <th>norman_immediate</th>\n      <th>norman_delay</th>\n    </tr>\n    <tr>\n      <th>VisitDate</th>\n      <th>PatientID</th>\n      <th></th>\n      <th></th>\n      <th></th>\n      <th></th>\n      <th></th>\n      <th></th>\n    </tr>\n  </thead>\n  <tbody>\n    <tr>\n      <th>2013-10-03</th>\n      <th>A0165</th>\n      <td>-0.679035</td>\n      <td>-0.917898</td>\n      <td>-1.215962</td>\n      <td>-1.954545</td>\n      <td>0.725010</td>\n      <td>0.169685</td>\n    </tr>\n    <tr>\n      <th rowspan=\"2\" valign=\"top\">2013-10-08</th>\n      <th>A0127</th>\n      <td>-0.493506</td>\n      <td>-3.107280</td>\n      <td>-1.215962</td>\n      <td>0.318182</td>\n      <td>0.283938</td>\n      <td>-0.190199</td>\n    </tr>\n    <tr>\n      <th>A0164</th>\n      <td>-0.998106</td>\n      <td>0.711744</td>\n      <td>-0.882927</td>\n      <td>-2.948276</td>\n      <td>-0.147251</td>\n      <td>0.086104</td>\n    </tr>\n    <tr>\n      <th>2013-10-10</th>\n      <th>A0421</th>\n      <td>0.172727</td>\n      <td>-1.010536</td>\n      <td>-0.622727</td>\n      <td>0.166667</td>\n      <td>1.157873</td>\n      <td>0.616643</td>\n    </tr>\n    <tr>\n      <th>2013-10-15</th>\n      <th>A0067</th>\n      <td>-2.856016</td>\n      <td>0.776084</td>\n      <td>-2.763158</td>\n      <td>-8.142857</td>\n      <td>-0.878313</td>\n      <td>-0.798525</td>\n    </tr>\n  </tbody>\n</table>\n</div>"
     },
     "execution_count": 22,
     "metadata": {},
     "output_type": "execute_result"
    }
   ],
   "source": [
    "full_norman_heaton = bvmt_calc + heaton_bvmt_calc + norman_scale + reg_calc\n",
    "\n",
    "\n",
    "processed_data = full_norman_heaton.process_dataframe(all_neuro.dropna(subset = ['BVMTtrial1', 'BVMTdelay']),\n",
    "                            mapping = {'BVMTtrial1': 'trial1',\n",
    "                                       'BVMTtrial2': 'trial2',\n",
    "                                       'BVMTtrial3': 'trial3',\n",
    "                                       'BVMTdelay': 'delay',\n",
    "                                       'BVMThits': 'hits',\n",
    "                                       'BVMTfalsepos': 'false_pos',\n",
    "                                       'Sex': 'gender',\n",
    "                                       'Race': 'race',\n",
    "                                       'Education': 'education',\n",
    "                                       'Age': 'age'})\n",
    "\n",
    "processed_data[['heaton_immediate', 'heaton_retention', 'heaton_delay', 'heaton_recognition',\n",
    "                'norman_immediate', 'norman_delay']].head()"
   ],
   "metadata": {
    "collapsed": false,
    "pycharm": {
     "name": "#%%\n"
    }
   }
  },
  {
   "cell_type": "markdown",
   "source": [
    "Awesome, pretty easy and only a few loading commands to do a whole analysis.\n"
   ],
   "metadata": {
    "collapsed": false,
    "pycharm": {
     "name": "#%% md\n"
    }
   }
  },
  {
   "cell_type": "code",
   "execution_count": 14,
   "outputs": [],
   "source": [],
   "metadata": {
    "collapsed": false,
    "pycharm": {
     "name": "#%%\n"
    }
   }
  }
 ],
 "metadata": {
  "kernelspec": {
   "display_name": "Python 3",
   "language": "python",
   "name": "python3"
  },
  "language_info": {
   "codemirror_mode": {
    "name": "ipython",
    "version": 2
   },
   "file_extension": ".py",
   "mimetype": "text/x-python",
   "name": "python",
   "nbconvert_exporter": "python",
   "pygments_lexer": "ipython2",
   "version": "2.7.6"
  }
 },
 "nbformat": 4,
 "nbformat_minor": 0
}