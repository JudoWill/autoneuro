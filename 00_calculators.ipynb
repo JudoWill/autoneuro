{
 "cells": [
  {
   "cell_type": "code",
   "execution_count": 1,
   "metadata": {
    "collapsed": true
   },
   "outputs": [],
   "source": [
    "# default_exp calculators"
   ]
  },
  {
   "cell_type": "code",
   "execution_count": 2,
   "outputs": [],
   "source": [
    "#export\n",
    "import pandas as pd\n",
    "import numpy as np\n",
    "import matplotlib.pyplot as plt\n",
    "import seaborn as sbn\n",
    "import numexpr as ne\n",
    "\n"
   ],
   "metadata": {
    "collapsed": false,
    "pycharm": {
     "name": "#%%\n"
    }
   }
  },
  {
   "cell_type": "markdown",
   "source": [
    "This is a slightly different approach to try. What about making a set of \"calculators\". It\n",
    "\n",
    "In the abstract, an `AbstractCalculator` contains a set of expected fields and operations for calculating resulting values.\n",
    "With these it can manage creating descriptions of how the fields are manipulated through a set of `AbstractOperation`s.\n",
    "It can handle processing the relavant values from dataframes.\n",
    "Then, it can manage the visualization of both an interactive calculator and cohort visualization."
   ],
   "metadata": {
    "collapsed": false
   }
  },
  {
   "cell_type": "code",
   "execution_count": 3,
   "outputs": [],
   "source": [
    "from nbdev.showdoc import *\n",
    "\n",
    "\n",
    "%load_ext autoreload\n",
    "%autoreload 2"
   ],
   "metadata": {
    "collapsed": false,
    "pycharm": {
     "name": "#%%\n"
    }
   }
  },
  {
   "cell_type": "code",
   "execution_count": 66,
   "outputs": [],
   "source": [
    "#export\n",
    "class AbstractCalculator(object):\n",
    "    fields = []\n",
    "    operations = []\n",
    "    inferred_cols = []\n",
    "\n",
    "    def __init__(self, name, operations):\n",
    "        \"\"\"\n",
    "\n",
    "        Parameters\n",
    "        ----------\n",
    "        fields : list[str]\n",
    "        transforms : list[AbstractOperation]\n",
    "        \"\"\"\n",
    "\n",
    "        self.name = name\n",
    "        self.operations = operations\n",
    "\n",
    "        fields = sum((op.fields for op in operations), start = [])\n",
    "        fields = set(fields)\n",
    "\n",
    "        inferred = sum((op.result_fields for op in operations), start = [])\n",
    "        inferred = set(inferred)\n",
    "\n",
    "        self.fields = sorted(fields-inferred)\n",
    "        self.inferred_cols = sorted(inferred)\n",
    "\n",
    "    def to_series(self, row):\n",
    "\n",
    "        series = pd.Series(dict((field, row.get(field)) for field in self.fields))\n",
    "        return series\n",
    "    \n",
    "    def explain(self, row):\n",
    "\n",
    "        ins = [f'{f}:{row[f]}' for f in self.fields]\n",
    "        print('Taking:', ', '.join(ins))\n",
    "\n",
    "        res = self.process_single(row, explain=True)\n",
    "        outs = [f'{f}:{res[f]}' for f in self.inferred_cols]\n",
    "        print('Resulting in:', ', '.join(outs))\n",
    "\n",
    "    def __add__(self, other):\n",
    "\n",
    "        return AbstractCalculator(self.name, self.operations+other.operations)\n",
    "\n",
    "    def process_single(self, row, explain=False):\n",
    "        \"\"\"\n",
    "\n",
    "        Parameters\n",
    "        ----------\n",
    "        row : pd.Series,dict\n",
    "        explain : bool\n",
    "\n",
    "        Returns\n",
    "        -------\n",
    "\n",
    "        \"\"\"\n",
    "\n",
    "        data = self.to_series(row)\n",
    "        if self.operations:\n",
    "            for operation in self.operations:\n",
    "                for field, val in operation(data):\n",
    "                    data[field] = val\n",
    "                if explain:\n",
    "                    print(operation.explain(data))\n",
    "\n",
    "            #print(data)\n",
    "        return pd.Series(data)\n",
    "\n",
    "\n",
    "    def process_dataframe(self, df, mapping = None):\n",
    "        \"\"\"\n",
    "\n",
    "        Parameters\n",
    "        ----------\n",
    "        df : pd.DataFrame\n",
    "        mapping : dict\n",
    "        Returns\n",
    "        -------\n",
    "        pd.DataFrame\n",
    "\n",
    "        \"\"\"\n",
    "\n",
    "        if mapping is not None:\n",
    "            clean_data = df.rename(columns=mapping)\n",
    "        else:\n",
    "            clean_data = df\n",
    "\n",
    "        #print(clean_data[self.fields])\n",
    "\n",
    "        res = clean_data.apply(self.process_single, axis=1)\n",
    "        return res\n"
   ],
   "metadata": {
    "collapsed": false,
    "pycharm": {
     "name": "#%%\n"
    }
   }
  },
  {
   "cell_type": "code",
   "execution_count": 113,
   "outputs": [],
   "source": [
    "#export\n",
    "class AbstractOperation(object):\n",
    "\n",
    "    fields = []\n",
    "    result_fields = []\n",
    "\n",
    "    @staticmethod\n",
    "    def from_config(config):\n",
    "        op_classes = [EquationOperation,\n",
    "                      AggregationOperation,\n",
    "                      ClipOperation,\n",
    "                      NormativeLookup,\n",
    "                      BinnedScalingOperator,\n",
    "                      RegressionNormOperator]\n",
    "\n",
    "        for op_class in op_classes:\n",
    "            op = op_class.from_config(config)\n",
    "            if op is not None:\n",
    "                return op\n",
    "        raise NotImplementedError(f'Did not understand type: {config[\"type\"]}')\n",
    "        #return None\n",
    "\n",
    "    def process_single(self, row):\n",
    "        raise NotImplementedError\n",
    "\n",
    "    def explain(self, row):\n",
    "        raise NotImplementedError\n",
    "\n",
    "\n",
    "    def to_series(self, row):\n",
    "\n",
    "        series = pd.Series(dict((field, row.get(field)) for field in self.fields))\n",
    "        return series\n",
    "\n",
    "    def __call__(self, row):\n",
    "\n",
    "        res = self.process_single(row)\n",
    "        yield self.result_fields[0], res"
   ],
   "metadata": {
    "collapsed": false,
    "pycharm": {
     "name": "#%%\n"
    }
   }
  },
  {
   "cell_type": "markdown",
   "source": [
    "Again, we'll uss the BVMT test as the example.\n",
    "But we're going to back up a step. Since there are a bunch of different intermediate values, I want to calculate those using operations.\n",
    "We'll also want these easily defined in yaml, so, I'm using the `numexpr` library to allow easy filtering."
   ],
   "metadata": {
    "collapsed": false,
    "pycharm": {
     "name": "#%% md\n"
    }
   }
  },
  {
   "cell_type": "code",
   "execution_count": 114,
   "outputs": [],
   "source": [
    "#export\n",
    "\n",
    "class EquationOperation(AbstractOperation):\n",
    "\n",
    "    def __init__(self, out_field, equation, fields):\n",
    "\n",
    "        self.fields = fields\n",
    "        self.equation = equation\n",
    "        self.result_fields = [out_field]\n",
    "\n",
    "    @staticmethod\n",
    "    def from_config(config):\n",
    "        if config['type'] == 'equation':\n",
    "            return EquationOperation(config['out_field'],\n",
    "                                     config['equation'],\n",
    "                                     config['fields'])\n",
    "        return None\n",
    "\n",
    "    def explain(self, row):\n",
    "        res = self.process_single(row)\n",
    "        return f'Used Equation: {self.equation} = {res} = {self.result_fields[0]}'\n",
    "\n",
    "    def process_single(self, row):\n",
    "\n",
    "        data = self.to_series(row)\n",
    "        #print(data)\n",
    "        if data.notnull().all():\n",
    "            res = ne.evaluate(self.equation, local_dict=data)\n",
    "        else:\n",
    "            res = np.nan\n",
    "        return res"
   ],
   "metadata": {
    "collapsed": false,
    "pycharm": {
     "name": "#%%\n"
    }
   }
  },
  {
   "cell_type": "code",
   "execution_count": 115,
   "outputs": [
    {
     "name": "stdout",
     "output_type": "stream",
     "text": [
      "Used Equation: trial1+trial2+trial3 = 18 = immediate\n"
     ]
    }
   ],
   "source": [
    "\n",
    "row = {'trial1': 5, 'trial2': 6, 'trial3': 7,\n",
    "       'delay': 7, 'hits': 6, 'false_pos': 2,\n",
    "       'copy': 12}\n",
    "\n",
    "total_op = EquationOperation('immediate', 'trial1+trial2+trial3', row.keys())\n",
    "immed = total_op.process_single(row)\n",
    "\n",
    "assert immed == 18\n",
    "print(total_op.explain(row))"
   ],
   "metadata": {
    "collapsed": false,
    "pycharm": {
     "name": "#%%\n"
    }
   }
  },
  {
   "cell_type": "markdown",
   "source": [
    "Because of numexpr limitations if we want to do reductions, we'll need another type."
   ],
   "metadata": {
    "collapsed": false,
    "pycharm": {
     "name": "#%% md\n"
    }
   }
  },
  {
   "cell_type": "code",
   "execution_count": 116,
   "outputs": [],
   "source": [
    "class AggregationOperation(AbstractOperation):\n",
    "\n",
    "    def __init__(self, out_field, aggregation, fields):\n",
    "\n",
    "        self.fields = fields\n",
    "        self.aggregation = aggregation\n",
    "        self.result_fields = [out_field]\n",
    "\n",
    "    @staticmethod\n",
    "    def from_config(config):\n",
    "        if config['type'] == 'agg':\n",
    "            return AggregationOperation(config['out_field'],\n",
    "                                     config['method'],\n",
    "                                     config['fields'])\n",
    "        return None\n",
    "\n",
    "    def explain(self, row):\n",
    "        res = self.process_single(row)\n",
    "        return f'Aggregation: {self.aggregation} [{\", \".join(self.fields)}]  = {res}'\n",
    "\n",
    "    def process_single(self, row):\n",
    "\n",
    "        data = self.to_series(row)\n",
    "        return data.agg(self.aggregation)\n",
    "\n",
    "\n",
    "class ClipOperation(AbstractOperation):\n",
    "    def __init__(self, field, lower = 0, upper=1):\n",
    "\n",
    "        self.fields = [field]\n",
    "        self.lower = lower\n",
    "        self.upper = upper\n",
    "        self.result_fields = [field]\n",
    "\n",
    "    @staticmethod\n",
    "    def from_config(config):\n",
    "        if config['type'] == 'clip':\n",
    "            return ClipOperation(config['field'],\n",
    "                                 lower = config['lower'],\n",
    "                                 upper = config['upper'])\n",
    "        return None\n",
    "\n",
    "    def explain(self, row):\n",
    "        return f'Clipped {self.fields[0]} to [{self.lower}, {self.upper}]'\n",
    "\n",
    "    def process_single(self, row):\n",
    "\n",
    "        data = self.to_series(row)\n",
    "        clipped = data.clip(lower=self.lower, upper=self.upper)\n",
    "        return clipped[self.result_fields[0]]\n"
   ],
   "metadata": {
    "collapsed": false,
    "pycharm": {
     "name": "#%%\n"
    }
   }
  },
  {
   "cell_type": "code",
   "execution_count": 117,
   "outputs": [],
   "source": [
    "class TestCalculcator(AbstractCalculator):\n",
    "\n",
    "    def __init__(self, name, operations):\n",
    "        super().__init__(name, operations)\n",
    "\n",
    "    @staticmethod\n",
    "    def from_config(config):\n",
    "        name = config['short_name']\n",
    "        ops = [AbstractOperation.from_config(c) for c in config['operations']]\n",
    "        return TestCalculcator(name, ops)\n",
    "\n"
   ],
   "metadata": {
    "collapsed": false,
    "pycharm": {
     "name": "#%%\n"
    }
   }
  },
  {
   "cell_type": "code",
   "execution_count": 118,
   "outputs": [
    {
     "ename": "NameError",
     "evalue": "name 'RegressionNormOperator' is not defined",
     "output_type": "error",
     "traceback": [
      "\u001B[0;31m---------------------------------------------------------------------------\u001B[0m",
      "\u001B[0;31mNameError\u001B[0m                                 Traceback (most recent call last)",
      "\u001B[0;32m<ipython-input-118-15d0ff1b4471>\u001B[0m in \u001B[0;36m<module>\u001B[0;34m\u001B[0m\n\u001B[1;32m      1\u001B[0m \u001B[0;32mimport\u001B[0m \u001B[0myaml\u001B[0m\u001B[0;34m\u001B[0m\u001B[0;34m\u001B[0m\u001B[0m\n\u001B[1;32m      2\u001B[0m \u001B[0;34m\u001B[0m\u001B[0m\n\u001B[0;32m----> 3\u001B[0;31m \u001B[0mbvmt_calc\u001B[0m \u001B[0;34m=\u001B[0m \u001B[0mTestCalculcator\u001B[0m\u001B[0;34m.\u001B[0m\u001B[0mfrom_config\u001B[0m\u001B[0;34m(\u001B[0m\u001B[0myaml\u001B[0m\u001B[0;34m.\u001B[0m\u001B[0mfull_load\u001B[0m\u001B[0;34m(\u001B[0m\u001B[0mopen\u001B[0m\u001B[0;34m(\u001B[0m\u001B[0;34m'data/test_calculators/BVMT.yaml'\u001B[0m\u001B[0;34m)\u001B[0m\u001B[0;34m)\u001B[0m\u001B[0;34m)\u001B[0m\u001B[0;34m\u001B[0m\u001B[0;34m\u001B[0m\u001B[0m\n\u001B[0m\u001B[1;32m      4\u001B[0m \u001B[0mbvmt_calc\u001B[0m\u001B[0;34m.\u001B[0m\u001B[0mexplain\u001B[0m\u001B[0;34m(\u001B[0m\u001B[0mrow\u001B[0m\u001B[0;34m)\u001B[0m\u001B[0;34m\u001B[0m\u001B[0;34m\u001B[0m\u001B[0m\n\u001B[1;32m      5\u001B[0m \u001B[0;34m\u001B[0m\u001B[0m\n",
      "\u001B[0;32m<ipython-input-117-95c597510e5e>\u001B[0m in \u001B[0;36mfrom_config\u001B[0;34m(config)\u001B[0m\n\u001B[1;32m      7\u001B[0m     \u001B[0;32mdef\u001B[0m \u001B[0mfrom_config\u001B[0m\u001B[0;34m(\u001B[0m\u001B[0mconfig\u001B[0m\u001B[0;34m)\u001B[0m\u001B[0;34m:\u001B[0m\u001B[0;34m\u001B[0m\u001B[0;34m\u001B[0m\u001B[0m\n\u001B[1;32m      8\u001B[0m         \u001B[0mname\u001B[0m \u001B[0;34m=\u001B[0m \u001B[0mconfig\u001B[0m\u001B[0;34m[\u001B[0m\u001B[0;34m'short_name'\u001B[0m\u001B[0;34m]\u001B[0m\u001B[0;34m\u001B[0m\u001B[0;34m\u001B[0m\u001B[0m\n\u001B[0;32m----> 9\u001B[0;31m         \u001B[0mops\u001B[0m \u001B[0;34m=\u001B[0m \u001B[0;34m[\u001B[0m\u001B[0mAbstractOperation\u001B[0m\u001B[0;34m.\u001B[0m\u001B[0mfrom_config\u001B[0m\u001B[0;34m(\u001B[0m\u001B[0mc\u001B[0m\u001B[0;34m)\u001B[0m \u001B[0;32mfor\u001B[0m \u001B[0mc\u001B[0m \u001B[0;32min\u001B[0m \u001B[0mconfig\u001B[0m\u001B[0;34m[\u001B[0m\u001B[0;34m'operations'\u001B[0m\u001B[0;34m]\u001B[0m\u001B[0;34m]\u001B[0m\u001B[0;34m\u001B[0m\u001B[0;34m\u001B[0m\u001B[0m\n\u001B[0m\u001B[1;32m     10\u001B[0m         \u001B[0;32mreturn\u001B[0m \u001B[0mTestCalculcator\u001B[0m\u001B[0;34m(\u001B[0m\u001B[0mname\u001B[0m\u001B[0;34m,\u001B[0m \u001B[0mops\u001B[0m\u001B[0;34m)\u001B[0m\u001B[0;34m\u001B[0m\u001B[0;34m\u001B[0m\u001B[0m\n\u001B[1;32m     11\u001B[0m \u001B[0;34m\u001B[0m\u001B[0m\n",
      "\u001B[0;32m<ipython-input-117-95c597510e5e>\u001B[0m in \u001B[0;36m<listcomp>\u001B[0;34m(.0)\u001B[0m\n\u001B[1;32m      7\u001B[0m     \u001B[0;32mdef\u001B[0m \u001B[0mfrom_config\u001B[0m\u001B[0;34m(\u001B[0m\u001B[0mconfig\u001B[0m\u001B[0;34m)\u001B[0m\u001B[0;34m:\u001B[0m\u001B[0;34m\u001B[0m\u001B[0;34m\u001B[0m\u001B[0m\n\u001B[1;32m      8\u001B[0m         \u001B[0mname\u001B[0m \u001B[0;34m=\u001B[0m \u001B[0mconfig\u001B[0m\u001B[0;34m[\u001B[0m\u001B[0;34m'short_name'\u001B[0m\u001B[0;34m]\u001B[0m\u001B[0;34m\u001B[0m\u001B[0;34m\u001B[0m\u001B[0m\n\u001B[0;32m----> 9\u001B[0;31m         \u001B[0mops\u001B[0m \u001B[0;34m=\u001B[0m \u001B[0;34m[\u001B[0m\u001B[0mAbstractOperation\u001B[0m\u001B[0;34m.\u001B[0m\u001B[0mfrom_config\u001B[0m\u001B[0;34m(\u001B[0m\u001B[0mc\u001B[0m\u001B[0;34m)\u001B[0m \u001B[0;32mfor\u001B[0m \u001B[0mc\u001B[0m \u001B[0;32min\u001B[0m \u001B[0mconfig\u001B[0m\u001B[0;34m[\u001B[0m\u001B[0;34m'operations'\u001B[0m\u001B[0;34m]\u001B[0m\u001B[0;34m]\u001B[0m\u001B[0;34m\u001B[0m\u001B[0;34m\u001B[0m\u001B[0m\n\u001B[0m\u001B[1;32m     10\u001B[0m         \u001B[0;32mreturn\u001B[0m \u001B[0mTestCalculcator\u001B[0m\u001B[0;34m(\u001B[0m\u001B[0mname\u001B[0m\u001B[0;34m,\u001B[0m \u001B[0mops\u001B[0m\u001B[0;34m)\u001B[0m\u001B[0;34m\u001B[0m\u001B[0;34m\u001B[0m\u001B[0m\n\u001B[1;32m     11\u001B[0m \u001B[0;34m\u001B[0m\u001B[0m\n",
      "\u001B[0;32m<ipython-input-113-99fa309cee37>\u001B[0m in \u001B[0;36mfrom_config\u001B[0;34m(config)\u001B[0m\n\u001B[1;32m     12\u001B[0m                       \u001B[0mNormativeLookup\u001B[0m\u001B[0;34m,\u001B[0m\u001B[0;34m\u001B[0m\u001B[0;34m\u001B[0m\u001B[0m\n\u001B[1;32m     13\u001B[0m                       \u001B[0mBinnedScalingOperator\u001B[0m\u001B[0;34m,\u001B[0m\u001B[0;34m\u001B[0m\u001B[0;34m\u001B[0m\u001B[0m\n\u001B[0;32m---> 14\u001B[0;31m                       RegressionNormOperator]\n\u001B[0m\u001B[1;32m     15\u001B[0m \u001B[0;34m\u001B[0m\u001B[0m\n\u001B[1;32m     16\u001B[0m         \u001B[0;32mfor\u001B[0m \u001B[0mop_class\u001B[0m \u001B[0;32min\u001B[0m \u001B[0mop_classes\u001B[0m\u001B[0;34m:\u001B[0m\u001B[0;34m\u001B[0m\u001B[0;34m\u001B[0m\u001B[0m\n",
      "\u001B[0;31mNameError\u001B[0m: name 'RegressionNormOperator' is not defined"
     ]
    }
   ],
   "source": [
    "import yaml\n",
    "\n",
    "bvmt_calc = TestCalculcator.from_config(yaml.full_load(open('data/test_calculators/BVMT.yaml')))\n",
    "bvmt_calc.explain(row)"
   ],
   "metadata": {
    "collapsed": false,
    "pycharm": {
     "name": "#%%\n"
    }
   }
  },
  {
   "cell_type": "code",
   "execution_count": null,
   "outputs": [],
   "source": [
    "tdf = pd.DataFrame([row]*5)\n",
    "bvmt_calc.process_dataframe(tdf)"
   ],
   "metadata": {
    "collapsed": false,
    "pycharm": {
     "name": "#%%\n"
    }
   }
  },
  {
   "cell_type": "code",
   "execution_count": null,
   "outputs": [],
   "source": [
    "all_neuro = pd.read_excel('data/neuro_data.xlsx',\n",
    "                          na_values=['na', '-', 'nd']).groupby(['VisitDate', 'PatientID']).first()\n",
    "all_neuro.head()"
   ],
   "metadata": {
    "collapsed": false,
    "pycharm": {
     "name": "#%%\n"
    }
   }
  },
  {
   "cell_type": "code",
   "execution_count": 119,
   "outputs": [
    {
     "data": {
      "text/plain": "                      delay  false_pos  hits  trial1  trial2  trial3  \\\nVisitDate  PatientID                                                   \n2013-10-03 A0165        6.0        0.0   5.0     6.0     6.0     7.0   \n2013-10-08 A0127        6.0        0.0   6.0     5.0     6.0     9.0   \n           A0164        7.0        2.0   6.0     5.0     6.0     7.0   \n2013-10-10 A0421        7.0        0.0   6.0     6.0     8.0     9.0   \n2013-10-15 A0067        4.0        1.0   4.0     2.0     4.0     4.0   \n\n                     immediate  retention_denom retention recognition  \nVisitDate  PatientID                                                   \n2013-10-03 A0165          19.0              6.0       1.0         5.0  \n2013-10-08 A0127          20.0              6.0       1.0         6.0  \n           A0164          18.0              6.0         1         4.0  \n2013-10-10 A0421          23.0              8.0     0.875         6.0  \n2013-10-15 A0067          10.0              4.0       1.0         3.0  ",
      "text/html": "<div>\n<style scoped>\n    .dataframe tbody tr th:only-of-type {\n        vertical-align: middle;\n    }\n\n    .dataframe tbody tr th {\n        vertical-align: top;\n    }\n\n    .dataframe thead th {\n        text-align: right;\n    }\n</style>\n<table border=\"1\" class=\"dataframe\">\n  <thead>\n    <tr style=\"text-align: right;\">\n      <th></th>\n      <th></th>\n      <th>delay</th>\n      <th>false_pos</th>\n      <th>hits</th>\n      <th>trial1</th>\n      <th>trial2</th>\n      <th>trial3</th>\n      <th>immediate</th>\n      <th>retention_denom</th>\n      <th>retention</th>\n      <th>recognition</th>\n    </tr>\n    <tr>\n      <th>VisitDate</th>\n      <th>PatientID</th>\n      <th></th>\n      <th></th>\n      <th></th>\n      <th></th>\n      <th></th>\n      <th></th>\n      <th></th>\n      <th></th>\n      <th></th>\n      <th></th>\n    </tr>\n  </thead>\n  <tbody>\n    <tr>\n      <th>2013-10-03</th>\n      <th>A0165</th>\n      <td>6.0</td>\n      <td>0.0</td>\n      <td>5.0</td>\n      <td>6.0</td>\n      <td>6.0</td>\n      <td>7.0</td>\n      <td>19.0</td>\n      <td>6.0</td>\n      <td>1.0</td>\n      <td>5.0</td>\n    </tr>\n    <tr>\n      <th rowspan=\"2\" valign=\"top\">2013-10-08</th>\n      <th>A0127</th>\n      <td>6.0</td>\n      <td>0.0</td>\n      <td>6.0</td>\n      <td>5.0</td>\n      <td>6.0</td>\n      <td>9.0</td>\n      <td>20.0</td>\n      <td>6.0</td>\n      <td>1.0</td>\n      <td>6.0</td>\n    </tr>\n    <tr>\n      <th>A0164</th>\n      <td>7.0</td>\n      <td>2.0</td>\n      <td>6.0</td>\n      <td>5.0</td>\n      <td>6.0</td>\n      <td>7.0</td>\n      <td>18.0</td>\n      <td>6.0</td>\n      <td>1</td>\n      <td>4.0</td>\n    </tr>\n    <tr>\n      <th>2013-10-10</th>\n      <th>A0421</th>\n      <td>7.0</td>\n      <td>0.0</td>\n      <td>6.0</td>\n      <td>6.0</td>\n      <td>8.0</td>\n      <td>9.0</td>\n      <td>23.0</td>\n      <td>8.0</td>\n      <td>0.875</td>\n      <td>6.0</td>\n    </tr>\n    <tr>\n      <th>2013-10-15</th>\n      <th>A0067</th>\n      <td>4.0</td>\n      <td>1.0</td>\n      <td>4.0</td>\n      <td>2.0</td>\n      <td>4.0</td>\n      <td>4.0</td>\n      <td>10.0</td>\n      <td>4.0</td>\n      <td>1.0</td>\n      <td>3.0</td>\n    </tr>\n  </tbody>\n</table>\n</div>"
     },
     "execution_count": 119,
     "metadata": {},
     "output_type": "execute_result"
    }
   ],
   "source": [
    "bvmt_calc.process_dataframe(all_neuro.dropna(subset = ['BVMTtrial1', 'BVMTdelay']).head(),\n",
    "                            mapping = {'BVMTtrial1': 'trial1',\n",
    "                                       'BVMTtrial2': 'trial2',\n",
    "                                       'BVMTtrial3': 'trial3',\n",
    "                                       'BVMTdelay': 'delay',\n",
    "                                       'BVMThits': 'hits',\n",
    "                                       'BVMTfalsepos': 'false_pos'})"
   ],
   "metadata": {
    "collapsed": false,
    "pycharm": {
     "name": "#%%\n"
    }
   }
  },
  {
   "cell_type": "markdown",
   "source": [
    "Awesome, a generic method for aggregating tests.\n",
    "Can we then follow this with another normalization scheme."
   ],
   "metadata": {
    "collapsed": false,
    "pycharm": {
     "name": "#%% md\n"
    }
   }
  },
  {
   "cell_type": "code",
   "execution_count": 120,
   "outputs": [],
   "source": [
    "#export\n",
    "\n",
    "class NormativeLookup(AbstractOperation):\n",
    "\n",
    "    def __init__(self, lookup_table, filter_cols, measure_col, out_name):\n",
    "\n",
    "        self.lookup_table = lookup_table\n",
    "        self.filter_cols = filter_cols\n",
    "        self.fields = filter_cols + [measure_col]\n",
    "        self.result_fields = [out_name]\n",
    "        self.measure_col = measure_col\n",
    "\n",
    "    @staticmethod\n",
    "    def from_config(config):\n",
    "\n",
    "        if config['type'] == 'normative_lookup':\n",
    "\n",
    "            return NormativeLookup(config['table'],\n",
    "                                   config['filter_cols'],\n",
    "                                   config['measure_col'],\n",
    "                                   config['out_name'])\n",
    "        return None\n",
    "\n",
    "    def lookup_norm(self, row):\n",
    "\n",
    "        data = self.to_series(row)\n",
    "        for filt in self.lookup_table:\n",
    "            if ne.evaluate(filt['filter'], local_dict=data):\n",
    "                return filt['filter'], filt['mean'], filt['std']\n",
    "\n",
    "        return None, None, None\n",
    "\n",
    "    def explain(self, row):\n",
    "\n",
    "        flt, mean, std = self.lookup_norm(row)\n",
    "\n",
    "        if flt is None:\n",
    "            data = self.to_series(row)\n",
    "            return f'Could not find matching filter for {data[self.filter_cols]}'\n",
    "        else:\n",
    "            return f'Matched {flt}, Expecting {mean} +- {std}'\n",
    "\n",
    "    def process_single(self, row):\n",
    "\n",
    "        data = self.to_series(row)\n",
    "        _, mean, std = self.lookup_norm(data)\n",
    "        if mean is None:\n",
    "            return np.nan\n",
    "        return (data[self.measure_col] - mean)/std\n"
   ],
   "metadata": {
    "collapsed": false,
    "pycharm": {
     "name": "#%%\n"
    }
   }
  },
  {
   "cell_type": "code",
   "execution_count": 121,
   "outputs": [
    {
     "ename": "NameError",
     "evalue": "name 'RegressionNormOperator' is not defined",
     "output_type": "error",
     "traceback": [
      "\u001B[0;31m---------------------------------------------------------------------------\u001B[0m",
      "\u001B[0;31mNameError\u001B[0m                                 Traceback (most recent call last)",
      "\u001B[0;32m<ipython-input-121-d2f1c86a592d>\u001B[0m in \u001B[0;36m<module>\u001B[0;34m\u001B[0m\n\u001B[1;32m      1\u001B[0m \u001B[0mpath\u001B[0m \u001B[0;34m=\u001B[0m \u001B[0;34m'data/norms/from_kate/BVMTR/description.yaml'\u001B[0m\u001B[0;34m\u001B[0m\u001B[0;34m\u001B[0m\u001B[0m\n\u001B[1;32m      2\u001B[0m \u001B[0;34m\u001B[0m\u001B[0m\n\u001B[0;32m----> 3\u001B[0;31m \u001B[0mheaton_bvmt_calc\u001B[0m \u001B[0;34m=\u001B[0m \u001B[0mTestCalculcator\u001B[0m\u001B[0;34m.\u001B[0m\u001B[0mfrom_config\u001B[0m\u001B[0;34m(\u001B[0m\u001B[0myaml\u001B[0m\u001B[0;34m.\u001B[0m\u001B[0mfull_load\u001B[0m\u001B[0;34m(\u001B[0m\u001B[0mopen\u001B[0m\u001B[0;34m(\u001B[0m\u001B[0mpath\u001B[0m\u001B[0;34m)\u001B[0m\u001B[0;34m)\u001B[0m\u001B[0;34m)\u001B[0m\u001B[0;34m\u001B[0m\u001B[0;34m\u001B[0m\u001B[0m\n\u001B[0m\u001B[1;32m      4\u001B[0m \u001B[0;34m\u001B[0m\u001B[0m\n\u001B[1;32m      5\u001B[0m heaton_bvmt_calc.process_single({'Age': 22,\n",
      "\u001B[0;32m<ipython-input-117-95c597510e5e>\u001B[0m in \u001B[0;36mfrom_config\u001B[0;34m(config)\u001B[0m\n\u001B[1;32m      7\u001B[0m     \u001B[0;32mdef\u001B[0m \u001B[0mfrom_config\u001B[0m\u001B[0;34m(\u001B[0m\u001B[0mconfig\u001B[0m\u001B[0;34m)\u001B[0m\u001B[0;34m:\u001B[0m\u001B[0;34m\u001B[0m\u001B[0;34m\u001B[0m\u001B[0m\n\u001B[1;32m      8\u001B[0m         \u001B[0mname\u001B[0m \u001B[0;34m=\u001B[0m \u001B[0mconfig\u001B[0m\u001B[0;34m[\u001B[0m\u001B[0;34m'short_name'\u001B[0m\u001B[0;34m]\u001B[0m\u001B[0;34m\u001B[0m\u001B[0;34m\u001B[0m\u001B[0m\n\u001B[0;32m----> 9\u001B[0;31m         \u001B[0mops\u001B[0m \u001B[0;34m=\u001B[0m \u001B[0;34m[\u001B[0m\u001B[0mAbstractOperation\u001B[0m\u001B[0;34m.\u001B[0m\u001B[0mfrom_config\u001B[0m\u001B[0;34m(\u001B[0m\u001B[0mc\u001B[0m\u001B[0;34m)\u001B[0m \u001B[0;32mfor\u001B[0m \u001B[0mc\u001B[0m \u001B[0;32min\u001B[0m \u001B[0mconfig\u001B[0m\u001B[0;34m[\u001B[0m\u001B[0;34m'operations'\u001B[0m\u001B[0;34m]\u001B[0m\u001B[0;34m]\u001B[0m\u001B[0;34m\u001B[0m\u001B[0;34m\u001B[0m\u001B[0m\n\u001B[0m\u001B[1;32m     10\u001B[0m         \u001B[0;32mreturn\u001B[0m \u001B[0mTestCalculcator\u001B[0m\u001B[0;34m(\u001B[0m\u001B[0mname\u001B[0m\u001B[0;34m,\u001B[0m \u001B[0mops\u001B[0m\u001B[0;34m)\u001B[0m\u001B[0;34m\u001B[0m\u001B[0;34m\u001B[0m\u001B[0m\n\u001B[1;32m     11\u001B[0m \u001B[0;34m\u001B[0m\u001B[0m\n",
      "\u001B[0;32m<ipython-input-117-95c597510e5e>\u001B[0m in \u001B[0;36m<listcomp>\u001B[0;34m(.0)\u001B[0m\n\u001B[1;32m      7\u001B[0m     \u001B[0;32mdef\u001B[0m \u001B[0mfrom_config\u001B[0m\u001B[0;34m(\u001B[0m\u001B[0mconfig\u001B[0m\u001B[0;34m)\u001B[0m\u001B[0;34m:\u001B[0m\u001B[0;34m\u001B[0m\u001B[0;34m\u001B[0m\u001B[0m\n\u001B[1;32m      8\u001B[0m         \u001B[0mname\u001B[0m \u001B[0;34m=\u001B[0m \u001B[0mconfig\u001B[0m\u001B[0;34m[\u001B[0m\u001B[0;34m'short_name'\u001B[0m\u001B[0;34m]\u001B[0m\u001B[0;34m\u001B[0m\u001B[0;34m\u001B[0m\u001B[0m\n\u001B[0;32m----> 9\u001B[0;31m         \u001B[0mops\u001B[0m \u001B[0;34m=\u001B[0m \u001B[0;34m[\u001B[0m\u001B[0mAbstractOperation\u001B[0m\u001B[0;34m.\u001B[0m\u001B[0mfrom_config\u001B[0m\u001B[0;34m(\u001B[0m\u001B[0mc\u001B[0m\u001B[0;34m)\u001B[0m \u001B[0;32mfor\u001B[0m \u001B[0mc\u001B[0m \u001B[0;32min\u001B[0m \u001B[0mconfig\u001B[0m\u001B[0;34m[\u001B[0m\u001B[0;34m'operations'\u001B[0m\u001B[0;34m]\u001B[0m\u001B[0;34m]\u001B[0m\u001B[0;34m\u001B[0m\u001B[0;34m\u001B[0m\u001B[0m\n\u001B[0m\u001B[1;32m     10\u001B[0m         \u001B[0;32mreturn\u001B[0m \u001B[0mTestCalculcator\u001B[0m\u001B[0;34m(\u001B[0m\u001B[0mname\u001B[0m\u001B[0;34m,\u001B[0m \u001B[0mops\u001B[0m\u001B[0;34m)\u001B[0m\u001B[0;34m\u001B[0m\u001B[0;34m\u001B[0m\u001B[0m\n\u001B[1;32m     11\u001B[0m \u001B[0;34m\u001B[0m\u001B[0m\n",
      "\u001B[0;32m<ipython-input-113-99fa309cee37>\u001B[0m in \u001B[0;36mfrom_config\u001B[0;34m(config)\u001B[0m\n\u001B[1;32m     12\u001B[0m                       \u001B[0mNormativeLookup\u001B[0m\u001B[0;34m,\u001B[0m\u001B[0;34m\u001B[0m\u001B[0;34m\u001B[0m\u001B[0m\n\u001B[1;32m     13\u001B[0m                       \u001B[0mBinnedScalingOperator\u001B[0m\u001B[0;34m,\u001B[0m\u001B[0;34m\u001B[0m\u001B[0;34m\u001B[0m\u001B[0m\n\u001B[0;32m---> 14\u001B[0;31m                       RegressionNormOperator]\n\u001B[0m\u001B[1;32m     15\u001B[0m \u001B[0;34m\u001B[0m\u001B[0m\n\u001B[1;32m     16\u001B[0m         \u001B[0;32mfor\u001B[0m \u001B[0mop_class\u001B[0m \u001B[0;32min\u001B[0m \u001B[0mop_classes\u001B[0m\u001B[0;34m:\u001B[0m\u001B[0;34m\u001B[0m\u001B[0;34m\u001B[0m\u001B[0m\n",
      "\u001B[0;31mNameError\u001B[0m: name 'RegressionNormOperator' is not defined"
     ]
    }
   ],
   "source": [
    "path = 'data/norms/from_kate/BVMTR/description.yaml'\n",
    "\n",
    "heaton_bvmt_calc = TestCalculcator.from_config(yaml.full_load(open(path)))\n",
    "\n",
    "heaton_bvmt_calc.process_single({'Age': 22,\n",
    "                                 'immediate': 30,\n",
    "                                 'retention': 0.91,\n",
    "                                 'delay': 11,\n",
    "                                 'recognition': 2})"
   ],
   "metadata": {
    "collapsed": false,
    "pycharm": {
     "name": "#%%\n"
    }
   }
  },
  {
   "cell_type": "code",
   "execution_count": 122,
   "outputs": [
    {
     "data": {
      "text/plain": "                       Age  delay  false_pos  hits  trial1  trial2  trial3  \\\nVisitDate  PatientID                                                         \n2013-10-03 A0165      62.0    6.0        0.0   5.0     6.0     6.0     7.0   \n2013-10-08 A0127      62.0    6.0        0.0   6.0     5.0     6.0     9.0   \n           A0164      56.0    7.0        2.0   6.0     5.0     6.0     7.0   \n2013-10-10 A0421      63.0    7.0        0.0   6.0     6.0     8.0     9.0   \n2013-10-15 A0067      47.0    4.0        1.0   4.0     2.0     4.0     4.0   \n\n                     immediate  retention_denom retention recognition  \\\nVisitDate  PatientID                                                    \n2013-10-03 A0165          19.0              6.0       1.0         5.0   \n2013-10-08 A0127          20.0              6.0       1.0         6.0   \n           A0164          18.0              6.0         1         4.0   \n2013-10-10 A0421          23.0              8.0     0.875         6.0   \n2013-10-15 A0067          10.0              4.0       1.0         3.0   \n\n                      heaton_immediate  heaton_retention  heaton_delay  \\\nVisitDate  PatientID                                                     \n2013-10-03 A0165             -0.679035          0.724138     -1.215962   \n2013-10-08 A0127             -0.493506          0.724138     -1.215962   \n           A0164             -0.998106          0.711744     -0.882927   \n2013-10-10 A0421              0.172727         -0.172414     -0.622727   \n2013-10-15 A0067             -2.856016          0.776084     -2.763158   \n\n                      heaton_recognition  \nVisitDate  PatientID                      \n2013-10-03 A0165               -1.954545  \n2013-10-08 A0127                0.318182  \n           A0164               -2.948276  \n2013-10-10 A0421                0.166667  \n2013-10-15 A0067               -8.142857  ",
      "text/html": "<div>\n<style scoped>\n    .dataframe tbody tr th:only-of-type {\n        vertical-align: middle;\n    }\n\n    .dataframe tbody tr th {\n        vertical-align: top;\n    }\n\n    .dataframe thead th {\n        text-align: right;\n    }\n</style>\n<table border=\"1\" class=\"dataframe\">\n  <thead>\n    <tr style=\"text-align: right;\">\n      <th></th>\n      <th></th>\n      <th>Age</th>\n      <th>delay</th>\n      <th>false_pos</th>\n      <th>hits</th>\n      <th>trial1</th>\n      <th>trial2</th>\n      <th>trial3</th>\n      <th>immediate</th>\n      <th>retention_denom</th>\n      <th>retention</th>\n      <th>recognition</th>\n      <th>heaton_immediate</th>\n      <th>heaton_retention</th>\n      <th>heaton_delay</th>\n      <th>heaton_recognition</th>\n    </tr>\n    <tr>\n      <th>VisitDate</th>\n      <th>PatientID</th>\n      <th></th>\n      <th></th>\n      <th></th>\n      <th></th>\n      <th></th>\n      <th></th>\n      <th></th>\n      <th></th>\n      <th></th>\n      <th></th>\n      <th></th>\n      <th></th>\n      <th></th>\n      <th></th>\n      <th></th>\n    </tr>\n  </thead>\n  <tbody>\n    <tr>\n      <th>2013-10-03</th>\n      <th>A0165</th>\n      <td>62.0</td>\n      <td>6.0</td>\n      <td>0.0</td>\n      <td>5.0</td>\n      <td>6.0</td>\n      <td>6.0</td>\n      <td>7.0</td>\n      <td>19.0</td>\n      <td>6.0</td>\n      <td>1.0</td>\n      <td>5.0</td>\n      <td>-0.679035</td>\n      <td>0.724138</td>\n      <td>-1.215962</td>\n      <td>-1.954545</td>\n    </tr>\n    <tr>\n      <th rowspan=\"2\" valign=\"top\">2013-10-08</th>\n      <th>A0127</th>\n      <td>62.0</td>\n      <td>6.0</td>\n      <td>0.0</td>\n      <td>6.0</td>\n      <td>5.0</td>\n      <td>6.0</td>\n      <td>9.0</td>\n      <td>20.0</td>\n      <td>6.0</td>\n      <td>1.0</td>\n      <td>6.0</td>\n      <td>-0.493506</td>\n      <td>0.724138</td>\n      <td>-1.215962</td>\n      <td>0.318182</td>\n    </tr>\n    <tr>\n      <th>A0164</th>\n      <td>56.0</td>\n      <td>7.0</td>\n      <td>2.0</td>\n      <td>6.0</td>\n      <td>5.0</td>\n      <td>6.0</td>\n      <td>7.0</td>\n      <td>18.0</td>\n      <td>6.0</td>\n      <td>1</td>\n      <td>4.0</td>\n      <td>-0.998106</td>\n      <td>0.711744</td>\n      <td>-0.882927</td>\n      <td>-2.948276</td>\n    </tr>\n    <tr>\n      <th>2013-10-10</th>\n      <th>A0421</th>\n      <td>63.0</td>\n      <td>7.0</td>\n      <td>0.0</td>\n      <td>6.0</td>\n      <td>6.0</td>\n      <td>8.0</td>\n      <td>9.0</td>\n      <td>23.0</td>\n      <td>8.0</td>\n      <td>0.875</td>\n      <td>6.0</td>\n      <td>0.172727</td>\n      <td>-0.172414</td>\n      <td>-0.622727</td>\n      <td>0.166667</td>\n    </tr>\n    <tr>\n      <th>2013-10-15</th>\n      <th>A0067</th>\n      <td>47.0</td>\n      <td>4.0</td>\n      <td>1.0</td>\n      <td>4.0</td>\n      <td>2.0</td>\n      <td>4.0</td>\n      <td>4.0</td>\n      <td>10.0</td>\n      <td>4.0</td>\n      <td>1.0</td>\n      <td>3.0</td>\n      <td>-2.856016</td>\n      <td>0.776084</td>\n      <td>-2.763158</td>\n      <td>-8.142857</td>\n    </tr>\n  </tbody>\n</table>\n</div>"
     },
     "execution_count": 122,
     "metadata": {},
     "output_type": "execute_result"
    }
   ],
   "source": [
    "full_calc = bvmt_calc + heaton_bvmt_calc\n",
    "full_calc.process_dataframe(all_neuro.dropna(subset = ['BVMTtrial1', 'BVMTdelay']).head(),\n",
    "                            mapping = {'BVMTtrial1': 'trial1',\n",
    "                                       'BVMTtrial2': 'trial2',\n",
    "                                       'BVMTtrial3': 'trial3',\n",
    "                                       'BVMTdelay': 'delay',\n",
    "                                       'BVMThits': 'hits',\n",
    "                                       'BVMTfalsepos': 'false_pos'})\n"
   ],
   "metadata": {
    "collapsed": false,
    "pycharm": {
     "name": "#%%\n"
    }
   }
  },
  {
   "cell_type": "code",
   "execution_count": 123,
   "outputs": [],
   "source": [
    "#export\n",
    "\n",
    "class BinnedScalingOperator(AbstractOperation):\n",
    "    def __init__(self, bins, measure_col):\n",
    "\n",
    "        self.fields = [measure_col]\n",
    "        self.result_fields = [measure_col+'_scaled']\n",
    "        self.bins = sorted(bins, key = lambda x: x['min'],\n",
    "                           reverse=True)\n",
    "\n",
    "    @staticmethod\n",
    "    def from_config(config):\n",
    "\n",
    "        if config['type'] == 'binned_scaling':\n",
    "            return BinnedScalingOperator(config['bins'],\n",
    "                                         config['measure_col'])\n",
    "        return None\n",
    "\n",
    "    def lookup_bin(self, row):\n",
    "\n",
    "        data = self.to_series(row)\n",
    "        val = data[self.fields[0]]\n",
    "        if val == val:\n",
    "            for bin in self.bins:\n",
    "                if val >= bin['min']:\n",
    "                    return bin['min'], bin['scaled']\n",
    "            return np.nan, np.nan\n",
    "        else:\n",
    "            return np.nan, np.nan\n",
    "\n",
    "    def explain(self, row):\n",
    "\n",
    "        edge, scaled = self.lookup_bin(row)\n",
    "\n",
    "        if edge != edge:\n",
    "            data = self.to_series(row)\n",
    "            return f'Could not find matching bin for {data[self.fields[0]]}'\n",
    "        else:\n",
    "            return f'{self.fields[0]} matched {edge}, scaled to {scaled}'\n",
    "\n",
    "    def process_single(self, row):\n",
    "        _, res = self.lookup_bin(row)\n",
    "        return res"
   ],
   "metadata": {
    "collapsed": false,
    "pycharm": {
     "name": "#%%\n"
    }
   }
  },
  {
   "cell_type": "code",
   "execution_count": 177,
   "outputs": [
    {
     "name": "stdout",
     "output_type": "stream",
     "text": [
      "Taking: delay:7, false_pos:2, hits:6, trial1:5, trial2:6, trial3:7\n",
      "Used Equation: trial1+trial2+trial3 = 18 = immediate\n",
      "Aggregation: max [trial1, trial2]  = 6\n",
      "Used Equation: delay/retention_denom = 1.1666666666666667 = retention\n",
      "Clipped retention to [0, 1]\n",
      "Used Equation: hits-false_pos = 4 = recognition\n",
      "delay matched 7, scaled to 6\n",
      "immediate matched 16, scaled to 6\n",
      "Resulting in: delay_scaled:6, immediate:18, immediate_scaled:6, recognition:4, retention:1, retention_denom:6\n"
     ]
    }
   ],
   "source": [
    "path = 'data/norms/norman/norman_scaling.yaml'\n",
    "calc = TestCalculcator.from_config(yaml.full_load(open(path)))\n",
    "\n",
    "norman_scaled_calc = bvmt_calc + calc\n",
    "norman_scaled_calc.explain(row)\n"
   ],
   "metadata": {
    "collapsed": false,
    "pycharm": {
     "name": "#%%\n"
    }
   }
  },
  {
   "cell_type": "code",
   "execution_count": 182,
   "outputs": [],
   "source": [
    "#export\n",
    "\n",
    "class RegressionNormOperator(AbstractOperation):\n",
    "\n",
    "    def __init__(self, regressions, fields, out_field, result_type = 'zscale'):\n",
    "\n",
    "        self.regressions = regressions\n",
    "        self.fields = fields\n",
    "        self.result_fields = [out_field]\n",
    "        self.result_type = result_type\n",
    "\n",
    "    @staticmethod\n",
    "    def from_config(config):\n",
    "        if config['type'] == 'regression_norm':\n",
    "            return RegressionNormOperator(config['regressions'],\n",
    "                                          config['fields'],\n",
    "                                          config['out_field'],\n",
    "                                          result_type = config['result_type'])\n",
    "\n",
    "        return None\n",
    "\n",
    "    def search_filters(self, row):\n",
    "\n",
    "        data = self.to_series(row)\n",
    "        check_func = lambda reg: pd.eval(reg['filter'], local_dict=data.to_dict())\n",
    "        return [reg for reg in self.regressions if check_func(reg)]\n",
    "\n",
    "    def scale_data(self, row):\n",
    "\n",
    "        data = self.to_series(row)\n",
    "        hits = self.search_filters(row)\n",
    "        if hits: #Currently only implementing \"first\"\n",
    "            reg = hits[0]\n",
    "            val = pd.eval(reg['norm'], local_dict=data.to_dict())\n",
    "            return reg, val\n",
    "        return None, None\n",
    "\n",
    "\n",
    "    def explain(self, row):\n",
    "\n",
    "        data = self.to_series(row)\n",
    "        reg, val = self.scale_data(row)\n",
    "\n",
    "        if reg is None:\n",
    "            return 'Could not find a match for regression normalization.'\n",
    "        else:\n",
    "            return f'Matched {reg[\"filter\"]}, applied {reg[\"norm\"]} = {float(val)}'\n",
    "\n",
    "\n",
    "    def process_single(self, row):\n",
    "\n",
    "        _, val = self.scale_data(row)\n",
    "        return val\n",
    "\n"
   ],
   "metadata": {
    "collapsed": false,
    "pycharm": {
     "name": "#%%\n"
    }
   }
  },
  {
   "cell_type": "code",
   "execution_count": 184,
   "outputs": [
    {
     "name": "stdout",
     "output_type": "stream",
     "text": [
      "Taking: age:54, delay:7, education:6, false_pos:2, hits:6, norman_gender:1, race_cat:1, trial1:5, trial2:6, trial3:7\n",
      "Used Equation: trial1+trial2+trial3 = 18 = immediate\n",
      "Aggregation: max [trial1, trial2]  = 6\n",
      "Used Equation: delay/retention_denom = 1.1666666666666667 = retention\n",
      "Clipped retention to [0, 1]\n",
      "Used Equation: hits-false_pos = 4 = recognition\n",
      "delay matched 7, scaled to 6\n",
      "immediate matched 16, scaled to 6\n",
      "Matched (race_cat == 1) & ((age >= 18) & (age <= 66)), applied ((immediate_scaled-(0.2834*(education-13.86)+(-0.1125)*(age-40.63)+1.0394*norman_gender + 8.0679))/2.5701)*10 + 50 = 52.42927901638068\n",
      "Matched (race_cat == 1) & ((age >= 18) & (age <= 66)), applied ((delay_scaled-(0.2267*(education-13.86) + (-0.1262)*(age-40.63) + 0.8593*norman_gender + 7.691))/2.5197)*10 + 50 = 53.64668809778942\n",
      "Resulting in: delay_scaled:6, immediate:18, immediate_scaled:6, norman_delay:53.64668809778942, norman_immediate:52.42927901638068, recognition:4, retention:1, retention_denom:6\n"
     ]
    }
   ],
   "source": [
    "reg_calc = TestCalculcator.from_config(yaml.full_load(open('data/norms/norman/norman_bvmt_regnorm.yaml')))\n",
    "\n",
    "full_norman = norman_scaled_calc + reg_calc\n",
    "demo_info = {'age': 54,\n",
    "             'education': 6,\n",
    "             'race_cat': 1,\n",
    "             'norman_gender': 1}\n",
    "\n",
    "full_norman.explain({**row, **demo_info})\n",
    "\n",
    "#reg_calc.operations[0].regressions[1]['filter']"
   ],
   "metadata": {
    "collapsed": false,
    "pycharm": {
     "name": "#%%\n"
    }
   }
  },
  {
   "cell_type": "code",
   "execution_count": null,
   "outputs": [],
   "source": [],
   "metadata": {
    "collapsed": false,
    "pycharm": {
     "name": "#%%\n"
    }
   }
  },
  {
   "cell_type": "code",
   "execution_count": null,
   "outputs": [],
   "source": [],
   "metadata": {
    "collapsed": false,
    "pycharm": {
     "name": "#%%\n"
    }
   }
  },
  {
   "cell_type": "code",
   "execution_count": null,
   "outputs": [],
   "source": [],
   "metadata": {
    "collapsed": false,
    "pycharm": {
     "name": "#%%\n"
    }
   }
  },
  {
   "cell_type": "code",
   "execution_count": 38,
   "outputs": [
    {
     "data": {
      "text/plain": "   Age__gte  Age__lte  BVMTimmed__mean  BVMTimmed__std\n0        18        21            28.74            4.32\n1        20        23            28.44            4.38\n2        24        25            27.83            4.48\n3        26        29            27.52            4.54\n4        30        33            26.92            4.64",
      "text/html": "<div>\n<style scoped>\n    .dataframe tbody tr th:only-of-type {\n        vertical-align: middle;\n    }\n\n    .dataframe tbody tr th {\n        vertical-align: top;\n    }\n\n    .dataframe thead th {\n        text-align: right;\n    }\n</style>\n<table border=\"1\" class=\"dataframe\">\n  <thead>\n    <tr style=\"text-align: right;\">\n      <th></th>\n      <th>Age__gte</th>\n      <th>Age__lte</th>\n      <th>BVMTimmed__mean</th>\n      <th>BVMTimmed__std</th>\n    </tr>\n  </thead>\n  <tbody>\n    <tr>\n      <th>0</th>\n      <td>18</td>\n      <td>21</td>\n      <td>28.74</td>\n      <td>4.32</td>\n    </tr>\n    <tr>\n      <th>1</th>\n      <td>20</td>\n      <td>23</td>\n      <td>28.44</td>\n      <td>4.38</td>\n    </tr>\n    <tr>\n      <th>2</th>\n      <td>24</td>\n      <td>25</td>\n      <td>27.83</td>\n      <td>4.48</td>\n    </tr>\n    <tr>\n      <th>3</th>\n      <td>26</td>\n      <td>29</td>\n      <td>27.52</td>\n      <td>4.54</td>\n    </tr>\n    <tr>\n      <th>4</th>\n      <td>30</td>\n      <td>33</td>\n      <td>26.92</td>\n      <td>4.64</td>\n    </tr>\n  </tbody>\n</table>\n</div>"
     },
     "execution_count": 38,
     "metadata": {},
     "output_type": "execute_result"
    }
   ],
   "source": [],
   "metadata": {
    "collapsed": false,
    "pycharm": {
     "name": "#%%\n"
    }
   }
  }
 ],
 "metadata": {
  "kernelspec": {
   "display_name": "Python 3",
   "language": "python",
   "name": "python3"
  },
  "language_info": {
   "codemirror_mode": {
    "name": "ipython",
    "version": 2
   },
   "file_extension": ".py",
   "mimetype": "text/x-python",
   "name": "python",
   "nbconvert_exporter": "python",
   "pygments_lexer": "ipython2",
   "version": "2.7.6"
  }
 },
 "nbformat": 4,
 "nbformat_minor": 0
}