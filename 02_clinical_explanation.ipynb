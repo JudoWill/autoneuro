{
 "cells": [
  {
   "cell_type": "code",
   "execution_count": 11,
   "metadata": {
    "collapsed": true
   },
   "outputs": [],
   "source": [
    "# default_exp clinical_explanation\n",
    "\n",
    "from nbdev.showdoc import show_doc\n",
    "\n",
    "%load_ext autoreload\n",
    "%autoreload 2"
   ]
  },
  {
   "cell_type": "code",
   "execution_count": 2,
   "outputs": [],
   "source": [
    "#hide\n",
    "#export\n",
    "import pandas as pd\n",
    "import numpy as np\n",
    "import numexpr as ne\n",
    "\n",
    "from autoneuro import calculators\n",
    "from autoneuro import operators\n",
    "from autoneuro import domains"
   ],
   "metadata": {
    "collapsed": false,
    "pycharm": {
     "name": "#%%\n"
    }
   }
  },
  {
   "cell_type": "markdown",
   "source": [
    "# Motivating Example\n",
    "\n",
    "Processing the Brief VisioSpatial Memory Test from raw data to an age-adjusted score.\n",
    "\n",
    "## Why do we need this?\n",
    "\n",
    "The BVMT requires measuring the subjects responses (working diagram of BVMT).\n",
    "\n",
    "These are recorded as raw values. Here's two individuals' results.\n",
    "\n",
    "We'll imagine some test results.\n",
    "\n",
    "Measured Values:\n",
    "\n",
    "| field       | P1 | P2 |\n",
    "|-------------|----|----|\n",
    "| `age`       | 32 | 71 |\n",
    "| `trial1`    | 5  | 4  |\n",
    "| `trial2`    | 6  | 6  |\n",
    "| `trial3`    | 7  | 5  |\n",
    "| `delay`     | 8  | 6  |\n",
    "| `hits`      | 6  | 4  |\n",
    "| `false_pos` | 2  | 1  |\n",
    "| `copy`      | 12 | 8  |"
   ],
   "metadata": {
    "collapsed": false,
    "pycharm": {
     "name": "#%% md\n"
    }
   }
  },
  {
   "cell_type": "code",
   "execution_count": null,
   "outputs": [],
   "source": [
    "#hide\n",
    "\n",
    "import yaml\n",
    "\n",
    "DATA = [{'trial1': 5, 'trial2': 6, 'trial3': 7,\n",
    "        'delay': 8, 'hits': 6, 'false_pos': 2,\n",
    "        'copy': 12, 'age': 32},\n",
    "        {'trial1': 4, 'trial2': 6, 'trial3': 5,\n",
    "        'delay': 6, 'hits': 4, 'false_pos': 1,\n",
    "        'copy': 8, 'age': 71}]\n",
    "\n",
    "P1_data, P2_data = DATA\n",
    "\n",
    "DATA = pd.DataFrame(DATA, index = ['P1', 'P2']).T"
   ],
   "metadata": {
    "collapsed": false,
    "pycharm": {
     "name": "#%%\n"
    }
   }
  },
  {
   "cell_type": "markdown",
   "source": [
    "Which patient is \"impaired\"?\n",
    "Which patient is \"more impaired\"?\n",
    "We could naively assume that since patient 2 scored worse across all metrics, that they are likely impaired while P1 is normal.\n",
    "\n",
    "It would also make sense to take into account that P2 is older than P1.\n",
    "Here's where age-matched control data comes in handy.\n",
    "\n",
    "First, we need to calculate some intermediate values from these test.\n",
    "  - `immediate`: the sum of the three trials\n",
    "  - `regonition`: the number of hits - false-positive recognitions\n",
    "  - `retention`: ratio of delayed successes and largest of the trial 2 & trial 3 successes\n",
    "\n",
    "\n",
    "`autoneuro` can facilitate this _with explanations_!\n",
    "We'll create a `TestCalculator` called `bvmt_derived_calculator`."
   ],
   "metadata": {
    "collapsed": false,
    "pycharm": {
     "name": "#%% md\n"
    }
   }
  },
  {
   "cell_type": "code",
   "execution_count": 43,
   "outputs": [],
   "source": [
    "#hide\n",
    "\n",
    "from autoneuro import calculators\n",
    "from autoneuro import operators\n",
    "\n",
    "bvmt_config = yaml.full_load(open('data/test_calculators/BVMT.yaml'))\n",
    "bvmt_derived_calculator = calculators.TestCalculator.from_config(bvmt_config)"
   ],
   "metadata": {
    "collapsed": false,
    "pycharm": {
     "name": "#%%\n"
    }
   }
  },
  {
   "cell_type": "code",
   "execution_count": 44,
   "outputs": [
    {
     "name": "stdout",
     "output_type": "stream",
     "text": [
      "Input: delay:8, false_pos:2, hits:6, trial1:5, trial2:6, trial3:7\n",
      "Calculating: ['immediate']\n",
      "Used Equation: trial1+trial2+trial3 = 18 = immediate \n",
      "\n",
      "Calculating: ['retention_denom']\n",
      "Aggregation: max [trial2, trial3]  = 7 \n",
      "\n",
      "Calculating: ['retention']\n",
      "Used Equation: delay/retention_denom = 1.1428571428571428 = retention \n",
      "\n",
      "Calculating: ['retention']\n",
      "Clipped retention to [0, 1] \n",
      "\n",
      "Calculating: ['recognition']\n",
      "Used Equation: hits-false_pos = 4.0 = recognition \n",
      "\n",
      "Resulting in: immediate:18.0, recognition:4.0, retention:1.0, retention_denom:7.0\n"
     ]
    }
   ],
   "source": [
    "bvmt_derived_calculator.explain(P1_data)\n"
   ],
   "metadata": {
    "collapsed": false,
    "pycharm": {
     "name": "#%%\n"
    }
   }
  },
  {
   "cell_type": "code",
   "execution_count": 45,
   "outputs": [
    {
     "name": "stdout",
     "output_type": "stream",
     "text": [
      "Input: delay:6, false_pos:1, hits:4, trial1:4, trial2:6, trial3:5\n",
      "Calculating: ['immediate']\n",
      "Used Equation: trial1+trial2+trial3 = 15 = immediate \n",
      "\n",
      "Calculating: ['retention_denom']\n",
      "Aggregation: max [trial2, trial3]  = 6 \n",
      "\n",
      "Calculating: ['retention']\n",
      "Used Equation: delay/retention_denom = 1.0 = retention \n",
      "\n",
      "Calculating: ['retention']\n",
      "Clipped retention to [0, 1] \n",
      "\n",
      "Calculating: ['recognition']\n",
      "Used Equation: hits-false_pos = 3.0 = recognition \n",
      "\n",
      "Resulting in: immediate:15.0, recognition:3.0, retention:1.0, retention_denom:6.0\n"
     ]
    }
   ],
   "source": [
    "bvmt_derived_calculator.explain(P2_data)"
   ],
   "metadata": {
    "collapsed": false,
    "pycharm": {
     "name": "#%%\n"
    }
   }
  },
  {
   "cell_type": "markdown",
   "source": [
    "These derived values are what Heaton et al normalized across ages.\n",
    "Let's take a look at one."
   ],
   "metadata": {
    "collapsed": false,
    "pycharm": {
     "name": "#%% md\n"
    }
   }
  },
  {
   "cell_type": "code",
   "execution_count": 46,
   "outputs": [
    {
     "name": "stdout",
     "output_type": "stream",
     "text": [
      "short_name: 'heatonBVMT'\r\n",
      "reference: 'Excel Sheet Lookup Conversion'\r\n",
      "\r\n",
      "operations:\r\n",
      "  - type: normative_lookup\r\n",
      "    measure_col: immediate\r\n",
      "    filter_cols: ['age']\r\n",
      "    out_name: 'heaton_immediate'\r\n",
      "\r\n",
      "    table:\r\n",
      "      - filter: (18 <= age) & (age <= 21)\r\n",
      "        mean: 28.74\r\n",
      "        std: 4.32\r\n",
      "      - filter: (20 <= age) & (age <= 23)\r\n",
      "        mean: 28.44\r\n",
      "        std: 4.38\r\n",
      "      - filter: (24 <= age) & (age <= 25)\r\n",
      "        mean: 27.83\r\n",
      "        std: 4.48\r\n"
     ]
    }
   ],
   "source": [
    "!head -n 19 data/norms/from_kate/heaton_bvmt.yaml"
   ],
   "metadata": {
    "collapsed": false,
    "pycharm": {
     "name": "#%%\n"
    }
   }
  },
  {
   "cell_type": "markdown",
   "source": [
    "It is a collection of filters (in this case ages) that define a mean and standard deviation for a group.\n",
    "\n",
    "For example:"
   ],
   "metadata": {
    "collapsed": false,
    "pycharm": {
     "name": "#%% md\n"
    }
   }
  },
  {
   "cell_type": "code",
   "execution_count": 47,
   "outputs": [],
   "source": [
    "#hide\n",
    "heaton_config = yaml.full_load(open('data/norms/from_kate/heaton_bvmt.yaml'))\n",
    "heaton_calculator = calculators.TestCalculator.from_config(heaton_config)\n",
    "\n",
    "heaton_bvmt_calculator = bvmt_derived_calculator + heaton_calculator\n",
    "\n",
    "immed = heaton_calculator.operations[0]\n",
    "\n",
    "NORM_INFO = pd.DataFrame([immed.lookup_norm(P1_data),\n",
    "                          immed.lookup_norm(P2_data)],\n",
    "                         columns = ['Filter', 'Mean', 'STD'],\n",
    "                         index = ['P1', 'P2'])"
   ],
   "metadata": {
    "collapsed": false,
    "pycharm": {
     "name": "#%%\n"
    }
   }
  },
  {
   "cell_type": "code",
   "execution_count": 48,
   "outputs": [
    {
     "data": {
      "text/plain": "                       Filter   Mean   STD\nP1  (30 <= age) & (age <= 33)  26.92  4.64\nP2  (71 <= age) & (age <= 74)  20.83  5.71",
      "text/html": "<div>\n<style scoped>\n    .dataframe tbody tr th:only-of-type {\n        vertical-align: middle;\n    }\n\n    .dataframe tbody tr th {\n        vertical-align: top;\n    }\n\n    .dataframe thead th {\n        text-align: right;\n    }\n</style>\n<table border=\"1\" class=\"dataframe\">\n  <thead>\n    <tr style=\"text-align: right;\">\n      <th></th>\n      <th>Filter</th>\n      <th>Mean</th>\n      <th>STD</th>\n    </tr>\n  </thead>\n  <tbody>\n    <tr>\n      <th>P1</th>\n      <td>(30 &lt;= age) &amp; (age &lt;= 33)</td>\n      <td>26.92</td>\n      <td>4.64</td>\n    </tr>\n    <tr>\n      <th>P2</th>\n      <td>(71 &lt;= age) &amp; (age &lt;= 74)</td>\n      <td>20.83</td>\n      <td>5.71</td>\n    </tr>\n  </tbody>\n</table>\n</div>"
     },
     "execution_count": 48,
     "metadata": {},
     "output_type": "execute_result"
    }
   ],
   "source": [
    "NORM_INFO"
   ],
   "metadata": {
    "collapsed": false,
    "pycharm": {
     "name": "#%%\n"
    }
   }
  },
  {
   "cell_type": "markdown",
   "source": [
    "We'd expect P1 to have have an `immediate` score of ~27 +/- 4.5.\n",
    "We actually saw 18, about 2 SDs below age matched controls.\n",
    "\n",
    "For P2 we'd expect to see ~21 +/- 5.7. We actually saw 15, about 1.1 SDs below average.\n",
    "\n",
    "It would seem that P1 is likely impaired while P2 is borderline.\n",
    "\n",
    "Lets see an explanation."
   ],
   "metadata": {
    "collapsed": false,
    "pycharm": {
     "name": "#%% md\n"
    }
   }
  },
  {
   "cell_type": "code",
   "execution_count": 49,
   "outputs": [
    {
     "name": "stdout",
     "output_type": "stream",
     "text": [
      "Input: age:32, delay:8, false_pos:2, hits:6, trial1:5, trial2:6, trial3:7\n",
      "Calculating: ['immediate']\n",
      "Used Equation: trial1+trial2+trial3 = 18 = immediate \n",
      "\n",
      "Calculating: ['retention_denom']\n",
      "Aggregation: max [trial2, trial3]  = 7 \n",
      "\n",
      "Calculating: ['retention']\n",
      "Used Equation: delay/retention_denom = 1.1428571428571428 = retention \n",
      "\n",
      "Calculating: ['retention']\n",
      "Clipped retention to [0, 1] \n",
      "\n",
      "Calculating: ['recognition']\n",
      "Used Equation: hits-false_pos = 4.0 = recognition \n",
      "\n",
      "Calculating: ['heaton_immediate']\n",
      "heaton_immediate: Matched (30 <= age) & (age <= 33), Expecting 26.92 +- 4.64, Observed: 18.0, Z: -1.9224137931034488 \n",
      "\n",
      "Calculating: ['heaton_retention']\n",
      "heaton_retention: Matched (30 <= age) & (age <= 33), Expecting 0.962 +- 0.0474, Observed: 1.0, Z: 0.8016877637130809 \n",
      "\n",
      "Calculating: ['heaton_delay']\n",
      "heaton_delay: Matched (30 <= age) & (age <= 33), Expecting 10.13 +- 1.6, Observed: 8.0, Z: -1.3312500000000005 \n",
      "\n",
      "Calculating: ['heaton_recognition']\n",
      "heaton_recognition: Matched (30 <= age) & (age <= 33), Expecting 5.97 +- 0.15, Observed: 4.0, Z: -13.133333333333333 \n",
      "\n",
      "Resulting in: heaton_delay:-1.3312500000000005, heaton_immediate:-1.9224137931034488, heaton_recognition:-13.133333333333333, heaton_retention:0.8016877637130809, immediate:18.0, recognition:4.0, retention:1.0, retention_denom:7.0\n"
     ]
    }
   ],
   "source": [
    "heaton_bvmt_calculator.explain(P1_data)"
   ],
   "metadata": {
    "collapsed": false,
    "pycharm": {
     "name": "#%%\n"
    }
   }
  },
  {
   "cell_type": "code",
   "execution_count": 50,
   "outputs": [
    {
     "name": "stdout",
     "output_type": "stream",
     "text": [
      "Input: age:71, delay:6, false_pos:1, hits:4, trial1:4, trial2:6, trial3:5\n",
      "Calculating: ['immediate']\n",
      "Used Equation: trial1+trial2+trial3 = 15 = immediate \n",
      "\n",
      "Calculating: ['retention_denom']\n",
      "Aggregation: max [trial2, trial3]  = 6 \n",
      "\n",
      "Calculating: ['retention']\n",
      "Used Equation: delay/retention_denom = 1.0 = retention \n",
      "\n",
      "Calculating: ['retention']\n",
      "Clipped retention to [0, 1] \n",
      "\n",
      "Calculating: ['recognition']\n",
      "Used Equation: hits-false_pos = 3.0 = recognition \n",
      "\n",
      "Calculating: ['heaton_immediate']\n",
      "heaton_immediate: Matched (71 <= age) & (age <= 74), Expecting 20.83 +- 5.71, Observed: 15.0, Z: -1.0210157618213658 \n",
      "\n",
      "Calculating: ['heaton_retention']\n",
      "heaton_retention: Matched (71 <= age) & (age <= 74), Expecting 0.878 +- 0.143, Observed: 1.0, Z: 0.8531468531468532 \n",
      "\n",
      "Calculating: ['heaton_delay']\n",
      "heaton_delay: Matched (71 <= age) & (age <= 74), Expecting 7.93 +- 2.36, Observed: 6.0, Z: -0.8177966101694915 \n",
      "\n",
      "Calculating: ['heaton_recognition']\n",
      "heaton_recognition: Matched (71 <= age) & (age <= 74), Expecting 5.64 +- 0.91, Observed: 3.0, Z: -2.9010989010989006 \n",
      "\n",
      "Resulting in: heaton_delay:-0.8177966101694915, heaton_immediate:-1.0210157618213658, heaton_recognition:-2.9010989010989006, heaton_retention:0.8531468531468532, immediate:15.0, recognition:3.0, retention:1.0, retention_denom:6.0\n"
     ]
    }
   ],
   "source": [
    "heaton_bvmt_calculator.explain(P2_data)"
   ],
   "metadata": {
    "collapsed": false,
    "pycharm": {
     "name": "#%%\n"
    }
   }
  },
  {
   "cell_type": "markdown",
   "source": [
    "We can look at these next to each other."
   ],
   "metadata": {
    "collapsed": false,
    "pycharm": {
     "name": "#%% md\n"
    }
   }
  },
  {
   "cell_type": "code",
   "execution_count": 53,
   "outputs": [
    {
     "data": {
      "text/plain": "    heaton_immediate  heaton_delay  heaton_retention\nP1         -1.922414     -1.331250          0.801688\nP2         -1.021016     -0.817797          0.853147",
      "text/html": "<div>\n<style scoped>\n    .dataframe tbody tr th:only-of-type {\n        vertical-align: middle;\n    }\n\n    .dataframe tbody tr th {\n        vertical-align: top;\n    }\n\n    .dataframe thead th {\n        text-align: right;\n    }\n</style>\n<table border=\"1\" class=\"dataframe\">\n  <thead>\n    <tr style=\"text-align: right;\">\n      <th></th>\n      <th>heaton_immediate</th>\n      <th>heaton_delay</th>\n      <th>heaton_retention</th>\n    </tr>\n  </thead>\n  <tbody>\n    <tr>\n      <th>P1</th>\n      <td>-1.922414</td>\n      <td>-1.331250</td>\n      <td>0.801688</td>\n    </tr>\n    <tr>\n      <th>P2</th>\n      <td>-1.021016</td>\n      <td>-0.817797</td>\n      <td>0.853147</td>\n    </tr>\n  </tbody>\n</table>\n</div>"
     },
     "execution_count": 53,
     "metadata": {},
     "output_type": "execute_result"
    }
   ],
   "source": [
    "#hide\n",
    "\n",
    "process_df = heaton_bvmt_calculator.process_dataframe(DATA.T)\n",
    "cols = ['heaton_immediate', 'heaton_delay', 'heaton_retention']"
   ],
   "metadata": {
    "collapsed": false,
    "pycharm": {
     "name": "#%%\n"
    }
   }
  },
  {
   "cell_type": "code",
   "execution_count": 55,
   "outputs": [
    {
     "data": {
      "text/plain": "                        P1        P2\nheaton_immediate -1.922414 -1.021016\nheaton_delay     -1.331250 -0.817797\nheaton_retention  0.801688  0.853147",
      "text/html": "<div>\n<style scoped>\n    .dataframe tbody tr th:only-of-type {\n        vertical-align: middle;\n    }\n\n    .dataframe tbody tr th {\n        vertical-align: top;\n    }\n\n    .dataframe thead th {\n        text-align: right;\n    }\n</style>\n<table border=\"1\" class=\"dataframe\">\n  <thead>\n    <tr style=\"text-align: right;\">\n      <th></th>\n      <th>P1</th>\n      <th>P2</th>\n    </tr>\n  </thead>\n  <tbody>\n    <tr>\n      <th>heaton_immediate</th>\n      <td>-1.922414</td>\n      <td>-1.021016</td>\n    </tr>\n    <tr>\n      <th>heaton_delay</th>\n      <td>-1.331250</td>\n      <td>-0.817797</td>\n    </tr>\n    <tr>\n      <th>heaton_retention</th>\n      <td>0.801688</td>\n      <td>0.853147</td>\n    </tr>\n  </tbody>\n</table>\n</div>"
     },
     "execution_count": 55,
     "metadata": {},
     "output_type": "execute_result"
    }
   ],
   "source": [
    "process_df[cols].T"
   ],
   "metadata": {
    "collapsed": false,
    "pycharm": {
     "name": "#%%\n"
    }
   }
  },
  {
   "cell_type": "markdown",
   "source": [
    "These numbers are in z-scale. Meaning:\n",
    " - A \"control\" will score 0 the standard deviation of scores 1\n",
    " - An impaired individual will have a negative value.\n",
    "\n",
    "While cutoffs can vary by application, anything below -2 is \"impaired\", between -1 and -2 as \"borderline\" everything above as \"normal\".\n",
    "\n",
    "Therefore we'd say P1 is nearly impaired in their immediate recognition, and borderline in their delayed memory.\n",
    "P2 is performing within the 1 SD of age-matched controls."
   ],
   "metadata": {
    "collapsed": false,
    "pycharm": {
     "name": "#%% md\n"
    }
   }
  },
  {
   "cell_type": "code",
   "execution_count": null,
   "outputs": [],
   "source": [],
   "metadata": {
    "collapsed": false,
    "pycharm": {
     "name": "#%%\n"
    }
   }
  }
 ],
 "metadata": {
  "kernelspec": {
   "display_name": "Python 3",
   "language": "python",
   "name": "python3"
  },
  "language_info": {
   "codemirror_mode": {
    "name": "ipython",
    "version": 2
   },
   "file_extension": ".py",
   "mimetype": "text/x-python",
   "name": "python",
   "nbconvert_exporter": "python",
   "pygments_lexer": "ipython2",
   "version": "2.7.6"
  }
 },
 "nbformat": 4,
 "nbformat_minor": 0
}