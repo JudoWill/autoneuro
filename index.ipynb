{
 "cells": [
  {
   "cell_type": "code",
   "execution_count": 1,
   "metadata": {},
   "outputs": [],
   "source": [
    "#hide\n",
    "from autoneuro.calculators import TestCalculator\n",
    "import pandas as pd\n",
    "import numpy as np\n",
    "import seaborn as sbn"
   ]
  },
  {
   "cell_type": "markdown",
   "metadata": {},
   "source": [
    "# AutoNeuro\n",
    "\n",
    "> A tool for calculating neurological scores based on demographically adjusted norms.\n",
    "\n",
    "![autoneuro diagram](./imgs/diagram.png)"
   ]
  },
  {
   "cell_type": "markdown",
   "metadata": {},
   "source": [
    "Due to the varied nature of these neurological tests it is often difficult to process these for research purposes.\n",
    "This library is an attempt to standardize the test calculation and normalization process.\n",
    "It also handles common visualization, machine learning integrations, and synthetic data generation.\n",
    "At this point in development, it should not be used for diagnostic purposes."
   ]
  },
  {
   "cell_type": "markdown",
   "metadata": {
    "pycharm": {
     "name": "#%% md\n"
    }
   },
   "source": [
    "## How to use\n",
    "\n",
    " - Clinical researchers (Mike, Vanessa) start with this `motivating_example` instead.\n",
    " - Neurological researchers (Kate) start with the `domains` documentation.\n",
    "\n",
    "Computational researchers continue reading."
   ]
  },
  {
   "cell_type": "markdown",
   "metadata": {},
   "source": [
    "### Install\n",
    "> Please don't yet. Highly unstable."
   ]
  },
  {
   "cell_type": "markdown",
   "metadata": {},
   "source": [
    "`git clone https://github.com/JudoWill/autoneuro/`\n",
    "\n",
    "`pip install -r requirements.pip`"
   ]
  },
  {
   "cell_type": "markdown",
   "metadata": {},
   "source": [
    "### Use Case\n",
    "\n",
    "`Autoneuro` is intended to function as a layer for converting raw measurement data from neuro-tests into normalized data.\n",
    "Normalization schemes can be built on the fly, but most commonly, you'll start with pre-defined normalization schemes.\n",
    "These are described in `yaml` files within the `data/` directory of the github repo.\n",
    "Which look like:"
   ]
  },
  {
   "cell_type": "code",
   "execution_count": 2,
   "metadata": {
    "pycharm": {
     "name": "#%%\n"
    }
   },
   "outputs": [
    {
     "name": "stdout",
     "output_type": "stream",
     "text": [
      "name: 'Brief Visiospatial Memory Test'\n",
      "short_name: 'BVMT'\n",
      "\n",
      "\n",
      "operations:\n",
      "  - type: equation\n",
      "    equation: 'trial1+trial2+trial3'\n",
      "    fields: ['trial1', 'trial2', 'trial3']\n",
      "    out_field: immediate\n",
      "  - type: agg\n",
      "    method: 'max'\n",
      "    fields: ['trial2', 'trial3']\n",
      "    out_field: retention_denom\n",
      "  - type: equation\n",
      "    equation: 'delay/retention_denom'\n",
      "    fields: [ 'delay', 'retention_denom']\n",
      "    out_field: retention\n",
      "  - type: clip\n",
      "    field: retention\n",
      "    lower: 0\n",
      "    upper: 1\n",
      "  - type: equation\n",
      "    equation: 'hits-false_pos'\n",
      "    fields: ['hits', 'false_pos']\n",
      "    out_field: 'recognition'\n",
      "\n"
     ]
    }
   ],
   "source": [
    "!cat data/test_calculators/BVMT.yaml"
   ]
  },
  {
   "cell_type": "markdown",
   "metadata": {
    "pycharm": {
     "name": "#%% md\n"
    }
   },
   "source": [
    "These can be parsed with `pyyaml` and fed to the `from_config` method on most types of objects.\n",
    "\n",
    "This builds a `TestCalculator` that can calculate intermediate BVMT values from raw measurements."
   ]
  },
  {
   "cell_type": "code",
   "execution_count": 3,
   "metadata": {},
   "outputs": [],
   "source": [
    "import yaml\n",
    "\n",
    "bvmt_config = yaml.full_load(open('data/test_calculators/BVMT.yaml'))\n",
    "bvmt_calc = TestCalculator.from_config(bvmt_config)"
   ]
  },
  {
   "cell_type": "markdown",
   "metadata": {
    "pycharm": {
     "name": "#%% md\n"
    }
   },
   "source": [
    "Once created, this `TestCalculator` can be used to explain any set of calculations."
   ]
  },
  {
   "cell_type": "code",
   "execution_count": 4,
   "metadata": {
    "pycharm": {
     "name": "#%%\n"
    }
   },
   "outputs": [
    {
     "name": "stdout",
     "output_type": "stream",
     "text": [
      "Input: \n",
      " delay:8\n",
      " false_pos:2\n",
      " hits:6\n",
      " trial1:5\n",
      " trial2:6\n",
      " trial3:7\n",
      "Calculating: ['immediate']\n",
      "Used Equation: trial1+trial2+trial3 = 18 = immediate \n",
      "\n",
      "Calculating: ['retention_denom']\n",
      "Aggregation: max [trial2, trial3]  = 7 \n",
      "\n",
      "Calculating: ['retention']\n",
      "Used Equation: delay/retention_denom = 1.1428571428571428 = retention \n",
      "\n",
      "Calculating: ['retention']\n",
      "Clipped retention to [0, 1] \n",
      "\n",
      "Calculating: ['recognition']\n",
      "Used Equation: hits-false_pos = 4.0 = recognition \n",
      "\n",
      "Resulting in: \n",
      " immediate:18.0\n",
      " recognition:4.0\n",
      " retention:1.0\n",
      " retention_denom:7.0\n"
     ]
    }
   ],
   "source": [
    "DATA = {'trial1': 5, 'trial2': 6, 'trial3': 7,\n",
    "        'delay': 8, 'hits': 6, 'false_pos': 2,\n",
    "        'copy': 12}\n",
    "\n",
    "bvmt_calc.explain(DATA)"
   ]
  },
  {
   "cell_type": "markdown",
   "metadata": {
    "pycharm": {
     "name": "#%% md\n"
    }
   },
   "source": [
    "These can then be combined with calculators that define age based norms (`heaton`) or regression norms (`norman`).\n",
    "\n",
    "Like so:"
   ]
  },
  {
   "cell_type": "code",
   "execution_count": 5,
   "metadata": {
    "pycharm": {
     "name": "#%%\n"
    }
   },
   "outputs": [
    {
     "name": "stdout",
     "output_type": "stream",
     "text": [
      "Input: \n",
      " age:32\n",
      " delay:8\n",
      " education:12\n",
      " false_pos:2\n",
      " gender:male\n",
      " hits:6\n",
      " race:AA\n",
      " trial1:5\n",
      " trial2:6\n",
      " trial3:7\n",
      "Calculating: ['immediate']\n",
      "Used Equation: trial1+trial2+trial3 = 18 = immediate \n",
      "\n",
      "Calculating: ['retention_denom']\n",
      "Aggregation: max [trial2, trial3]  = 7 \n",
      "\n",
      "Calculating: ['retention']\n",
      "Used Equation: delay/retention_denom = 1.1428571428571428 = retention \n",
      "\n",
      "Calculating: ['retention']\n",
      "Clipped retention to [0, 1] \n",
      "\n",
      "Calculating: ['recognition']\n",
      "Used Equation: hits-false_pos = 4 = recognition \n",
      "\n",
      "Calculating: ['heaton_immediate']\n",
      "heaton_immediate:\n",
      " Matched (30 <= age) & (age <= 33)\n",
      " Expecting 26.92 +- 4.64\n",
      " Observed: 18\n",
      " Z: -1.9224137931034488 \n",
      "\n",
      "Calculating: ['heaton_retention']\n",
      "heaton_retention:\n",
      " Matched (30 <= age) & (age <= 33)\n",
      " Expecting 0.962 +- 0.0474\n",
      " Observed: 1.0\n",
      " Z: 0.8016877637130809 \n",
      "\n",
      "Calculating: ['heaton_delay']\n",
      "heaton_delay:\n",
      " Matched (30 <= age) & (age <= 33)\n",
      " Expecting 10.13 +- 1.6\n",
      " Observed: 8\n",
      " Z: -1.3312500000000005 \n",
      "\n",
      "Calculating: ['heaton_recognition']\n",
      "heaton_recognition:\n",
      " Matched (30 <= age) & (age <= 33)\n",
      " Expecting 5.97 +- 0.15\n",
      " Observed: 4\n",
      " Z: -13.133333333333333 \n",
      "\n",
      "Calculating: ['norman_gender']\n",
      "gender:male -> norman_gender:0 \n",
      "\n",
      "Calculating: ['norman_race']\n",
      "race:AA -> norman_race:1 \n",
      "\n",
      "Calculating: ['delay_scaled']\n",
      "delay matched 8, scaled to 7 \n",
      "\n",
      "Calculating: ['immediate_scaled']\n",
      "immediate matched 16, scaled to 6 \n",
      "\n",
      "Calculating: ['norman_gender']\n",
      "gender:male -> norman_gender:0 \n",
      "\n",
      "Calculating: ['norman_race']\n",
      "race:AA -> norman_race:1 \n",
      "\n",
      "Calculating: ['delay_scaled']\n",
      "delay matched 8, scaled to 7 \n",
      "\n",
      "Calculating: ['immediate_scaled']\n",
      "immediate matched 16, scaled to 6 \n",
      "\n",
      "Calculating: ['norman_immediate']\n",
      "Matched (norman_race == 1) & ((age >= 18) & (age <= 66)), applied ((immediate_scaled-(0.2834*(education-13.86)+(-0.1125)*(age-40.63)+1.0394*norman_gender + 8.0679))/2.5701)*10 + 50 = -0.977258083343061 \n",
      "\n",
      "Calculating: ['norman_delay']\n",
      "Matched (norman_race == 1) & ((age >= 18) & (age <= 66)), applied ((delay_scaled-(0.2267*(education-13.86) + (-0.1262)*(age-40.63) + 0.8593*norman_gender + 7.691))/2.5197)*10 + 50 = -0.5391292614200104 \n",
      "\n",
      "Resulting in: \n",
      " delay_scaled:7\n",
      " heaton_delay:-1.3312500000000005\n",
      " heaton_immediate:-1.9224137931034488\n",
      " heaton_recognition:-13.133333333333333\n",
      " heaton_retention:0.8016877637130809\n",
      " immediate:18\n",
      " immediate_scaled:6\n",
      " norman_delay:-0.5391292614200104\n",
      " norman_gender:0\n",
      " norman_immediate:-0.977258083343061\n",
      " norman_race:1\n",
      " recognition:4\n",
      " retention:1.0\n",
      " retention_denom:7\n"
     ]
    }
   ],
   "source": [
    "heaton_norm_definition = 'data/norms/from_kate/heaton_bvmt.yaml'\n",
    "heaton_bvmt_calc = TestCalculator.from_config(yaml.full_load(open(heaton_norm_definition)))\n",
    "\n",
    "norman_scaling_definition = 'data/norms/norman/norman_scaling.yaml'\n",
    "norman_scale = TestCalculator.from_config(yaml.full_load(open(norman_scaling_definition)))\n",
    "\n",
    "norman_regression_definition = 'data/norms/norman/norman_bvmt_regnorm.yaml'\n",
    "reg_calc = TestCalculator.from_config(yaml.full_load(open(norman_regression_definition)))\n",
    "\n",
    "# Calculators can be added to combine their operations.\n",
    "full_bvmt_calc = bvmt_calc + heaton_bvmt_calc + norman_scale + reg_calc\n",
    "\n",
    "DATA = {'trial1': 5, 'trial2': 6, 'trial3': 7,\n",
    "        'delay': 8, 'hits': 6, 'false_pos': 2,\n",
    "        'copy': 12, 'age': 32, 'gender': 'male',\n",
    "        'race': 'AA', 'education': 12}\n",
    "\n",
    "full_bvmt_calc.explain(DATA)"
   ]
  },
  {
   "cell_type": "markdown",
   "metadata": {
    "pycharm": {
     "name": "#%% md\n"
    }
   },
   "source": [
    "These can also be run across `pd.DataFrame` objects.\n",
    "This can be useful for either processing larger datasets or examining how one variable influences the score."
   ]
  },
  {
   "cell_type": "code",
   "execution_count": 6,
   "metadata": {
    "pycharm": {
     "name": "#%%\n"
    }
   },
   "outputs": [
    {
     "data": {
      "text/html": [
       "<div>\n",
       "<style scoped>\n",
       "    .dataframe tbody tr th:only-of-type {\n",
       "        vertical-align: middle;\n",
       "    }\n",
       "\n",
       "    .dataframe tbody tr th {\n",
       "        vertical-align: top;\n",
       "    }\n",
       "\n",
       "    .dataframe thead th {\n",
       "        text-align: right;\n",
       "    }\n",
       "</style>\n",
       "<table border=\"1\" class=\"dataframe\">\n",
       "  <thead>\n",
       "    <tr style=\"text-align: right;\">\n",
       "      <th></th>\n",
       "      <th>delay</th>\n",
       "      <th>heaton_delay</th>\n",
       "      <th>norman_delay</th>\n",
       "    </tr>\n",
       "  </thead>\n",
       "  <tbody>\n",
       "    <tr>\n",
       "      <th>0</th>\n",
       "      <td>5</td>\n",
       "      <td>-3.20625</td>\n",
       "      <td>-1.332875</td>\n",
       "    </tr>\n",
       "    <tr>\n",
       "      <th>1</th>\n",
       "      <td>0</td>\n",
       "      <td>-6.33125</td>\n",
       "      <td>-2.523492</td>\n",
       "    </tr>\n",
       "    <tr>\n",
       "      <th>2</th>\n",
       "      <td>0</td>\n",
       "      <td>-6.33125</td>\n",
       "      <td>-2.523492</td>\n",
       "    </tr>\n",
       "    <tr>\n",
       "      <th>3</th>\n",
       "      <td>0</td>\n",
       "      <td>-6.33125</td>\n",
       "      <td>-2.523492</td>\n",
       "    </tr>\n",
       "    <tr>\n",
       "      <th>4</th>\n",
       "      <td>5</td>\n",
       "      <td>-3.20625</td>\n",
       "      <td>-1.332875</td>\n",
       "    </tr>\n",
       "  </tbody>\n",
       "</table>\n",
       "</div>"
      ],
      "text/plain": [
       "   delay  heaton_delay  norman_delay\n",
       "0      5      -3.20625     -1.332875\n",
       "1      0      -6.33125     -2.523492\n",
       "2      0      -6.33125     -2.523492\n",
       "3      0      -6.33125     -2.523492\n",
       "4      5      -3.20625     -1.332875"
      ]
     },
     "execution_count": 6,
     "metadata": {},
     "output_type": "execute_result"
    },
    {
     "data": {
      "image/png": "[encoded data removed]",
      "text/plain": [
       "<Figure size 432x288 with 1 Axes>"
      ]
     },
     "metadata": {
      "needs_background": "light"
     },
     "output_type": "display_data"
    }
   ],
   "source": [
    "# Keep the same scores, but change the age.\n",
    "df = pd.DataFrame([DATA]*5)\n",
    "df['delay'] = np.random.randint(0, 8, size=(5,))\n",
    "\n",
    "data = full_bvmt_calc.process_dataframe(df)\n",
    "ax = data.plot(y = ['heaton_delay', 'norman_delay'], kind = 'bar')\n",
    "ax.set_ylabel('Z-score')\n",
    "\n",
    "cols = ['delay', 'heaton_delay', 'norman_delay']\n",
    "data[cols].head()\n"
   ]
  },
  {
   "cell_type": "markdown",
   "metadata": {
    "pycharm": {
     "name": "#%% md\n"
    }
   },
   "source": [
    "### General Organization\n",
    "\n",
    " - `domains` are the \"largest\" object and manage collections of multiple tests. \n",
    " If you're building visualizations and exploring large collections, use these.\n",
    " - `calculators` are collections of operations and utilities for processing raw data. \n",
    " If you are just normalizing data for downstream tasks like ML, use these.\n",
    " - `operators` are the functional units of calculators. \n",
    " Unless you're Will, you probably don't need to be in here. \n",
    " - `normative_data` is currently stored in the data/norms directory as yaml formats.\n",
    " Refer here (tbd) for an explanation of the YAML format.\n",
    "  "
   ]
  }
 ],
 "metadata": {
  "kernelspec": {
   "display_name": "Python 3",
   "language": "python",
   "name": "python3"
  },
  "language_info": {
   "codemirror_mode": {
    "name": "ipython",
    "version": 3
   },
   "file_extension": ".py",
   "mimetype": "text/x-python",
   "name": "python",
   "nbconvert_exporter": "python",
   "pygments_lexer": "ipython3",
   "version": "3.8.5"
  }
 },
 "nbformat": 4,
 "nbformat_minor": 4
}
