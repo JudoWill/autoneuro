{
 "cells": [
  {
   "cell_type": "code",
   "execution_count": 1,
   "metadata": {},
   "outputs": [],
   "source": [
    "#hide\n",
    "from autoneuro.calculators import TestCalculator\n",
    "import pandas as pd\n",
    "import numpy as np\n",
    "import seaborn as sbn"
   ]
  },
  {
   "cell_type": "markdown",
   "metadata": {},
   "source": [
    "# AutoNeuro\n",
    "\n",
    "> A tool for calculating neurological scores based on demographically adjusted norms.\n",
    "\n",
    "![autoneuro diagram](./imgs/diagram.png)"
   ]
  },
  {
   "cell_type": "markdown",
   "metadata": {},
   "source": [
    "Due to the varied nature of these neurological tests it is often difficult to process these for research purposes.\n",
    "This library is an attempt to standardize the test calculation and normalization process.\n",
    "It also handles common visualization, machine learning integrations, and synthetic data generation.\n",
    "At this point in development, it should not be used for diagnostic purposes."
   ]
  },
  {
   "cell_type": "markdown",
   "source": [
    "## How to use\n",
    "\n",
    " - Clinical researchers (Mike, Vanessa) start with this `clinical_explanation` instead.\n",
    " - Neurological researchers (Kate) start with the `domains` documentation.\n",
    "\n",
    "Computational researchers continue reading."
   ],
   "metadata": {
    "collapsed": false,
    "pycharm": {
     "name": "#%% md\n"
    }
   }
  },
  {
   "cell_type": "markdown",
   "metadata": {},
   "source": [
    "### Install\n",
    "> Please don't yet. Highly unstable."
   ]
  },
  {
   "cell_type": "markdown",
   "metadata": {},
   "source": [
    "`git clone https://github.com/JudoWill/autoneuro/`\n",
    "\n",
    "`pip install -r requirements.pip`"
   ]
  },
  {
   "cell_type": "markdown",
   "metadata": {},
   "source": [
    "### Use Case\n",
    "\n",
    "`Autoneuro` is intended to function as a layer for converting raw measurement data from neuro-tests into normalized data.\n",
    "Normalization schemes can be built on the fly, but most commonly, you'll start with pre-defined normalization schemes.\n",
    "These are described in `yaml` files within the `data/` directory of the github repo.\n",
    "Which look like:"
   ]
  },
  {
   "cell_type": "code",
   "execution_count": 2,
   "metadata": {
    "pycharm": {
     "name": "#%%\n"
    }
   },
   "outputs": [
    {
     "name": "stdout",
     "output_type": "stream",
     "text": [
      "name: 'Brief Visiospatial Memory Test'\r\n",
      "short_name: 'BVMT'\r\n",
      "\r\n",
      "\r\n",
      "operations:\r\n",
      "  - type: equation\r\n",
      "    equation: 'trial1+trial2+trial3'\r\n",
      "    fields: ['trial1', 'trial2', 'trial3']\r\n",
      "    out_field: immediate\r\n",
      "  - type: agg\r\n",
      "    method: 'max'\r\n",
      "    fields: ['trial2', 'trial3']\r\n",
      "    out_field: retention_denom\r\n",
      "  - type: equation\r\n",
      "    equation: 'delay/retention_denom'\r\n",
      "    fields: [ 'delay', 'retention_denom']\r\n",
      "    out_field: retention\r\n",
      "  - type: clip\r\n",
      "    field: retention\r\n",
      "    lower: 0\r\n",
      "    upper: 1\r\n",
      "  - type: equation\r\n",
      "    equation: 'hits-false_pos'\r\n",
      "    fields: ['hits', 'false_pos']\r\n",
      "    out_field: 'recognition'\r\n",
      "\r\n"
     ]
    }
   ],
   "source": [
    "!cat data/test_calculators/BVMT.yaml"
   ]
  },
  {
   "cell_type": "markdown",
   "source": [
    "These can be parsed with `pyyaml` and fed to the `from_config` method on most types of objects.\n",
    "\n",
    "This builds a `TestCalculator` that can calculate intermediate BVMT values from raw measurements."
   ],
   "metadata": {
    "collapsed": false,
    "pycharm": {
     "name": "#%% md\n"
    }
   }
  },
  {
   "cell_type": "code",
   "execution_count": 3,
   "metadata": {},
   "outputs": [],
   "source": [
    "import yaml\n",
    "\n",
    "bvmt_config = yaml.full_load(open('data/test_calculators/BVMT.yaml'))\n",
    "bvmt_calc = TestCalculator.from_config(bvmt_config)"
   ]
  },
  {
   "cell_type": "markdown",
   "metadata": {
    "pycharm": {
     "name": "#%% md\n"
    }
   },
   "source": [
    "Once created, this `TestCalculator` can be used to explain any set of calculations."
   ]
  },
  {
   "cell_type": "code",
   "execution_count": 4,
   "metadata": {
    "pycharm": {
     "name": "#%%\n"
    }
   },
   "outputs": [
    {
     "name": "stdout",
     "output_type": "stream",
     "text": [
      "Taking: delay:8, false_pos:2, hits:6, trial1:5, trial2:6, trial3:7\n",
      "Used Equation: trial1+trial2+trial3 = 18 = immediate\n",
      "Aggregation: max [trial2, trial3]  = 7\n",
      "Used Equation: delay/retention_denom = 1.1428571428571428 = retention\n",
      "Clipped retention to [0, 1]\n",
      "Used Equation: hits-false_pos = 4.0 = recognition\n",
      "Resulting in: immediate:18.0, recognition:4.0, retention:1.0, retention_denom:7.0\n"
     ]
    }
   ],
   "source": [
    "DATA = {'trial1': 5, 'trial2': 6, 'trial3': 7,\n",
    "        'delay': 8, 'hits': 6, 'false_pos': 2,\n",
    "        'copy': 12}\n",
    "\n",
    "bvmt_calc.explain(DATA)"
   ]
  },
  {
   "cell_type": "markdown",
   "metadata": {
    "pycharm": {
     "name": "#%% md\n"
    }
   },
   "source": [
    "These can then be combined with calculators that define age based norms (`heaton`) or regression norms (`norman`).\n",
    "\n",
    "Like so:"
   ]
  },
  {
   "cell_type": "code",
   "execution_count": 5,
   "metadata": {
    "pycharm": {
     "name": "#%%\n"
    }
   },
   "outputs": [
    {
     "name": "stdout",
     "output_type": "stream",
     "text": [
      "Taking: age:32, delay:8, education:12, false_pos:2, gender:male, hits:6, race:AA, trial1:5, trial2:6, trial3:7\n",
      "Used Equation: trial1+trial2+trial3 = 18 = immediate\n",
      "Aggregation: max [trial2, trial3]  = 7\n",
      "Used Equation: delay/retention_denom = 1.1428571428571428 = retention\n",
      "Clipped retention to [0, 1]\n",
      "Used Equation: hits-false_pos = 4 = recognition\n",
      "heaton_immediate: Matched (30 <= age) & (age <= 33), Expecting 26.92 +- 4.64, Observed: 18\n",
      "heaton_retention: Matched (30 <= age) & (age <= 33), Expecting 0.962 +- 0.0474, Observed: 1.0\n",
      "heaton_delay: Matched (30 <= age) & (age <= 33), Expecting 10.13 +- 1.6, Observed: 8\n",
      "heaton_recognition: Matched (30 <= age) & (age <= 33), Expecting 5.97 +- 0.15, Observed: 4\n",
      "gender:male -> norman_gender:0\n",
      "race:AA -> norman_race:1\n",
      "delay matched 8, scaled to 7\n",
      "immediate matched 16, scaled to 6\n",
      "gender:male -> norman_gender:0\n",
      "race:AA -> norman_race:1\n",
      "delay matched 8, scaled to 7\n",
      "immediate matched 16, scaled to 6\n",
      "Matched (norman_race == 1) & ((age >= 18) & (age <= 66)), applied ((immediate_scaled-(0.2834*(education-13.86)+(-0.1125)*(age-40.63)+1.0394*norman_gender + 8.0679))/2.5701)*10 + 50 = -0.977258083343061\n",
      "Matched (norman_race == 1) & ((age >= 18) & (age <= 66)), applied ((delay_scaled-(0.2267*(education-13.86) + (-0.1262)*(age-40.63) + 0.8593*norman_gender + 7.691))/2.5197)*10 + 50 = -0.5391292614200104\n",
      "Resulting in: delay_scaled:7, heaton_delay:-1.3312500000000005, heaton_immediate:-1.9224137931034488, heaton_recognition:-13.133333333333333, heaton_retention:0.8016877637130809, immediate:18, immediate_scaled:6, norman_delay:-0.5391292614200104, norman_gender:0, norman_immediate:-0.977258083343061, norman_race:1, recognition:4, retention:1.0, retention_denom:7\n"
     ]
    }
   ],
   "source": [
    "heaton_norm_definition = 'data/norms/from_kate/heaton_bvmt.yaml'\n",
    "heaton_bvmt_calc = TestCalculator.from_config(yaml.full_load(open(heaton_norm_definition)))\n",
    "\n",
    "norman_scaling_definition = 'data/norms/norman/norman_scaling.yaml'\n",
    "norman_scale = TestCalculator.from_config(yaml.full_load(open(norman_scaling_definition)))\n",
    "\n",
    "norman_regression_definition = 'data/norms/norman/norman_bvmt_regnorm.yaml'\n",
    "reg_calc = TestCalculator.from_config(yaml.full_load(open(norman_regression_definition)))\n",
    "\n",
    "# Calculators can be added to combine their operations.\n",
    "full_bvmt_calc = bvmt_calc + heaton_bvmt_calc + norman_scale + reg_calc\n",
    "\n",
    "DATA = {'trial1': 5, 'trial2': 6, 'trial3': 7,\n",
    "        'delay': 8, 'hits': 6, 'false_pos': 2,\n",
    "        'copy': 12, 'age': 32, 'gender': 'male',\n",
    "        'race': 'AA', 'education': 12}\n",
    "\n",
    "full_bvmt_calc.explain(DATA)"
   ]
  },
  {
   "cell_type": "markdown",
   "metadata": {
    "pycharm": {
     "name": "#%% md\n"
    }
   },
   "source": [
    "These can also be run across `pd.DataFrame` objects.\n",
    "This can be useful for either processing larger datasets or examining how one variable influences the score."
   ]
  },
  {
   "cell_type": "code",
   "execution_count": 8,
   "metadata": {
    "pycharm": {
     "name": "#%%\n"
    }
   },
   "outputs": [
    {
     "data": {
      "text/plain": "   delay  heaton_delay  norman_delay\n0      2      -5.08125     -2.523492\n1      2      -5.08125     -2.523492\n2      2      -5.08125     -2.523492\n3      4      -3.83125     -1.729747\n4      7      -1.95625     -0.936002",
      "text/html": "<div>\n<style scoped>\n    .dataframe tbody tr th:only-of-type {\n        vertical-align: middle;\n    }\n\n    .dataframe tbody tr th {\n        vertical-align: top;\n    }\n\n    .dataframe thead th {\n        text-align: right;\n    }\n</style>\n<table border=\"1\" class=\"dataframe\">\n  <thead>\n    <tr style=\"text-align: right;\">\n      <th></th>\n      <th>delay</th>\n      <th>heaton_delay</th>\n      <th>norman_delay</th>\n    </tr>\n  </thead>\n  <tbody>\n    <tr>\n      <th>0</th>\n      <td>2</td>\n      <td>-5.08125</td>\n      <td>-2.523492</td>\n    </tr>\n    <tr>\n      <th>1</th>\n      <td>2</td>\n      <td>-5.08125</td>\n      <td>-2.523492</td>\n    </tr>\n    <tr>\n      <th>2</th>\n      <td>2</td>\n      <td>-5.08125</td>\n      <td>-2.523492</td>\n    </tr>\n    <tr>\n      <th>3</th>\n      <td>4</td>\n      <td>-3.83125</td>\n      <td>-1.729747</td>\n    </tr>\n    <tr>\n      <th>4</th>\n      <td>7</td>\n      <td>-1.95625</td>\n      <td>-0.936002</td>\n    </tr>\n  </tbody>\n</table>\n</div>"
     },
     "execution_count": 8,
     "metadata": {},
     "output_type": "execute_result"
    },
    {
     "data": {
      "text/plain": "<Figure size 432x288 with 1 Axes>",
      "image/png": "[encoded data removed]"
     },
     "metadata": {
      "needs_background": "light"
     },
     "output_type": "display_data"
    }
   ],
   "source": [
    "# Keep the same scores, but change the age.\n",
    "df = pd.DataFrame([DATA]*5)\n",
    "df['delay'] = np.random.randint(0, 8, size=(5,))\n",
    "\n",
    "data = full_bvmt_calc.process_dataframe(df)\n",
    "ax = data.plot(y = ['heaton_delay', 'norman_delay'], kind = 'bar')\n",
    "ax.set_ylabel('Z-score')\n",
    "\n",
    "cols = ['delay', 'heaton_delay', 'norman_delay']\n",
    "data[cols].head()\n"
   ]
  },
  {
   "cell_type": "markdown",
   "metadata": {
    "pycharm": {
     "name": "#%% md\n"
    }
   },
   "source": [
    "### General Organization\n",
    "\n",
    " - `domains` are the \"largest\" object and manage collections of multiple tests. \n",
    " If you're building visualizations and exploring large collections, use these.\n",
    " - `calculators` are collections of operations and utilities for processing raw data. \n",
    " If you are just normalizing data for downstream tasks like ML, use these.\n",
    " - `operators` are the functional units of calculators. \n",
    " Unless you're Will, you probably don't need to be in here. \n",
    " - `normative_data` is currently stored in the data/norms directory as yaml formats.\n",
    " Refer here (tbd) for an explanation of the YAML format.\n",
    "  "
   ]
  }
 ],
 "metadata": {
  "kernelspec": {
   "display_name": "Python 3",
   "language": "python",
   "name": "python3"
  },
  "language_info": {
   "codemirror_mode": {
    "name": "ipython",
    "version": 3
   },
   "file_extension": ".py",
   "mimetype": "text/x-python",
   "name": "python",
   "nbconvert_exporter": "python",
   "pygments_lexer": "ipython3",
   "version": "3.8.5"
  }
 },
 "nbformat": 4,
 "nbformat_minor": 2
}