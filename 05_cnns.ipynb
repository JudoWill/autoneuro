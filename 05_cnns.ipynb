{
 "cells": [
  {
   "cell_type": "code",
   "execution_count": 1,
   "id": "later-mistress",
   "metadata": {},
   "outputs": [],
   "source": [
    "# default_exp domains\n",
    "\n",
    "from nbdev.showdoc import show_doc\n",
    "\n",
    "%load_ext autoreload\n",
    "%autoreload 2"
   ]
  },
  {
   "cell_type": "markdown",
   "id": "inappropriate-newton",
   "metadata": {},
   "source": [
    "# CNNS"
   ]
  },
  {
   "cell_type": "markdown",
   "id": "superb-truth",
   "metadata": {},
   "source": [
    "The Comprehensive Neuropsycological Normative System is an important part of the full domain processing scheme.\n",
    "However, it has a difficult to use input and output format.\n",
    "This is a collection of utilities to manage that."
   ]
  },
  {
   "cell_type": "code",
   "execution_count": 3,
   "id": "thrown-inflation",
   "metadata": {},
   "outputs": [],
   "source": [
    "import pandas as pd\n",
    "import numpy as np\n",
    "import matplotlib.pyplot as plt\n",
    "import seaborn as sns"
   ]
  },
  {
   "cell_type": "code",
   "execution_count": 4,
   "id": "measured-provider",
   "metadata": {},
   "outputs": [
    {
     "data": {
      "text/html": [
       "<div>\n",
       "<style scoped>\n",
       "    .dataframe tbody tr th:only-of-type {\n",
       "        vertical-align: middle;\n",
       "    }\n",
       "\n",
       "    .dataframe tbody tr th {\n",
       "        vertical-align: top;\n",
       "    }\n",
       "\n",
       "    .dataframe thead th {\n",
       "        text-align: right;\n",
       "    }\n",
       "</style>\n",
       "<table border=\"1\" class=\"dataframe\">\n",
       "  <thead>\n",
       "    <tr style=\"text-align: right;\">\n",
       "      <th></th>\n",
       "      <th>FirstName</th>\n",
       "      <th>Middle</th>\n",
       "      <th>LastName</th>\n",
       "      <th>ClientID</th>\n",
       "      <th>DateOfBirth</th>\n",
       "      <th>Sex</th>\n",
       "      <th>Race</th>\n",
       "      <th>TestDate</th>\n",
       "      <th>Age</th>\n",
       "      <th>TestDescription</th>\n",
       "      <th>...</th>\n",
       "      <th>dom2_ndom2</th>\n",
       "      <th>dom_ndom</th>\n",
       "      <th>sumlet_sumcat_Pct</th>\n",
       "      <th>wordfluency_dfnov_Pct</th>\n",
       "      <th>dsf_dsb_Pct</th>\n",
       "      <th>dom1_ndom1_Pct</th>\n",
       "      <th>dom2_ndom2_Pct</th>\n",
       "      <th>dom_ndom_Pct</th>\n",
       "      <th>HARTEstIQ</th>\n",
       "      <th>CalibrationEstIQ</th>\n",
       "    </tr>\n",
       "  </thead>\n",
       "  <tbody>\n",
       "    <tr>\n",
       "      <th>0</th>\n",
       "      <td>NaN</td>\n",
       "      <td>NaN</td>\n",
       "      <td>NaN</td>\n",
       "      <td>Test001</td>\n",
       "      <td>01/01/1950</td>\n",
       "      <td>2</td>\n",
       "      <td>BH</td>\n",
       "      <td>01/12/2021</td>\n",
       "      <td>71</td>\n",
       "      <td>(no description)</td>\n",
       "      <td>...</td>\n",
       "      <td>NaN</td>\n",
       "      <td>NaN</td>\n",
       "      <td>NaN</td>\n",
       "      <td>NaN</td>\n",
       "      <td>NaN</td>\n",
       "      <td>61</td>\n",
       "      <td>NaN</td>\n",
       "      <td>NaN</td>\n",
       "      <td>NaN</td>\n",
       "      <td>NaN</td>\n",
       "    </tr>\n",
       "    <tr>\n",
       "      <th>1</th>\n",
       "      <td>NaN</td>\n",
       "      <td>NaN</td>\n",
       "      <td>NaN</td>\n",
       "      <td>Test002</td>\n",
       "      <td>01/01/1960</td>\n",
       "      <td>1</td>\n",
       "      <td>BACHNO</td>\n",
       "      <td>01/13/2021</td>\n",
       "      <td>61</td>\n",
       "      <td>(no description)</td>\n",
       "      <td>...</td>\n",
       "      <td>NaN</td>\n",
       "      <td>NaN</td>\n",
       "      <td>NaN</td>\n",
       "      <td>NaN</td>\n",
       "      <td>NaN</td>\n",
       "      <td>56</td>\n",
       "      <td>NaN</td>\n",
       "      <td>NaN</td>\n",
       "      <td>NaN</td>\n",
       "      <td>NaN</td>\n",
       "    </tr>\n",
       "  </tbody>\n",
       "</table>\n",
       "<p>2 rows × 366 columns</p>\n",
       "</div>"
      ],
      "text/plain": [
       "   FirstName  Middle  LastName ClientID DateOfBirth  Sex    Race    TestDate  \\\n",
       "0        NaN     NaN       NaN  Test001  01/01/1950    2      BH  01/12/2021   \n",
       "1        NaN     NaN       NaN  Test002  01/01/1960    1  BACHNO  01/13/2021   \n",
       "\n",
       "   Age   TestDescription  ...  dom2_ndom2  dom_ndom  sumlet_sumcat_Pct  \\\n",
       "0   71  (no description)  ...         NaN       NaN                NaN   \n",
       "1   61  (no description)  ...         NaN       NaN                NaN   \n",
       "\n",
       "   wordfluency_dfnov_Pct  dsf_dsb_Pct  dom1_ndom1_Pct  dom2_ndom2_Pct  \\\n",
       "0                    NaN          NaN              61             NaN   \n",
       "1                    NaN          NaN              56             NaN   \n",
       "\n",
       "   dom_ndom_Pct  HARTEstIQ  CalibrationEstIQ  \n",
       "0           NaN        NaN               NaN  \n",
       "1           NaN        NaN               NaN  \n",
       "\n",
       "[2 rows x 366 columns]"
      ]
     },
     "execution_count": 4,
     "metadata": {},
     "output_type": "execute_result"
    }
   ],
   "source": [
    "cnns_data = pd.read_csv('data/cnns/EXPORT.csv')\n",
    "cnns_data.head()"
   ]
  },
  {
   "cell_type": "markdown",
   "id": "built-infrared",
   "metadata": {},
   "source": [
    "The data is arranged in such a way that each field gets normalized and displayed a few ways.\n",
    "\n",
    "```\n",
    "'ATT_vs_EXEC'\n",
    "'ATT_vs_EXEC_Lvl'\n",
    "'ATT_vs_EXEC_Pct'\n",
    "...\n",
    "'bdiscrim',\n",
    "'bdiscrim_Pct',\n",
    "'bdiscrim_SS',\n",
    "'bdiscrim_T',\n",
    "```\n",
    "\n",
    "This code below extracts that logic from an example export file."
   ]
  },
  {
   "cell_type": "code",
   "execution_count": 14,
   "id": "hollow-establishment",
   "metadata": {},
   "outputs": [
    {
     "name": "stdout",
     "output_type": "stream",
     "text": [
      "['ATT_vs_EXEC', 'ATT_vs_ID', 'ATT_vs_VERBAL', 'ATT_vs_VISUAL', 'F_AttMem']\n"
     ]
    }
   ],
   "source": [
    "\n",
    "def extract_fields(dataframe):\n",
    "    \"\"\"Process columns of CNNS output to get fields.\"\"\"\n",
    "\n",
    "    suffixes = ['Lvl', 'Pct', 'SS', 'T']\n",
    "\n",
    "    found_keys = set()\n",
    "    for col in dataframe.columns:\n",
    "        if any(col.endswith(suf) for suf in suffixes):\n",
    "            found_keys.add(col.rsplit('_', 1)[0])\n",
    "    return sorted(found_keys)\n",
    "\n",
    "fields = extract_fields(cnns_data)\n",
    "print(fields[:5])"
   ]
  },
  {
   "cell_type": "code",
   "execution_count": 15,
   "id": "faced-violence",
   "metadata": {},
   "outputs": [],
   "source": [
    "with open('data/cnns/fields.txt', 'w') as handle:\n",
    "    handle.write('\\n'.join(fields))"
   ]
  },
  {
   "cell_type": "code",
   "execution_count": 17,
   "id": "entire-completion",
   "metadata": {},
   "outputs": [],
   "source": [
    "df = pd.read_excel('data/neuro_data.xlsx')\n",
    "with open('data/cnns/ducom_fields.txt', 'w') as handle:\n",
    "    handle.write('\\n'.join(df.columns))"
   ]
  },
  {
   "cell_type": "code",
   "execution_count": null,
   "id": "identified-newman",
   "metadata": {},
   "outputs": [],
   "source": []
  }
 ],
 "metadata": {
  "kernelspec": {
   "display_name": "Python 3",
   "language": "python",
   "name": "python3"
  },
  "language_info": {
   "codemirror_mode": {
    "name": "ipython",
    "version": 3
   },
   "file_extension": ".py",
   "mimetype": "text/x-python",
   "name": "python",
   "nbconvert_exporter": "python",
   "pygments_lexer": "ipython3",
   "version": "3.9.2"
  }
 },
 "nbformat": 4,
 "nbformat_minor": 5
}
