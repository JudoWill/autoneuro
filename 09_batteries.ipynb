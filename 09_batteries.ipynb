{
 "cells": [
  {
   "cell_type": "code",
   "execution_count": 1,
   "id": "apart-anthony",
   "metadata": {},
   "outputs": [],
   "source": [
    "# default_exp batteries"
   ]
  },
  {
   "cell_type": "markdown",
   "id": "exterior-compact",
   "metadata": {},
   "source": [
    "# Batteries"
   ]
  },
  {
   "cell_type": "markdown",
   "id": "favorite-peace",
   "metadata": {},
   "source": [
    "A collection of utility functions for converting Kate's Excel Sheet into a set of reproducible batteries that can be easily combined into domains. These contain a set of calculators that convert the data and define raw, calculated, and normalized fields."
   ]
  },
  {
   "cell_type": "code",
   "execution_count": 2,
   "id": "union-breed",
   "metadata": {},
   "outputs": [],
   "source": [
    "# export\n",
    "\n",
    "import os\n",
    "import yaml\n",
    "\n",
    "import pandas as pd\n",
    "import numpy as np\n",
    "\n",
    "from autoneuro.calculators import *\n",
    "from autoneuro.operators import *\n",
    "from autoneuro.field_mapping import FieldMapper"
   ]
  },
  {
   "cell_type": "markdown",
   "id": "chronic-married",
   "metadata": {},
   "source": [
    "We'll need some data to properly test all of these."
   ]
  },
  {
   "cell_type": "code",
   "execution_count": 3,
   "id": "perceived-veteran",
   "metadata": {},
   "outputs": [],
   "source": [
    "all_neuro = pd.read_excel('data/neuro_data.xlsx',\n",
    "                          na_values=['na', '-', 'nd']).groupby(['PatientID', 'Visit']).first().drop(['VisitDate'], axis=1)\n",
    "all_neuro.replace({'Race': {2: 'AA',\n",
    "                            1: 'white',\n",
    "                            3: 'asian'},\n",
    "                   'Sex': {1: 'male', 2: 'female'}},\n",
    "                  inplace=True)"
   ]
  },
  {
   "cell_type": "markdown",
   "id": "tropical-lawyer",
   "metadata": {},
   "source": [
    "Then we'll need to normalize the field names."
   ]
  },
  {
   "cell_type": "code",
   "execution_count": 4,
   "id": "structured-fault",
   "metadata": {},
   "outputs": [
    {
     "data": {
      "text/html": [
       "<div>\n",
       "<style scoped>\n",
       "    .dataframe tbody tr th:only-of-type {\n",
       "        vertical-align: middle;\n",
       "    }\n",
       "\n",
       "    .dataframe tbody tr th {\n",
       "        vertical-align: top;\n",
       "    }\n",
       "\n",
       "    .dataframe thead th {\n",
       "        text-align: right;\n",
       "    }\n",
       "</style>\n",
       "<table border=\"1\" class=\"dataframe\">\n",
       "  <thead>\n",
       "    <tr style=\"text-align: right;\">\n",
       "      <th></th>\n",
       "      <th></th>\n",
       "      <th>abdominal_girth</th>\n",
       "      <th>age</th>\n",
       "      <th>age_first_drivers_license</th>\n",
       "      <th>age_first_used_drug</th>\n",
       "      <th>aids_defining_indicat2_2dd</th>\n",
       "      <th>aids_defining_indicators</th>\n",
       "      <th>also_driving_assessment</th>\n",
       "      <th>amitriptyline_end_date</th>\n",
       "      <th>amitriptyline_start_date</th>\n",
       "      <th>amoxapine_end_date</th>\n",
       "      <th>...</th>\n",
       "      <th>year_diagnosed_tuberculosi</th>\n",
       "      <th>year_diagnosed_uterine_can</th>\n",
       "      <th>year_diagnosed_with_asthma</th>\n",
       "      <th>year_diagnosed_with_copd</th>\n",
       "      <th>year_diagnosed_with_diabet</th>\n",
       "      <th>year_diagnosed_with_elevat</th>\n",
       "      <th>year_diagnosed_with_hypert</th>\n",
       "      <th>years_seropositive</th>\n",
       "      <th>you_get_angry_at_the_behav</th>\n",
       "      <th>you_intend_to_drive_to_des</th>\n",
       "    </tr>\n",
       "    <tr>\n",
       "      <th>PatientID</th>\n",
       "      <th>Visit</th>\n",
       "      <th></th>\n",
       "      <th></th>\n",
       "      <th></th>\n",
       "      <th></th>\n",
       "      <th></th>\n",
       "      <th></th>\n",
       "      <th></th>\n",
       "      <th></th>\n",
       "      <th></th>\n",
       "      <th></th>\n",
       "      <th></th>\n",
       "      <th></th>\n",
       "      <th></th>\n",
       "      <th></th>\n",
       "      <th></th>\n",
       "      <th></th>\n",
       "      <th></th>\n",
       "      <th></th>\n",
       "      <th></th>\n",
       "      <th></th>\n",
       "      <th></th>\n",
       "    </tr>\n",
       "  </thead>\n",
       "  <tbody>\n",
       "    <tr>\n",
       "      <th rowspan=\"2\" valign=\"top\">1</th>\n",
       "      <th>1</th>\n",
       "      <td>NaN</td>\n",
       "      <td>59</td>\n",
       "      <td>NaN</td>\n",
       "      <td>NaN</td>\n",
       "      <td>NaN</td>\n",
       "      <td>NaN</td>\n",
       "      <td>NaN</td>\n",
       "      <td>NaN</td>\n",
       "      <td>NaN</td>\n",
       "      <td>NaN</td>\n",
       "      <td>...</td>\n",
       "      <td>NaN</td>\n",
       "      <td>NaN</td>\n",
       "      <td>NaN</td>\n",
       "      <td>NaN</td>\n",
       "      <td>NaN</td>\n",
       "      <td>NaN</td>\n",
       "      <td>NaN</td>\n",
       "      <td>NaN</td>\n",
       "      <td>NaN</td>\n",
       "      <td>NaN</td>\n",
       "    </tr>\n",
       "    <tr>\n",
       "      <th>2</th>\n",
       "      <td>NaN</td>\n",
       "      <td>62</td>\n",
       "      <td>NaN</td>\n",
       "      <td>NaN</td>\n",
       "      <td>NaN</td>\n",
       "      <td>NaN</td>\n",
       "      <td>NaN</td>\n",
       "      <td>NaN</td>\n",
       "      <td>NaN</td>\n",
       "      <td>NaN</td>\n",
       "      <td>...</td>\n",
       "      <td>NaN</td>\n",
       "      <td>NaN</td>\n",
       "      <td>NaN</td>\n",
       "      <td>NaN</td>\n",
       "      <td>NaN</td>\n",
       "      <td>NaN</td>\n",
       "      <td>NaN</td>\n",
       "      <td>NaN</td>\n",
       "      <td>NaN</td>\n",
       "      <td>NaN</td>\n",
       "    </tr>\n",
       "    <tr>\n",
       "      <th rowspan=\"2\" valign=\"top\">2</th>\n",
       "      <th>1</th>\n",
       "      <td>NaN</td>\n",
       "      <td>62</td>\n",
       "      <td>NaN</td>\n",
       "      <td>NaN</td>\n",
       "      <td>NaN</td>\n",
       "      <td>NaN</td>\n",
       "      <td>NaN</td>\n",
       "      <td>NaN</td>\n",
       "      <td>NaN</td>\n",
       "      <td>NaN</td>\n",
       "      <td>...</td>\n",
       "      <td>NaN</td>\n",
       "      <td>NaN</td>\n",
       "      <td>NaN</td>\n",
       "      <td>NaN</td>\n",
       "      <td>NaN</td>\n",
       "      <td>NaN</td>\n",
       "      <td>NaN</td>\n",
       "      <td>NaN</td>\n",
       "      <td>NaN</td>\n",
       "      <td>NaN</td>\n",
       "    </tr>\n",
       "    <tr>\n",
       "      <th>2</th>\n",
       "      <td>NaN</td>\n",
       "      <td>67</td>\n",
       "      <td>NaN</td>\n",
       "      <td>NaN</td>\n",
       "      <td>NaN</td>\n",
       "      <td>NaN</td>\n",
       "      <td>NaN</td>\n",
       "      <td>NaN</td>\n",
       "      <td>NaN</td>\n",
       "      <td>NaN</td>\n",
       "      <td>...</td>\n",
       "      <td>NaN</td>\n",
       "      <td>NaN</td>\n",
       "      <td>NaN</td>\n",
       "      <td>NaN</td>\n",
       "      <td>NaN</td>\n",
       "      <td>NaN</td>\n",
       "      <td>NaN</td>\n",
       "      <td>NaN</td>\n",
       "      <td>NaN</td>\n",
       "      <td>NaN</td>\n",
       "    </tr>\n",
       "    <tr>\n",
       "      <th>4</th>\n",
       "      <th>1</th>\n",
       "      <td>NaN</td>\n",
       "      <td>65</td>\n",
       "      <td>NaN</td>\n",
       "      <td>NaN</td>\n",
       "      <td>NaN</td>\n",
       "      <td>NaN</td>\n",
       "      <td>NaN</td>\n",
       "      <td>NaN</td>\n",
       "      <td>NaN</td>\n",
       "      <td>NaN</td>\n",
       "      <td>...</td>\n",
       "      <td>NaN</td>\n",
       "      <td>NaN</td>\n",
       "      <td>NaN</td>\n",
       "      <td>NaN</td>\n",
       "      <td>NaN</td>\n",
       "      <td>NaN</td>\n",
       "      <td>NaN</td>\n",
       "      <td>NaN</td>\n",
       "      <td>NaN</td>\n",
       "      <td>NaN</td>\n",
       "    </tr>\n",
       "  </tbody>\n",
       "</table>\n",
       "<p>5 rows × 900 columns</p>\n",
       "</div>"
      ],
      "text/plain": [
       "                 abdominal_girth  age  age_first_drivers_license  \\\n",
       "PatientID Visit                                                    \n",
       "1         1                  NaN   59                        NaN   \n",
       "          2                  NaN   62                        NaN   \n",
       "2         1                  NaN   62                        NaN   \n",
       "          2                  NaN   67                        NaN   \n",
       "4         1                  NaN   65                        NaN   \n",
       "\n",
       "                 age_first_used_drug  aids_defining_indicat2_2dd  \\\n",
       "PatientID Visit                                                    \n",
       "1         1                      NaN                         NaN   \n",
       "          2                      NaN                         NaN   \n",
       "2         1                      NaN                         NaN   \n",
       "          2                      NaN                         NaN   \n",
       "4         1                      NaN                         NaN   \n",
       "\n",
       "                 aids_defining_indicators  also_driving_assessment  \\\n",
       "PatientID Visit                                                      \n",
       "1         1                           NaN                      NaN   \n",
       "          2                           NaN                      NaN   \n",
       "2         1                           NaN                      NaN   \n",
       "          2                           NaN                      NaN   \n",
       "4         1                           NaN                      NaN   \n",
       "\n",
       "                 amitriptyline_end_date  amitriptyline_start_date  \\\n",
       "PatientID Visit                                                     \n",
       "1         1                         NaN                       NaN   \n",
       "          2                         NaN                       NaN   \n",
       "2         1                         NaN                       NaN   \n",
       "          2                         NaN                       NaN   \n",
       "4         1                         NaN                       NaN   \n",
       "\n",
       "                 amoxapine_end_date  ...  year_diagnosed_tuberculosi  \\\n",
       "PatientID Visit                      ...                               \n",
       "1         1                     NaN  ...                         NaN   \n",
       "          2                     NaN  ...                         NaN   \n",
       "2         1                     NaN  ...                         NaN   \n",
       "          2                     NaN  ...                         NaN   \n",
       "4         1                     NaN  ...                         NaN   \n",
       "\n",
       "                 year_diagnosed_uterine_can  year_diagnosed_with_asthma  \\\n",
       "PatientID Visit                                                           \n",
       "1         1                             NaN                         NaN   \n",
       "          2                             NaN                         NaN   \n",
       "2         1                             NaN                         NaN   \n",
       "          2                             NaN                         NaN   \n",
       "4         1                             NaN                         NaN   \n",
       "\n",
       "                 year_diagnosed_with_copd  year_diagnosed_with_diabet  \\\n",
       "PatientID Visit                                                         \n",
       "1         1                           NaN                         NaN   \n",
       "          2                           NaN                         NaN   \n",
       "2         1                           NaN                         NaN   \n",
       "          2                           NaN                         NaN   \n",
       "4         1                           NaN                         NaN   \n",
       "\n",
       "                 year_diagnosed_with_elevat  year_diagnosed_with_hypert  \\\n",
       "PatientID Visit                                                           \n",
       "1         1                             NaN                         NaN   \n",
       "          2                             NaN                         NaN   \n",
       "2         1                             NaN                         NaN   \n",
       "          2                             NaN                         NaN   \n",
       "4         1                             NaN                         NaN   \n",
       "\n",
       "                 years_seropositive  you_get_angry_at_the_behav  \\\n",
       "PatientID Visit                                                   \n",
       "1         1                     NaN                         NaN   \n",
       "          2                     NaN                         NaN   \n",
       "2         1                     NaN                         NaN   \n",
       "          2                     NaN                         NaN   \n",
       "4         1                     NaN                         NaN   \n",
       "\n",
       "                 you_intend_to_drive_to_des  \n",
       "PatientID Visit                              \n",
       "1         1                             NaN  \n",
       "          2                             NaN  \n",
       "2         1                             NaN  \n",
       "          2                             NaN  \n",
       "4         1                             NaN  \n",
       "\n",
       "[5 rows x 900 columns]"
      ]
     },
     "execution_count": 4,
     "metadata": {},
     "output_type": "execute_result"
    }
   ],
   "source": [
    "mapper = FieldMapper.from_file('data/field_mappings.xlsx')\n",
    "map_neuro = mapper.convert(all_neuro, 'oldneuro_id', 'internal_field')\n",
    "map_neuro.head()"
   ]
  },
  {
   "cell_type": "code",
   "execution_count": 5,
   "id": "sudden-refund",
   "metadata": {},
   "outputs": [],
   "source": [
    "# export\n",
    "# hide\n",
    "\n",
    "def create_scaling(scaling_df, raw_field, scaled_field):\n",
    "    \"\"\"Returns a dict that can be used to create a BinedscalingOp\"\"\"\n",
    "    edges = scaling_df.groupby(scaled_field)[raw_field].min()\n",
    "    \n",
    "    data = {'type': 'binned_scaling',\n",
    "            'measure_col': raw_field,\n",
    "            'bins': []}\n",
    "    data['bins'] = [{'scaled': s, 'min': m} for s, m in edges.to_dict().items()]\n",
    "    \n",
    "    return data\n",
    "\n",
    "\n",
    "def check_battery(battery_cls, neuro_data, check_mean = False):\n",
    "    \n",
    "    battery = battery_cls.from_defaults()\n",
    "    \n",
    "    clean_data = neuro_data[battery.required_fields].dropna()\n",
    "    assert len(clean_data.index) > 0, 'No data matching these fields was found.'\n",
    "    \n",
    "    results = battery.scaled_data(clean_data)\n",
    "    \n",
    "    missing_frac = results.isnull().mean()\n",
    "    missing_too_much = missing_frac > 0.3\n",
    "    if missing_too_much.any():\n",
    "        items = missing_frac[missing_too_much].to_dict().items()\n",
    "        msg = [f'{field}: {val}' for field, val in items]\n",
    "        assert False, 'Too many Nans: ' + ', '.join(msg)\n",
    "    \n",
    "    if battery.z_scaled & check_mean:\n",
    "        means = results.mean()\n",
    "        for field, mean in means.to_dict().items():\n",
    "            assert (mean < 1.6) & (mean > -1.6), f'{field} fell outside expected range: {mean}'\n",
    "            \n",
    "    print(battery.explain(clean_data.iloc[0]))\n",
    "    \n",
    "    results.plot(kind = 'hist')    \n",
    "    "
   ]
  },
  {
   "cell_type": "markdown",
   "id": "static-germany",
   "metadata": {},
   "source": [
    "# Battery\n",
    "\n",
    "In the abstract, a battery is a collection of `TestCalculator` objects and definitions about which fields are measurements, infered, and normalized."
   ]
  },
  {
   "cell_type": "code",
   "execution_count": 47,
   "id": "cordless-significance",
   "metadata": {},
   "outputs": [],
   "source": [
    "# export\n",
    "\n",
    "class AbstractBattery(object):\n",
    "    \n",
    "    def __init__(self, calculator, scaled_fields, z_scaled = True):\n",
    "        \n",
    "        self.calculator = calculator\n",
    "        self.scaled_fields = scaled_fields\n",
    "        self.z_scaled = z_scaled\n",
    "        \n",
    "    @property\n",
    "    def required_fields(self):\n",
    "        return self.calculator.fields\n",
    "        \n",
    "    def explain(self, data):\n",
    "        return self.calculator.explain(data)\n",
    "    \n",
    "    def scaled_data(self, df):\n",
    "        \n",
    "        data = self.calculator.process_dataframe(df)\n",
    "        return data[self.scaled_fields]\n",
    "        \n",
    "    @classmethod\n",
    "    def check_battery(battery_cls, data):\n",
    "        check_battery(battery_cls, data, check_mean = False)\n",
    "        "
   ]
  },
  {
   "cell_type": "markdown",
   "id": "light-restriction",
   "metadata": {},
   "source": [
    "## Brief Visiospatial Memory Test"
   ]
  },
  {
   "cell_type": "code",
   "execution_count": 48,
   "id": "numeric-colorado",
   "metadata": {},
   "outputs": [],
   "source": [
    "# export \n",
    "# hide\n",
    "\n",
    "class BVMTBattery(AbstractBattery):\n",
    "    \n",
    "    @staticmethod\n",
    "    def from_defaults(root_data = 'data/'):\n",
    "        \n",
    "        bvmt_test_definition = os.path.join(root_data, 'test_calculators/BVMT.yaml')\n",
    "        bvmt_calc = TestCalculator.from_config(yaml.full_load(open(bvmt_test_definition)))\n",
    "        \n",
    "        heaton_norm_definition = os.path.join(root_data, 'norms/from_kate/heaton_bvmt.yaml')\n",
    "        heaton_bvmt_calc = TestCalculator.from_config(yaml.full_load(open(heaton_norm_definition)))\n",
    "        \n",
    "        return BVMTBattery(bvmt_calc + heaton_bvmt_calc, \n",
    "                           ['bvmt_immediate_heaton','bvmt_retention_heaton'])\n",
    "        \n"
   ]
  },
  {
   "cell_type": "code",
   "execution_count": 49,
   "id": "headed-richmond",
   "metadata": {},
   "outputs": [
    {
     "name": "stdout",
     "output_type": "stream",
     "text": [
      "Input: \n",
      " age:59.0\n",
      " bvmt_delay:0.0\n",
      " bvmt_false_pos:3.0\n",
      " bvmt_hits:6.0\n",
      " bvmt_trial1:2.0\n",
      " bvmt_trial2:5.0\n",
      " bvmt_trial3:5.0\n",
      "Calculating: ['bvmt_immediate']\n",
      "Used Equation: bvmt_trial1+bvmt_trial2+bvmt_trial3 = 12.0 = bvmt_immediate \n",
      "\n",
      "Calculating: ['bvmt_retention_denom']\n",
      "Aggregation: max [bvmt_trial2, bvmt_trial3]  = 5.0 \n",
      "\n",
      "Calculating: ['bvmt_retention']\n",
      "Used Equation: bvmt_delay/bvmt_retention_denom = 0.0 = bvmt_retention \n",
      "\n",
      "Calculating: ['bvmt_retention']\n",
      "Clipped bvmt_retention to [0, 1] \n",
      "\n",
      "Calculating: ['bvmt_recognition']\n",
      "Used Equation: bvmt_hits-bvmt_false_pos = 3.0 = bvmt_recognition \n",
      "\n",
      "Calculating: ['bvmt_immediate_heaton']\n",
      "Matched: (59 <= age) & (age <= 62)\n",
      "Expected 22.66+/-5.39 but observed 12.0\n",
      "Scaled to: z=-1.9777365491651206 \n",
      "\n",
      "Calculating: ['bvmt_retention_heaton']\n",
      "Matched: (59 <= age) & (age <= 62)\n",
      "Expected 0.937+/-0.087 but observed 0.0\n",
      "Scaled to: z=-10.770114942528737 \n",
      "\n",
      "Calculating: ['bvmt_delay_heaton']\n",
      "Matched: (59 <= age) & (age <= 62)\n",
      "Expected 8.59+/-2.13 but observed 0.0\n",
      "Scaled to: z=-4.032863849765258 \n",
      "\n",
      "Calculating: ['bvmt_recognition_heaton']\n",
      "Matched: (59 <= age) & (age <= 62)\n",
      "Expected 5.86+/-0.44 but observed 3.0\n",
      "Scaled to: z=-6.500000000000001 \n",
      "\n",
      "Resulting in: \n",
      " bvmt_delay_heaton:-4.032863849765258\n",
      " bvmt_immediate:12.0\n",
      " bvmt_immediate_heaton:-1.9777365491651206\n",
      " bvmt_recognition:3.0\n",
      " bvmt_recognition_heaton:-6.500000000000001\n",
      " bvmt_retention:0.0\n",
      " bvmt_retention_denom:5.0\n",
      " bvmt_retention_heaton:-10.770114942528737\n",
      "None\n"
     ]
    },
    {
     "data": {
      "image/png": "[encoded data removed]",
      "text/plain": [
       "<Figure size 432x288 with 1 Axes>"
      ]
     },
     "metadata": {
      "needs_background": "light"
     },
     "output_type": "display_data"
    }
   ],
   "source": [
    "BVMTBattery.check_battery(map_neuro)"
   ]
  },
  {
   "cell_type": "markdown",
   "id": "romantic-infection",
   "metadata": {},
   "source": [
    "## HVLT"
   ]
  },
  {
   "cell_type": "code",
   "execution_count": 51,
   "id": "cooperative-cathedral",
   "metadata": {},
   "outputs": [],
   "source": [
    "# export \n",
    "# hide\n",
    "\n",
    "class HVLTBattery(AbstractBattery):\n",
    "    \n",
    "    @staticmethod\n",
    "    def from_defaults(root_data = 'data/'):\n",
    "        \n",
    "        heaton_hvlt_norm_definition = os.path.join(root_data, 'norms/from_kate/heaton_hvlt.yaml')\n",
    "        heaton_hvlt_calc = TestCalculator.from_config(yaml.full_load(open(heaton_hvlt_norm_definition)))\n",
    "        \n",
    "        return HVLTBattery(heaton_hvlt_calc, \n",
    "                           ['hvlt_recognition_heaton', 'hvlt_delay_heaton', 'hvlt_total_heaton'])"
   ]
  },
  {
   "cell_type": "code",
   "execution_count": 52,
   "id": "comfortable-senate",
   "metadata": {},
   "outputs": [
    {
     "name": "stdout",
     "output_type": "stream",
     "text": [
      "Input: \n",
      " age:61.0\n",
      " hvlt_delay:6.0\n",
      " hvlt_false_pos:5.0\n",
      " hvlt_hits:12.0\n",
      " hvlt_trial1:6.0\n",
      " hvlt_trial2:8.0\n",
      " hvlt_trial3:10.0\n",
      "Calculating: ['hvlt_total']\n",
      "Used Equation: hvlt_trial1+hvlt_trial2+hvlt_trial3 = 24.0 = hvlt_total \n",
      "\n",
      "Calculating: ['hvlt_recognition']\n",
      "Used Equation: hvlt_hits+hvlt_false_pos = 17.0 = hvlt_recognition \n",
      "\n",
      "Calculating: ['hvlt_total_heaton']\n",
      "Matched: age >= 54\n",
      "Expected 27.86+/-3.95 but observed 24.0\n",
      "Scaled to: z=-0.9772151898734175 \n",
      "\n",
      "Calculating: ['hvlt_delay_heaton']\n",
      "Matched: age >= 54\n",
      "Expected 10.06+/-1.73 but observed 6.0\n",
      "Scaled to: z=-2.3468208092485554 \n",
      "\n",
      "Calculating: ['hvlt_recognition_heaton']\n",
      "Matched: age >= 54\n",
      "Expected 10.79+/-1.61 but observed 17.0\n",
      "Scaled to: z=3.8571428571428577 \n",
      "\n",
      "Resulting in: \n",
      " hvlt_delay_heaton:-2.3468208092485554\n",
      " hvlt_recognition:17.0\n",
      " hvlt_recognition_heaton:3.8571428571428577\n",
      " hvlt_total:24.0\n",
      " hvlt_total_heaton:-0.9772151898734175\n",
      "None\n"
     ]
    },
    {
     "data": {
      "image/png": "[encoded data removed]",
      "text/plain": [
       "<Figure size 432x288 with 1 Axes>"
      ]
     },
     "metadata": {
      "needs_background": "light"
     },
     "output_type": "display_data"
    }
   ],
   "source": [
    "HVLTBattery.check_battery(map_neuro)"
   ]
  },
  {
   "cell_type": "markdown",
   "id": "protective-parallel",
   "metadata": {},
   "source": [
    "## SENAS Wordlist"
   ]
  },
  {
   "cell_type": "code",
   "execution_count": 53,
   "id": "diverse-poison",
   "metadata": {},
   "outputs": [],
   "source": [
    "# export \n",
    "# hide\n",
    "\n",
    "class SENASWordlistBattery(AbstractBattery):\n",
    "    \n",
    "    @staticmethod\n",
    "    def from_defaults(root_data = 'data/'):\n",
    "        \n",
    "        senas_wordlist_definition = os.path.join(root_data, 'norms/senas/worldlist_learning.yaml')\n",
    "        senas_wordlist_calc = TestCalculator.from_config(yaml.full_load(open(senas_wordlist_definition)))\n",
    "        \n",
    "        return SENASWordlistBattery(senas_wordlist_calc, \n",
    "                                    ['senas_wordlist_total'],\n",
    "                                    z_scaled=False)"
   ]
  },
  {
   "cell_type": "code",
   "execution_count": 54,
   "id": "heated-textbook",
   "metadata": {},
   "outputs": [
    {
     "name": "stdout",
     "output_type": "stream",
     "text": [
      "Input: \n",
      " senas_wordlist_t1:4.0\n",
      " senas_wordlist_t2:10.0\n",
      " senas_wordlist_t3:10.0\n",
      " senas_wordlist_t4:12.0\n",
      " senas_wordlist_t5:11.0\n",
      "Calculating: ['senas_wordlist_total']\n",
      "Used Equation: senas_wordlist_t1 + senas_wordlist_t2 + senas_wordlist_t3 + senas_wordlist_t4 + senas_wordlist_t5 = 47.0 = senas_wordlist_total \n",
      "\n",
      "Calculating: ['senas_wordlist_total_plc']\n",
      "Used Equation: senas_wordlist_total = 47.0 = senas_wordlist_total_plc \n",
      "\n",
      "Resulting in: \n",
      " senas_wordlist_total:47.0\n",
      " senas_wordlist_total_plc:47.0\n",
      "None\n"
     ]
    },
    {
     "data": {
      "image/png": "[encoded data removed]",
      "text/plain": [
       "<Figure size 432x288 with 1 Axes>"
      ]
     },
     "metadata": {
      "needs_background": "light"
     },
     "output_type": "display_data"
    }
   ],
   "source": [
    "SENASWordlistBattery.check_battery(map_neuro)"
   ]
  },
  {
   "cell_type": "markdown",
   "id": "sonic-olive",
   "metadata": {},
   "source": [
    "## Letter Fluency"
   ]
  },
  {
   "cell_type": "code",
   "execution_count": 56,
   "id": "threatened-humanitarian",
   "metadata": {},
   "outputs": [],
   "source": [
    "# export\n",
    "# hide\n",
    "\n",
    "class LetterFluencyBattery(AbstractBattery):\n",
    "    \n",
    "    @staticmethod\n",
    "    def from_defaults(root_data = 'data/'):\n",
    "        \n",
    "        phenomic_placeholder = os.path.join(root_data, 'norms/placeholders/letter_fluency.yaml')\n",
    "        phenomic_calc = TestCalculator.from_config(yaml.full_load(open(phenomic_placeholder)))\n",
    "\n",
    "        return LetterFluencyBattery(phenomic_calc, \n",
    "                                    ['letterfluencyfas_total_heaton'],\n",
    "                                    z_scaled=True)"
   ]
  },
  {
   "cell_type": "code",
   "execution_count": 57,
   "id": "egyptian-wireless",
   "metadata": {},
   "outputs": [
    {
     "name": "stdout",
     "output_type": "stream",
     "text": [
      "Input: \n",
      " age:59.0\n",
      " education:10.0\n",
      " letterfluencya_q1:0.0\n",
      " letterfluencya_q2:2.0\n",
      " letterfluencya_q3:2.0\n",
      " letterfluencya_q4:1.0\n",
      " letterfluencyf_q1:4.0\n",
      " letterfluencyf_q2:1.0\n",
      " letterfluencyf_q3:0.0\n",
      " letterfluencyf_q4:0.0\n",
      " letterfluencys_q1:1.0\n",
      " letterfluencys_q2:1.0\n",
      " letterfluencys_q3:3.0\n",
      " letterfluencys_q4:1.0\n",
      "Calculating: ['letterfluencyf_total']\n",
      "Used Equation: letterfluencyf_q1+letterfluencyf_q2+letterfluencyf_q3+letterfluencyf_q4 = 5.0 = letterfluencyf_total \n",
      "\n",
      "Calculating: ['letterfluencya_total']\n",
      "Used Equation: letterfluencya_q1+letterfluencya_q2+letterfluencya_q3+letterfluencya_q4 = 5.0 = letterfluencya_total \n",
      "\n",
      "Calculating: ['letterfluencys_total']\n",
      "Used Equation: letterfluencys_q1+letterfluencys_q2+letterfluencys_q3+letterfluencys_q4 = 6.0 = letterfluencys_total \n",
      "\n",
      "Calculating: ['letterfluencyfas_total']\n",
      "Used Equation: letterfluencyf_total+letterfluencya_total+letterfluencys_total = 16.0 = letterfluencyfas_total \n",
      "\n",
      "Calculating: ['letterfluencyfas_total_heaton']\n",
      "Matched: (16 <= age) & (age <= 59) & (9 <= education) & (education <= 12)\n",
      "Expected 40.5+/-10.7 but observed 16.0\n",
      "Scaled to: z=-2.2897196261682247 \n",
      "\n",
      "Resulting in: \n",
      " letterfluencya_total:5.0\n",
      " letterfluencyf_total:5.0\n",
      " letterfluencyfas_total:16.0\n",
      " letterfluencyfas_total_heaton:-2.2897196261682247\n",
      " letterfluencys_total:6.0\n",
      "None\n"
     ]
    },
    {
     "data": {
      "image/png": "[encoded data removed]",
      "text/plain": [
       "<Figure size 432x288 with 1 Axes>"
      ]
     },
     "metadata": {
      "needs_background": "light"
     },
     "output_type": "display_data"
    }
   ],
   "source": [
    "LetterFluencyBattery.check_battery(map_neuro)"
   ]
  },
  {
   "cell_type": "markdown",
   "id": "favorite-settle",
   "metadata": {},
   "source": [
    "## Category Fluency - Animals"
   ]
  },
  {
   "cell_type": "code",
   "execution_count": 58,
   "id": "incorporate-providence",
   "metadata": {},
   "outputs": [],
   "source": [
    "# export \n",
    "# hide\n",
    "\n",
    "class CategoryFluencyAnimalsBattery(AbstractBattery):\n",
    "    \n",
    "    @staticmethod\n",
    "    def from_defaults(root_data = 'data/'):\n",
    "        \n",
    "        heaton_gender = CategoricalOp('gender', {'male': 1, 'female': 2}, 'heaton_gender')\n",
    "        heaton_race = CategoricalOp('race', {'AA': 1, 'white': 2, 'asian': 2, 4: 2}, 'heaton_race')\n",
    "        \n",
    "        total_op = EquationOp(\"categoryfluency_total\",\n",
    "                              \"categoryfluency_q1+categoryfluency_q2+categoryfluency_q3+categoryfluency_q4\",\n",
    "                              ['categoryfluency_q1', 'categoryfluency_q2', 'categoryfluency_q3', 'categoryfluency_q4'])\n",
    "        \n",
    "        heaton_scaling = pd.read_csv('data/norms/from_kate/sheets/Heaton.csv')\n",
    "        cat_scaling = create_scaling(heaton_scaling, 'categoryfluency_total', 'categoryfluency_total_scaled')\n",
    "        \n",
    "        cat_heaton_2 = MultiLookupOp.from_sheet_format('data/norms/from_kate/sheets/Animals.csv',\n",
    "                                                          HEATON_MAPPINGS,\n",
    "                                                          ['age', 'heaton_gender','heaton_race',  'education'],\n",
    "                                                          'categoryfluency_total_scaled',\n",
    "                                                          'categoryfluency_total_heaton',\n",
    "                                                          extra_filter = 'heaton_race == 2')\n",
    "        \n",
    "\n",
    "\n",
    "        cat_heaton_1 = MultiLookupOp.from_sheet_format('data/norms/from_kate/sheets/Animals_AA.csv',\n",
    "                                                          HEATON_MAPPINGS,\n",
    "                                                          ['age', 'heaton_gender','heaton_race',  'education'],\n",
    "                                                          'categoryfluency_total_scaled',\n",
    "                                                          'categoryfluency_total_heaton',\n",
    "                                                          extra_filter = 'heaton_race == 1')\n",
    "        \n",
    "        \n",
    "        cat_heaton_1.incoperate(cat_heaton_2)\n",
    "    \n",
    "        \n",
    "        scaler = TestCalculator('Animals_scaling',\n",
    "                               [heaton_gender, heaton_race,\n",
    "                                total_op,\n",
    "                                AbstractOperation.from_config(cat_scaling),\n",
    "                                cat_heaton_1\n",
    "                               ])\n",
    "        \n",
    "        return CategoryFluencyAnimalsBattery(scaler, \n",
    "                                      ['categoryfluency_total_heaton'])"
   ]
  },
  {
   "cell_type": "code",
   "execution_count": 59,
   "id": "varied-world",
   "metadata": {},
   "outputs": [
    {
     "name": "stdout",
     "output_type": "stream",
     "text": [
      "Input: \n",
      " age:59\n",
      " categoryfluency_q1:5.0\n",
      " categoryfluency_q2:5.0\n",
      " categoryfluency_q3:4.0\n",
      " categoryfluency_q4:0.0\n",
      " education:10\n",
      " gender:male\n",
      " race:AA\n",
      "Calculating: ['heaton_gender']\n",
      "gender:male -> heaton_gender:1 \n",
      "\n",
      "Calculating: ['heaton_race']\n",
      "race:AA -> heaton_race:1 \n",
      "\n",
      "Calculating: ['categoryfluency_total']\n",
      "Used Equation: categoryfluency_q1+categoryfluency_q2+categoryfluency_q3+categoryfluency_q4 = 14.0 = categoryfluency_total \n",
      "\n",
      "Calculating: ['categoryfluency_total_scaled']\n",
      "categoryfluency_total matched 14.0, scaled to 7.0 \n",
      "\n",
      "Calculating: ['categoryfluency_total_heaton']\n",
      "Matched: (heaton_race == 1) & ((age >= 50) & ((9 < education) & (education <= 12)) & (heaton_gender == 1))\n",
      "Mapped to: 34\n",
      "Scaled to: z=-1.6 \n",
      "\n",
      "Resulting in: \n",
      " categoryfluency_total:14.0\n",
      " categoryfluency_total_heaton:-1.6\n",
      " categoryfluency_total_scaled:7.0\n",
      " heaton_gender:1\n",
      " heaton_race:1\n",
      "None\n"
     ]
    },
    {
     "data": {
      "image/png": "[encoded data removed]",
      "text/plain": [
       "<Figure size 432x288 with 1 Axes>"
      ]
     },
     "metadata": {
      "needs_background": "light"
     },
     "output_type": "display_data"
    }
   ],
   "source": [
    "CategoryFluencyAnimalsBattery.check_battery(map_neuro)"
   ]
  },
  {
   "cell_type": "markdown",
   "id": "extraordinary-community",
   "metadata": {},
   "source": [
    "## BNT-30"
   ]
  },
  {
   "cell_type": "code",
   "execution_count": 32,
   "id": "varied-azerbaijan",
   "metadata": {},
   "outputs": [],
   "source": [
    "# export \n",
    "# hide\n",
    "\n",
    "class BNT30Battery(AbstractBattery):\n",
    "    \n",
    "    @staticmethod\n",
    "    def from_defaults(root_data = 'data/', final_cols = None):\n",
    "        \n",
    "        total_op = EquationOp(\"bnt30_plc\",\n",
    "                              \"bnt30\",\n",
    "                              ['bnt30'])\n",
    "\n",
    "        \n",
    "        calc = TestCalculator('bnt30_placeholder',\n",
    "                              [total_op])\n",
    "        \n",
    "        return BNT30Battery(calc, \n",
    "                            ['bnt30_plc'],\n",
    "                            z_scaled=False)"
   ]
  },
  {
   "cell_type": "code",
   "execution_count": 34,
   "id": "headed-cooperative",
   "metadata": {},
   "outputs": [],
   "source": [
    "#BNT30Battery.check_battery(map_neuro)"
   ]
  },
  {
   "cell_type": "markdown",
   "id": "tropical-payday",
   "metadata": {},
   "source": [
    "## Clock Drawing\n",
    "\n",
    "Completely placeholder"
   ]
  },
  {
   "cell_type": "code",
   "execution_count": 60,
   "id": "defensive-wallet",
   "metadata": {},
   "outputs": [],
   "source": [
    "# export \n",
    "# hide\n",
    "\n",
    "class ClockDrawingBattery(AbstractBattery):\n",
    "    \n",
    "    @staticmethod\n",
    "    def from_defaults(root_data = 'data/', final_cols = None):\n",
    "        \n",
    "        total_op = EquationOp(\"clockcommand1_plc\",\n",
    "                              \"clockcommand1\",\n",
    "                              ['clockcommand1', 'clockcopy1'])\n",
    "\n",
    "        \n",
    "        calc = TestCalculator('clockdrawing_placeholder',\n",
    "                              [total_op])\n",
    "        \n",
    "        return ClockDrawingBattery(calc, \n",
    "                                   ['clockcommand1_plc'],\n",
    "                                   z_scaled=False)"
   ]
  },
  {
   "cell_type": "code",
   "execution_count": 61,
   "id": "alien-transsexual",
   "metadata": {},
   "outputs": [
    {
     "name": "stdout",
     "output_type": "stream",
     "text": [
      "Input: \n",
      " clockcommand1:10.0\n",
      " clockcopy1:10.0\n",
      "Calculating: ['clockcommand1_plc']\n",
      "Used Equation: clockcommand1 = 10.0 = clockcommand1_plc \n",
      "\n",
      "Resulting in: \n",
      " clockcommand1_plc:10.0\n",
      "None\n"
     ]
    },
    {
     "data": {
      "image/png": "[encoded data removed]",
      "text/plain": [
       "<Figure size 432x288 with 1 Axes>"
      ]
     },
     "metadata": {
      "needs_background": "light"
     },
     "output_type": "display_data"
    }
   ],
   "source": [
    "ClockDrawingBattery.check_battery(map_neuro)"
   ]
  },
  {
   "cell_type": "markdown",
   "id": "timely-object",
   "metadata": {},
   "source": [
    "## ROCF\n",
    "\n",
    "Completely placeholder"
   ]
  },
  {
   "cell_type": "code",
   "execution_count": 63,
   "id": "exposed-niagara",
   "metadata": {},
   "outputs": [],
   "source": [
    "# export \n",
    "# hide\n",
    "\n",
    "class ROCFBattery(AbstractBattery):\n",
    "    \n",
    "    @staticmethod\n",
    "    def from_defaults(root_data = 'data/', final_cols = None):\n",
    "        \n",
    "        total_op = EquationOp(\"rocf_plc\",\n",
    "                              \"rocf\",\n",
    "                              ['rocf', 'rocftime'])\n",
    "\n",
    "        \n",
    "        calc = TestCalculator('rocf_placeholder',\n",
    "                              [total_op])\n",
    "        \n",
    "        return ROCFBattery(calc, \n",
    "                           ['rocf_plc'],\n",
    "                           z_scaled=False)"
   ]
  },
  {
   "cell_type": "code",
   "execution_count": 64,
   "id": "expected-philip",
   "metadata": {},
   "outputs": [
    {
     "name": "stdout",
     "output_type": "stream",
     "text": [
      "Input: \n",
      " rocf:29.0\n",
      " rocftime:417.0\n",
      "Calculating: ['rocf_plc']\n",
      "Used Equation: rocf = 29.0 = rocf_plc \n",
      "\n",
      "Resulting in: \n",
      " rocf_plc:29.0\n",
      "None\n"
     ]
    },
    {
     "data": {
      "image/png": "[encoded data removed]",
      "text/plain": [
       "<Figure size 432x288 with 1 Axes>"
      ]
     },
     "metadata": {
      "needs_background": "light"
     },
     "output_type": "display_data"
    }
   ],
   "source": [
    "ROCFBattery.check_battery(map_neuro)"
   ]
  },
  {
   "cell_type": "markdown",
   "id": "prompt-treasury",
   "metadata": {},
   "source": [
    "## Grooved Peg Board"
   ]
  },
  {
   "cell_type": "code",
   "execution_count": 66,
   "id": "sensitive-forth",
   "metadata": {},
   "outputs": [],
   "source": [
    "# export \n",
    "# hide\n",
    "\n",
    "class GroovedPegBoardBattery(AbstractBattery):\n",
    "    \n",
    "    \n",
    "    @staticmethod\n",
    "    def from_defaults(root_data = 'data/'):\n",
    "        \n",
    "        heaton_gender = CategoricalOp('gender', {'male': 1, 'female': 2}, 'heaton_gender')\n",
    "        heaton_race = CategoricalOp('race', {'AA': 1, 'white': 2, 'asian': 2, 4: 2}, 'heaton_race')\n",
    "        \n",
    "        heaton_scaling = pd.read_csv('data/norms/from_kate/sheets/Heaton.csv')\n",
    "        gpd = create_scaling(heaton_scaling, 'groovedpegdom', 'groovedpegdom_scaled')\n",
    "        gpn = create_scaling(heaton_scaling, 'groovedpegnondom', 'groovedpegnondom_scaled')\n",
    "        \n",
    "        grooved_peg_dom_2 = MultiLookupOp.from_sheet_format('data/norms/from_kate/sheets/GPD.csv',\n",
    "                                                          HEATON_MAPPINGS,\n",
    "                                                          ['age', 'heaton_gender','heaton_race',  'education'],\n",
    "                                                          'groovedpegdom_scaled',\n",
    "                                                          'groovedpegdom_heaton',\n",
    "                                                          extra_filter = 'heaton_race == 2')\n",
    "        \n",
    "        grooved_peg_ndom_2 = MultiLookupOp.from_sheet_format('data/norms/from_kate/sheets/GPN.csv',\n",
    "                                                          HEATON_MAPPINGS,\n",
    "                                                          ['age', 'heaton_gender', 'heaton_race', 'education'],\n",
    "                                                          'groovedpegnondom_scaled',\n",
    "                                                          'groovedpegnondom_heaton',\n",
    "                                                          extra_filter = 'heaton_race == 2')\n",
    "\n",
    "        grooved_peg_dom_1 = MultiLookupOp.from_sheet_format('data/norms/from_kate/sheets/GPD_AA.csv',\n",
    "                                                          HEATON_MAPPINGS,\n",
    "                                                          ['age', 'heaton_gender','heaton_race',  'education'],\n",
    "                                                          'groovedpegdom_scaled',\n",
    "                                                          'groovedpegdom_heaton',\n",
    "                                                          extra_filter = 'heaton_race == 1')\n",
    "        \n",
    "        grooved_peg_ndom_1 = MultiLookupOp.from_sheet_format('data/norms/from_kate/sheets/GPN_AA.csv',\n",
    "                                                          HEATON_MAPPINGS,\n",
    "                                                          ['age', 'heaton_gender', 'heaton_race', 'education'],\n",
    "                                                          'groovedpegnondom_scaled',\n",
    "                                                          'groovedpegnondom_heaton',\n",
    "                                                          extra_filter = 'heaton_race == 1')\n",
    "        \n",
    "        grooved_peg_dom_1.incoperate(grooved_peg_dom_2)\n",
    "        grooved_peg_ndom_1.incoperate(grooved_peg_ndom_2)\n",
    "    \n",
    "        \n",
    "        \n",
    "        scaler = TestCalculator('grooved_pegboard_scaling',\n",
    "                               [heaton_gender, heaton_race,\n",
    "                                AbstractOperation.from_config(gpd),\n",
    "                                AbstractOperation.from_config(gpn),\n",
    "                                grooved_peg_dom_1, grooved_peg_ndom_1,\n",
    "                               ])\n",
    "        \n",
    "        return GroovedPegBoardBattery(scaler, \n",
    "                           ['groovedpegdom_heaton', 'groovedpegnondom_heaton'])"
   ]
  },
  {
   "cell_type": "code",
   "execution_count": 67,
   "id": "southwest-impact",
   "metadata": {},
   "outputs": [
    {
     "name": "stdout",
     "output_type": "stream",
     "text": [
      "Input: \n",
      " age:59\n",
      " education:10\n",
      " gender:male\n",
      " groovedpegdom:98.0\n",
      " groovedpegnondom:140.0\n",
      " race:AA\n",
      "Calculating: ['heaton_gender']\n",
      "gender:male -> heaton_gender:1 \n",
      "\n",
      "Calculating: ['heaton_race']\n",
      "race:AA -> heaton_race:1 \n",
      "\n",
      "Calculating: ['groovedpegdom_scaled']\n",
      "groovedpegdom matched 89.0, scaled to 5.0 \n",
      "\n",
      "Calculating: ['groovedpegnondom_scaled']\n",
      "groovedpegnondom matched 131.0, scaled to 3.0 \n",
      "\n",
      "Calculating: ['groovedpegdom_heaton']\n",
      "Matched: (heaton_race == 1) & ((age >= 50) & ((9 < education) & (education <= 12)) & (heaton_gender == 1))\n",
      "Mapped to: 34\n",
      "Scaled to: z=-1.6 \n",
      "\n",
      "Calculating: ['groovedpegnondom_heaton']\n",
      "Matched: (heaton_race == 1) & ((age >= 50) & ((9 < education) & (education <= 12)) & (heaton_gender == 1))\n",
      "Mapped to: 25\n",
      "Scaled to: z=-2.5 \n",
      "\n",
      "Resulting in: \n",
      " groovedpegdom_heaton:-1.6\n",
      " groovedpegdom_scaled:5.0\n",
      " groovedpegnondom_heaton:-2.5\n",
      " groovedpegnondom_scaled:3.0\n",
      " heaton_gender:1\n",
      " heaton_race:1\n",
      "None\n"
     ]
    },
    {
     "data": {
      "image/png": "[encoded data removed]",
      "text/plain": [
       "<Figure size 432x288 with 1 Axes>"
      ]
     },
     "metadata": {
      "needs_background": "light"
     },
     "output_type": "display_data"
    }
   ],
   "source": [
    "GroovedPegBoardBattery.check_battery(map_neuro)"
   ]
  },
  {
   "cell_type": "markdown",
   "id": "under-fleece",
   "metadata": {},
   "source": [
    "## Trail A"
   ]
  },
  {
   "cell_type": "code",
   "execution_count": 68,
   "id": "hazardous-massachusetts",
   "metadata": {},
   "outputs": [],
   "source": [
    "# export\n",
    "# hide\n",
    "\n",
    "class TrailABattery(AbstractBattery):\n",
    "    \n",
    "    @staticmethod\n",
    "    def from_defaults(root_data = 'data/'):\n",
    "        \n",
    "        heaton_gender = CategoricalOp('gender', {'male': 1, 'female': 2}, 'heaton_gender')\n",
    "        heaton_race = CategoricalOp('race', {'AA': 1, 'white': 2, 'asian': 2, 4: 2}, 'heaton_race')\n",
    "        \n",
    "        heaton_scaling = pd.read_csv('data/norms/from_kate/sheets/Heaton.csv')\n",
    "        traila_scaling = create_scaling(heaton_scaling, 'traila', 'traila_scaled')\n",
    "        \n",
    "        traila_heaton_2 = MultiLookupOp.from_sheet_format('data/norms/from_kate/sheets/TrailsA.csv',\n",
    "                                                          HEATON_MAPPINGS,\n",
    "                                                          ['age', 'heaton_gender','heaton_race',  'education'],\n",
    "                                                          'traila_scaled',\n",
    "                                                          'traila_heaton',\n",
    "                                                          extra_filter = 'heaton_race == 2')\n",
    "        \n",
    "\n",
    "\n",
    "        traila_heaton_1 = MultiLookupOp.from_sheet_format('data/norms/from_kate/sheets/TrailsA_AA.csv',\n",
    "                                                          HEATON_MAPPINGS,\n",
    "                                                          ['age', 'heaton_gender','heaton_race',  'education'],\n",
    "                                                          'traila_scaled',\n",
    "                                                          'traila_heaton',\n",
    "                                                          extra_filter = 'heaton_race == 1')\n",
    "        \n",
    "        \n",
    "        traila_heaton_1.incoperate(traila_heaton_2)\n",
    "    \n",
    "        \n",
    "        scaler = TestCalculator('trailA_scaling',\n",
    "                               [heaton_gender, heaton_race,\n",
    "                                AbstractOperation.from_config(traila_scaling),\n",
    "                                traila_heaton_1\n",
    "                               ])\n",
    "        \n",
    "        return TrailABattery(scaler, \n",
    "                             ['traila_heaton'])"
   ]
  },
  {
   "cell_type": "code",
   "execution_count": 69,
   "id": "apart-partner",
   "metadata": {},
   "outputs": [
    {
     "name": "stdout",
     "output_type": "stream",
     "text": [
      "Input: \n",
      " age:59\n",
      " education:10\n",
      " gender:male\n",
      " race:AA\n",
      " traila:50.0\n",
      "Calculating: ['heaton_gender']\n",
      "gender:male -> heaton_gender:1 \n",
      "\n",
      "Calculating: ['heaton_race']\n",
      "race:AA -> heaton_race:1 \n",
      "\n",
      "Calculating: ['traila_scaled']\n",
      "traila matched 45.0, scaled to 6.0 \n",
      "\n",
      "Calculating: ['traila_heaton']\n",
      "Matched: (heaton_race == 1) & ((age >= 50) & ((9 < education) & (education <= 12)) & (heaton_gender == 1))\n",
      "Mapped to: 36.0\n",
      "Scaled to: z=-1.4 \n",
      "\n",
      "Resulting in: \n",
      " heaton_gender:1\n",
      " heaton_race:1\n",
      " traila_heaton:-1.4\n",
      " traila_scaled:6.0\n",
      "None\n"
     ]
    },
    {
     "data": {
      "image/png": "[encoded data removed]",
      "text/plain": [
       "<Figure size 432x288 with 1 Axes>"
      ]
     },
     "metadata": {
      "needs_background": "light"
     },
     "output_type": "display_data"
    }
   ],
   "source": [
    "TrailABattery.check_battery(map_neuro)"
   ]
  },
  {
   "cell_type": "markdown",
   "id": "average-consensus",
   "metadata": {},
   "source": [
    "## TrailB"
   ]
  },
  {
   "cell_type": "code",
   "execution_count": 70,
   "id": "successful-supervisor",
   "metadata": {},
   "outputs": [],
   "source": [
    "# export \n",
    "# hide\n",
    "\n",
    "class TrailBBattery(AbstractBattery):\n",
    "    \n",
    "    @staticmethod\n",
    "    def from_defaults(root_data = 'data/', final_cols = None):\n",
    "        \n",
    "        heaton_gender = CategoricalOp('gender', {'male': 1, 'female': 2}, 'heaton_gender')\n",
    "        heaton_race = CategoricalOp('race', {'AA': 1, 'white': 2, 'asian': 2, 4: 2}, 'heaton_race')\n",
    "        \n",
    "        heaton_scaling = pd.read_csv('data/norms/from_kate/sheets/Heaton.csv')\n",
    "        trailb_scaling = create_scaling(heaton_scaling, 'trailb', 'trailb_scaled')\n",
    "        \n",
    "        trailb_heaton_2 = MultiLookupOp.from_sheet_format('data/norms/from_kate/sheets/TrailsB.csv',\n",
    "                                                          HEATON_MAPPINGS,\n",
    "                                                          ['age', 'heaton_gender','heaton_race',  'education'],\n",
    "                                                          'trailb_scaled',\n",
    "                                                          'trailb_heaton',\n",
    "                                                          extra_filter = 'heaton_race == 2')\n",
    "        \n",
    "        trailb_heaton_1 = MultiLookupOp.from_sheet_format('data/norms/from_kate/sheets/TrailsB_AA.csv',\n",
    "                                                          HEATON_MAPPINGS,\n",
    "                                                          ['age', 'heaton_gender','heaton_race',  'education'],\n",
    "                                                          'trailb_scaled',\n",
    "                                                          'trailb_heaton',\n",
    "                                                          extra_filter = 'heaton_race == 1')\n",
    "        trailb_heaton_1.incoperate(trailb_heaton_2)\n",
    "        scaler = TestCalculator('trailB_scaling',\n",
    "                               [heaton_gender, heaton_race,\n",
    "                                AbstractOperation.from_config(trailb_scaling),\n",
    "                                trailb_heaton_1\n",
    "                               ])\n",
    "        \n",
    "        if final_cols is None:\n",
    "            final_cols = ['trailb_heaton']\n",
    "        \n",
    "        return TrailBBattery(scaler, \n",
    "                             final_cols)"
   ]
  },
  {
   "cell_type": "code",
   "execution_count": 71,
   "id": "lined-issue",
   "metadata": {},
   "outputs": [
    {
     "name": "stdout",
     "output_type": "stream",
     "text": [
      "Input: \n",
      " age:59\n",
      " education:10\n",
      " gender:male\n",
      " race:AA\n",
      " trailb:130.0\n",
      "Calculating: ['heaton_gender']\n",
      "gender:male -> heaton_gender:1 \n",
      "\n",
      "Calculating: ['heaton_race']\n",
      "race:AA -> heaton_race:1 \n",
      "\n",
      "Calculating: ['trailb_scaled']\n",
      "trailb matched 124, scaled to 6 \n",
      "\n",
      "Calculating: ['trailb_heaton']\n",
      "Matched: (heaton_race == 1) & ((age >= 50) & ((9 < education) & (education <= 12)) & (heaton_gender == 1))\n",
      "Mapped to: 37.0\n",
      "Scaled to: z=-1.3 \n",
      "\n",
      "Resulting in: \n",
      " heaton_gender:1\n",
      " heaton_race:1\n",
      " trailb_heaton:-1.3\n",
      " trailb_scaled:6\n",
      "None\n"
     ]
    },
    {
     "data": {
      "image/png": "[encoded data removed]",
      "text/plain": [
       "<Figure size 432x288 with 1 Axes>"
      ]
     },
     "metadata": {
      "needs_background": "light"
     },
     "output_type": "display_data"
    }
   ],
   "source": [
    "TrailBBattery.check_battery(map_neuro)"
   ]
  },
  {
   "cell_type": "markdown",
   "id": "sacred-liabilities",
   "metadata": {},
   "source": [
    "## WAIS-4 Digit-Symbol Coding\n",
    "\n",
    "Currently only a placeholder."
   ]
  },
  {
   "cell_type": "code",
   "execution_count": 72,
   "id": "electronic-approval",
   "metadata": {},
   "outputs": [],
   "source": [
    "# export \n",
    "# hide\n",
    "\n",
    "class WAIS4DigitSymbolBattery(AbstractBattery):\n",
    "    \n",
    "    @staticmethod\n",
    "    def from_defaults(root_data = 'data/', final_cols = None):\n",
    "        \n",
    "        wais4_test_definition = os.path.join(root_data, 'norms/placeholders/wais4.yaml')\n",
    "        wais4_calc = TestCalculator.from_config(yaml.full_load(open(wais4_test_definition)))\n",
    "        \n",
    "        if final_cols is None:\n",
    "            final_cols =  ['digitsforwardwais4_plc']\n",
    "        \n",
    "        return WAIS4DigitSymbolBattery(wais4_calc, \n",
    "                               final_cols,\n",
    "                                z_scaled=False)"
   ]
  },
  {
   "cell_type": "code",
   "execution_count": 73,
   "id": "described-shopper",
   "metadata": {},
   "outputs": [
    {
     "name": "stdout",
     "output_type": "stream",
     "text": [
      "Input: \n",
      " age:62.0\n",
      " digitsbackwardwais4:3.0\n",
      " digitsforwardwais4:5.0\n",
      " digitssequencingwais4:4.0\n",
      " ldsbwais4:5.0\n",
      " ldsfwais4:7.0\n",
      " ldsswais4:4.0\n",
      "Calculating: ['digitsforwardwais4_plc']\n",
      "Used Equation: digitsforwardwais4 = 5.0 = digitsforwardwais4_plc \n",
      "\n",
      "Calculating: ['ldsfwais4_plc']\n",
      "Used Equation: ldsfwais4 = 7.0 = ldsfwais4_plc \n",
      "\n",
      "Calculating: ['digitsbackwardwais4_plc']\n",
      "Used Equation: digitsbackwardwais4 = 3.0 = digitsbackwardwais4_plc \n",
      "\n",
      "Calculating: ['backwards_lds_plc']\n",
      "Used Equation: ldsbwais4 = 5.0 = backwards_lds_plc \n",
      "\n",
      "Calculating: ['digitssequencingwais4_plc']\n",
      "Used Equation: digitssequencingwais4 = 4.0 = digitssequencingwais4_plc \n",
      "\n",
      "Calculating: ['ldsswais4_plc']\n",
      "Used Equation: ldsswais4 = 4.0 = ldsswais4_plc \n",
      "\n",
      "Resulting in: \n",
      " backwards_lds_plc:5.0\n",
      " digitsbackwardwais4_plc:3.0\n",
      " digitsforwardwais4_plc:5.0\n",
      " digitssequencingwais4_plc:4.0\n",
      " ldsfwais4_plc:7.0\n",
      " ldsswais4_plc:4.0\n",
      "None\n"
     ]
    },
    {
     "data": {
      "image/png": "[encoded data removed]",
      "text/plain": [
       "<Figure size 432x288 with 1 Axes>"
      ]
     },
     "metadata": {
      "needs_background": "light"
     },
     "output_type": "display_data"
    }
   ],
   "source": [
    "WAIS4DigitSymbolBattery.check_battery(map_neuro)"
   ]
  },
  {
   "cell_type": "markdown",
   "id": "linear-attitude",
   "metadata": {},
   "source": [
    "## Modified Wisconson Card Sort\n",
    "\n",
    "Currently only a placeholder."
   ]
  },
  {
   "cell_type": "code",
   "execution_count": 75,
   "id": "frank-andrews",
   "metadata": {},
   "outputs": [],
   "source": [
    "# export \n",
    "# hide\n",
    "\n",
    "class mWCSTBattery(AbstractBattery):\n",
    "    \n",
    "    @staticmethod\n",
    "    def from_defaults(root_data = 'data/'):\n",
    "        \n",
    "        test_definition = os.path.join(root_data, 'norms/placeholders/mWCST.yaml')\n",
    "        calc = TestCalculator.from_config(yaml.full_load(open(test_definition)))\n",
    "        \n",
    "        return mWCSTBattery(calc, \n",
    "                                ['mwcstcat_plc', 'mwcstpersev_plc', \n",
    "                                 'mwcsterrors_plc', 'mwcstpercentpersev_plc'], \n",
    "                                z_scaled=False)"
   ]
  },
  {
   "cell_type": "code",
   "execution_count": 76,
   "id": "improving-membrane",
   "metadata": {},
   "outputs": [
    {
     "name": "stdout",
     "output_type": "stream",
     "text": [
      "Input: \n",
      " mwcstcat:6.0\n",
      " mwcsterrors:5.0\n",
      " mwcstpersev:2.0\n",
      "Calculating: ['mwcstcat_plc']\n",
      "Used Equation: mwcstcat = 6.0 = mwcstcat_plc \n",
      "\n",
      "Calculating: ['mwcstpersev_plc']\n",
      "Used Equation: mwcstpersev = 2.0 = mwcstpersev_plc \n",
      "\n",
      "Calculating: ['mwcsterrors_plc']\n",
      "Used Equation: mwcsterrors = 5.0 = mwcsterrors_plc \n",
      "\n",
      "Calculating: ['mwcstpercentpersev']\n",
      "Used Equation: mwcstpersev/mwcsterrors = 0.4 = mwcstpercentpersev \n",
      "\n",
      "Calculating: ['mwcstpercentpersev_plc']\n",
      "Used Equation: mwcstpercentpersev = 0.4 = mwcstpercentpersev_plc \n",
      "\n",
      "Resulting in: \n",
      " mwcstcat_plc:6.0\n",
      " mwcsterrors_plc:5.0\n",
      " mwcstpercentpersev:0.4\n",
      " mwcstpercentpersev_plc:0.4\n",
      " mwcstpersev_plc:2.0\n",
      "None\n"
     ]
    },
    {
     "data": {
      "image/png": "[encoded data removed]",
      "text/plain": [
       "<Figure size 432x288 with 1 Axes>"
      ]
     },
     "metadata": {
      "needs_background": "light"
     },
     "output_type": "display_data"
    }
   ],
   "source": [
    "mWCSTBattery.check_battery(map_neuro)"
   ]
  },
  {
   "cell_type": "markdown",
   "id": "registered-brief",
   "metadata": {},
   "source": [
    "## Stroop"
   ]
  },
  {
   "cell_type": "code",
   "execution_count": 77,
   "id": "optimum-murder",
   "metadata": {},
   "outputs": [],
   "source": [
    "# export \n",
    "# hide\n",
    "\n",
    "class StroopBattery(AbstractBattery):\n",
    "    \n",
    "    @staticmethod\n",
    "    def from_defaults(root_data = 'data/', final_cols = None):\n",
    "        \n",
    "        stroop_test_definition = os.path.join(root_data, 'norms/norman/norman_stroop_regnorm.yaml')\n",
    "        stroop_calc = TestCalculator.from_config(yaml.full_load(open(stroop_test_definition)))\n",
    "        \n",
    "        if final_cols is None:\n",
    "            final_cols = ['stroopword_norman', 'stroopcolor_norman', 'stroopcolorword_norman']\n",
    "        \n",
    "        return StroopBattery(stroop_calc, final_cols)"
   ]
  },
  {
   "cell_type": "code",
   "execution_count": 78,
   "id": "affiliated-worst",
   "metadata": {},
   "outputs": [
    {
     "name": "stdout",
     "output_type": "stream",
     "text": [
      "Input: \n",
      " age:62\n",
      " education:11\n",
      " gender:male\n",
      " race:AA\n",
      " stroopcolor:53.0\n",
      " stroopcolorword:23.0\n",
      " stroopword:67.0\n",
      "Calculating: ['norman_gender']\n",
      "gender:male -> norman_gender:0 \n",
      "\n",
      "Calculating: ['norman_race']\n",
      "race:AA -> norman_race:1 \n",
      "\n",
      "Calculating: ['stroopcolor_scaled']\n",
      "stroopcolor matched 49, scaled to 5 \n",
      "\n",
      "Calculating: ['stroopcolorword_scaled']\n",
      "stroopcolorword matched 22, scaled to 4 \n",
      "\n",
      "Calculating: ['stroopword_scaled']\n",
      "stroopword matched 67, scaled to 4 \n",
      "\n",
      "Calculating: ['stroopcolor_norman']\n",
      "Matched (norman_race == 1) & ((age >= 18) & (age <= 66)), applied ((stroopcolor_scaled - (0.3102*(education-13.92)+(-0.1006)*(age-40.67)+1.4915*norman_gender+8.2672))/2.6643)*10+50 = -0.08092857410952234 \n",
      "\n",
      "Calculating: ['stroopcolorword_norman']\n",
      "Matched (norman_race == 1) & ((age >= 18) & (age <= 66)), applied ((stroopcolorword_scaled - (0.2363*(education-13.94)+(-0.1219)*(age-40.67)+1.9479*norman_gender+7.449))/2.2658)*10+50 = -0.0680338070438701 \n",
      "\n",
      "Calculating: ['stroopword_norman']\n",
      "Matched (norman_race == 1) & ((age >= 18) & (age <= 66)), applied ((stroopword_scaled - (0.3557*(education-13.92)+(-0.0866)*(age-40.67)+1.2315*norman_gender+8.3263)-(0.00095))/2.8127)*10+50 = -0.5124712909304229 \n",
      "\n",
      "Resulting in: \n",
      " norman_gender:0\n",
      " norman_race:1\n",
      " stroopcolor_norman:-0.08092857410952234\n",
      " stroopcolor_scaled:5\n",
      " stroopcolorword_norman:-0.0680338070438701\n",
      " stroopcolorword_scaled:4\n",
      " stroopword_norman:-0.5124712909304229\n",
      " stroopword_scaled:4\n",
      "None\n"
     ]
    },
    {
     "data": {
      "image/png": "[encoded data removed]",
      "text/plain": [
       "<Figure size 432x288 with 1 Axes>"
      ]
     },
     "metadata": {
      "needs_background": "light"
     },
     "output_type": "display_data"
    }
   ],
   "source": [
    "StroopBattery.check_battery(map_neuro)"
   ]
  }
 ],
 "metadata": {
  "kernelspec": {
   "display_name": "Python 3",
   "language": "python",
   "name": "python3"
  },
  "language_info": {
   "codemirror_mode": {
    "name": "ipython",
    "version": 3
   },
   "file_extension": ".py",
   "mimetype": "text/x-python",
   "name": "python",
   "nbconvert_exporter": "python",
   "pygments_lexer": "ipython3",
   "version": "3.9.2"
  }
 },
 "nbformat": 4,
 "nbformat_minor": 5
}
