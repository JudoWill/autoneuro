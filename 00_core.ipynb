{
 "cells": [
  {
   "cell_type": "code",
   "execution_count": 1,
   "metadata": {},
   "outputs": [],
   "source": [
    "# default_exp core"
   ]
  },
  {
   "cell_type": "markdown",
   "metadata": {},
   "source": [
    "# AutoNeuro\n",
    "\n",
    "> API details.\n",
    "\n",
    "\n",
    "Normalizing neurological data is near impossible to do at scale.\n",
    "There are dozens of neurological tests each with a diverse collection of normalizations data.\n",
    "Due to the fractured nature of the research, this has led to a collection of diverse normalizations schemes.\n",
    "This package is an attempt to unify these into a single API.\n"
   ]
  },
  {
   "cell_type": "code",
   "execution_count": 2,
   "metadata": {},
   "outputs": [],
   "source": [
    "#hide\n",
    "\n",
    "from nbdev.showdoc import *"
   ]
  },
  {
   "cell_type": "code",
   "execution_count": 3,
   "outputs": [],
   "source": [
    "#hide\n",
    "#export\n",
    "\n",
    "import pandas as pd\n",
    "import numpy as np\n",
    "import numexpr as ne\n",
    "from sklearn.base import BaseEstimator, TransformerMixin\n",
    "from sklearn.compose import ColumnTransformer\n",
    "from scipy.stats import norm\n",
    "import yaml\n",
    "import os\n",
    "from itertools import chain\n",
    "\n"
   ],
   "metadata": {
    "collapsed": false,
    "pycharm": {
     "name": "#%%\n"
    }
   }
  },
  {
   "cell_type": "markdown",
   "metadata": {
    "pycharm": {
     "name": "#%% md\n"
    }
   },
   "source": [
    "This will be easiest with an example test.\n",
    "The BVMT-R is a useful example.\n",
    "There are multiple measurements for the test Immediate Recall, Delayed Recall, and Recognition.\n",
    "The values represent the number of cards remembered after different lengths of time.\n",
    "Here's an example dataset."
   ]
  },
  {
   "cell_type": "code",
   "execution_count": 4,
   "outputs": [
    {
     "data": {
      "text/plain": "    BVMTform  BVMTtrial1  BVMTtrial2  BVMTtrial3  BVMTimmed  BVMTdelay  \\\n8          1         2.0         4.0         4.0       10.0        4.0   \n9          1         2.0         6.0         7.0       15.0        6.0   \n10         1         2.0         2.0         4.0        8.0        2.0   \n11         1         3.0         6.0         7.0       16.0        7.0   \n12         1         3.0         6.0         3.0       12.0        3.0   \n\n    BVMTretention  BVMThits  BVMTfalsepos  BVMTrecog  BVMTcopy  Age  Sex  \\\n8           100.0       4.0           1.0        3.0      12.0   47    1   \n9            86.0       5.0           1.0        4.0      12.0   57    1   \n10           50.0       6.0           2.0        4.0      12.0   64    1   \n11          100.0       6.0           0.0        6.0      11.0   45    2   \n12           50.0       5.0           0.0        5.0      11.0   73    1   \n\n    Race  Race_specify  Education  EngFluency  SpanFluency  MMSE  \n8      2           NaN         10           3            0  28.0  \n9      2           NaN          9           3            0  25.0  \n10     2           NaN         16           3            0  26.0  \n11     2           NaN         10           3            0  29.0  \n12     2           NaN         10           3            0  29.0  ",
      "text/html": "<div>\n<style scoped>\n    .dataframe tbody tr th:only-of-type {\n        vertical-align: middle;\n    }\n\n    .dataframe tbody tr th {\n        vertical-align: top;\n    }\n\n    .dataframe thead th {\n        text-align: right;\n    }\n</style>\n<table border=\"1\" class=\"dataframe\">\n  <thead>\n    <tr style=\"text-align: right;\">\n      <th></th>\n      <th>BVMTform</th>\n      <th>BVMTtrial1</th>\n      <th>BVMTtrial2</th>\n      <th>BVMTtrial3</th>\n      <th>BVMTimmed</th>\n      <th>BVMTdelay</th>\n      <th>BVMTretention</th>\n      <th>BVMThits</th>\n      <th>BVMTfalsepos</th>\n      <th>BVMTrecog</th>\n      <th>BVMTcopy</th>\n      <th>Age</th>\n      <th>Sex</th>\n      <th>Race</th>\n      <th>Race_specify</th>\n      <th>Education</th>\n      <th>EngFluency</th>\n      <th>SpanFluency</th>\n      <th>MMSE</th>\n    </tr>\n  </thead>\n  <tbody>\n    <tr>\n      <th>8</th>\n      <td>1</td>\n      <td>2.0</td>\n      <td>4.0</td>\n      <td>4.0</td>\n      <td>10.0</td>\n      <td>4.0</td>\n      <td>100.0</td>\n      <td>4.0</td>\n      <td>1.0</td>\n      <td>3.0</td>\n      <td>12.0</td>\n      <td>47</td>\n      <td>1</td>\n      <td>2</td>\n      <td>NaN</td>\n      <td>10</td>\n      <td>3</td>\n      <td>0</td>\n      <td>28.0</td>\n    </tr>\n    <tr>\n      <th>9</th>\n      <td>1</td>\n      <td>2.0</td>\n      <td>6.0</td>\n      <td>7.0</td>\n      <td>15.0</td>\n      <td>6.0</td>\n      <td>86.0</td>\n      <td>5.0</td>\n      <td>1.0</td>\n      <td>4.0</td>\n      <td>12.0</td>\n      <td>57</td>\n      <td>1</td>\n      <td>2</td>\n      <td>NaN</td>\n      <td>9</td>\n      <td>3</td>\n      <td>0</td>\n      <td>25.0</td>\n    </tr>\n    <tr>\n      <th>10</th>\n      <td>1</td>\n      <td>2.0</td>\n      <td>2.0</td>\n      <td>4.0</td>\n      <td>8.0</td>\n      <td>2.0</td>\n      <td>50.0</td>\n      <td>6.0</td>\n      <td>2.0</td>\n      <td>4.0</td>\n      <td>12.0</td>\n      <td>64</td>\n      <td>1</td>\n      <td>2</td>\n      <td>NaN</td>\n      <td>16</td>\n      <td>3</td>\n      <td>0</td>\n      <td>26.0</td>\n    </tr>\n    <tr>\n      <th>11</th>\n      <td>1</td>\n      <td>3.0</td>\n      <td>6.0</td>\n      <td>7.0</td>\n      <td>16.0</td>\n      <td>7.0</td>\n      <td>100.0</td>\n      <td>6.0</td>\n      <td>0.0</td>\n      <td>6.0</td>\n      <td>11.0</td>\n      <td>45</td>\n      <td>2</td>\n      <td>2</td>\n      <td>NaN</td>\n      <td>10</td>\n      <td>3</td>\n      <td>0</td>\n      <td>29.0</td>\n    </tr>\n    <tr>\n      <th>12</th>\n      <td>1</td>\n      <td>3.0</td>\n      <td>6.0</td>\n      <td>3.0</td>\n      <td>12.0</td>\n      <td>3.0</td>\n      <td>50.0</td>\n      <td>5.0</td>\n      <td>0.0</td>\n      <td>5.0</td>\n      <td>11.0</td>\n      <td>73</td>\n      <td>1</td>\n      <td>2</td>\n      <td>NaN</td>\n      <td>10</td>\n      <td>3</td>\n      <td>0</td>\n      <td>29.0</td>\n    </tr>\n  </tbody>\n</table>\n</div>"
     },
     "execution_count": 4,
     "metadata": {},
     "output_type": "execute_result"
    }
   ],
   "source": [
    "bvmt_data = pd.read_csv('data/testing/bvmt.tsv', sep = '\\t', na_values=['na'])\n",
    "bvmt_demo = pd.read_csv('data/testing/bvmt_demo.tsv', sep = '\\t', na_values=['na'])\n",
    "bvmt_all = pd.concat([bvmt_data, bvmt_demo], axis=1)\n",
    "bvmt_all.tail()"
   ],
   "metadata": {
    "collapsed": false,
    "pycharm": {
     "name": "#%%\n"
    }
   }
  },
  {
   "cell_type": "markdown",
   "source": [
    "Our goal is to transform this data utilizing a collection of known normalization schemes.\n",
    "We will adapt the sklearn API to perform these tasks.\n",
    "This will allow us to use the vast array of other tools in the sklearn ecosystem.\n",
    "\n",
    "Let's start by using a lookup table style normalization scheme.\n",
    "This lookup table provides the mean and std of a \"healthy\" population on the same test."
   ],
   "metadata": {
    "collapsed": false,
    "pycharm": {
     "name": "#%% md\n"
    }
   }
  },
  {
   "cell_type": "code",
   "execution_count": 5,
   "outputs": [
    {
     "data": {
      "text/plain": "   MinAge  MaxAge  Total  Total-STD  Learn  Learn-STD     DR  DR-STD    ret  \\\n0      18      21  28.74       4.32   3.63       1.67  10.79    1.37  95.34   \n1      20      23  28.44       4.38   3.64       1.68  10.68    1.41  94.93   \n2      24      25  27.83       4.48   3.65       1.69  10.46    1.48  95.08   \n3      26      29  27.52       4.54   3.66       1.70  10.35    1.52  96.67   \n4      30      33  26.92       4.64   3.67       1.71  10.13    1.60  96.20   \n\n   ret-STD  Disc  Disc-STD  \n0     6.60  5.91      0.31  \n1     7.26  5.92      0.26  \n2     8.04  5.89      0.30  \n3     6.31  5.97      0.15  \n4     4.74  5.97      0.15  ",
      "text/html": "<div>\n<style scoped>\n    .dataframe tbody tr th:only-of-type {\n        vertical-align: middle;\n    }\n\n    .dataframe tbody tr th {\n        vertical-align: top;\n    }\n\n    .dataframe thead th {\n        text-align: right;\n    }\n</style>\n<table border=\"1\" class=\"dataframe\">\n  <thead>\n    <tr style=\"text-align: right;\">\n      <th></th>\n      <th>MinAge</th>\n      <th>MaxAge</th>\n      <th>Total</th>\n      <th>Total-STD</th>\n      <th>Learn</th>\n      <th>Learn-STD</th>\n      <th>DR</th>\n      <th>DR-STD</th>\n      <th>ret</th>\n      <th>ret-STD</th>\n      <th>Disc</th>\n      <th>Disc-STD</th>\n    </tr>\n  </thead>\n  <tbody>\n    <tr>\n      <th>0</th>\n      <td>18</td>\n      <td>21</td>\n      <td>28.74</td>\n      <td>4.32</td>\n      <td>3.63</td>\n      <td>1.67</td>\n      <td>10.79</td>\n      <td>1.37</td>\n      <td>95.34</td>\n      <td>6.60</td>\n      <td>5.91</td>\n      <td>0.31</td>\n    </tr>\n    <tr>\n      <th>1</th>\n      <td>20</td>\n      <td>23</td>\n      <td>28.44</td>\n      <td>4.38</td>\n      <td>3.64</td>\n      <td>1.68</td>\n      <td>10.68</td>\n      <td>1.41</td>\n      <td>94.93</td>\n      <td>7.26</td>\n      <td>5.92</td>\n      <td>0.26</td>\n    </tr>\n    <tr>\n      <th>2</th>\n      <td>24</td>\n      <td>25</td>\n      <td>27.83</td>\n      <td>4.48</td>\n      <td>3.65</td>\n      <td>1.69</td>\n      <td>10.46</td>\n      <td>1.48</td>\n      <td>95.08</td>\n      <td>8.04</td>\n      <td>5.89</td>\n      <td>0.30</td>\n    </tr>\n    <tr>\n      <th>3</th>\n      <td>26</td>\n      <td>29</td>\n      <td>27.52</td>\n      <td>4.54</td>\n      <td>3.66</td>\n      <td>1.70</td>\n      <td>10.35</td>\n      <td>1.52</td>\n      <td>96.67</td>\n      <td>6.31</td>\n      <td>5.97</td>\n      <td>0.15</td>\n    </tr>\n    <tr>\n      <th>4</th>\n      <td>30</td>\n      <td>33</td>\n      <td>26.92</td>\n      <td>4.64</td>\n      <td>3.67</td>\n      <td>1.71</td>\n      <td>10.13</td>\n      <td>1.60</td>\n      <td>96.20</td>\n      <td>4.74</td>\n      <td>5.97</td>\n      <td>0.15</td>\n    </tr>\n  </tbody>\n</table>\n</div>"
     },
     "execution_count": 5,
     "metadata": {},
     "output_type": "execute_result"
    },
    {
     "data": {
      "text/plain": "<Figure size 432x288 with 1 Axes>",
      "image/png": "[encoded data removed]"
     },
     "metadata": {
      "needs_background": "light"
     },
     "output_type": "display_data"
    }
   ],
   "source": [
    "bvmt_norm = pd.read_csv('data/testing/bvmtr_extract.csv')\n",
    "ax = bvmt_norm.plot(x = 'MaxAge', y = 'Total', label = 'Expected')\n",
    "bvmt_all.plot(x = 'Age', y = 'BVMTimmed', ax=ax, label = 'Obs',\n",
    "              marker = '.', linestyle = '')\n",
    "ax.set_ylabel('Expected Immediate Recall')\n",
    "bvmt_norm.head()"
   ],
   "metadata": {
    "collapsed": false,
    "pycharm": {
     "name": "#%%\n"
    }
   }
  },
  {
   "cell_type": "markdown",
   "source": [
    "As expected, the average expected number of cards recalled goes down with age (blue line).\n",
    "The plotted points mostly fall below this line, indicating that they are performing worse compared to age-matched controls.\n",
    "Let's use a transformer to correct for these problems."
   ],
   "metadata": {
    "collapsed": false,
    "pycharm": {
     "name": "#%% md\n"
    }
   }
  },
  {
   "cell_type": "code",
   "execution_count": 11,
   "outputs": [],
   "source": [
    "#export\n",
    "#hide\n",
    "\n",
    "FILTER_MAPPINGS = {'gt': '>',\n",
    "                   'gte': '>=',\n",
    "                   'lte': '<=',\n",
    "                   'lt': '<',\n",
    "                   'eq': '==',\n",
    "                   'neq': '!='}\n",
    "\n",
    "\n",
    "\n",
    "def _build_filters(lookup_table):\n",
    "    \"\"\"\n",
    "    Build filters from lookup table\n",
    "    Parameters\n",
    "    ----------\n",
    "    lookup_table : pd.DataFrame\n",
    "\n",
    "    Returns\n",
    "    -------\n",
    "\n",
    "    \"\"\"\n",
    "\n",
    "\n",
    "    filts = dict((_id, []) for _id in lookup_table.index)\n",
    "    expected = set()\n",
    "    for col in lookup_table.columns:\n",
    "        if '__' in col:\n",
    "            field, nop = col.split('__')\n",
    "            op = FILTER_MAPPINGS.get(nop, None)\n",
    "            if op is not None:\n",
    "                expected.add(field)\n",
    "                for ind, val in lookup_table[col].to_dict().items():\n",
    "                    if type(val) == str:\n",
    "                        filts[ind].append(f'({field} {op} \"{val}\")')\n",
    "                    else:\n",
    "                        filts[ind].append(f'({field} {op} {val})')\n",
    "    return pd.Series([' & '.join(filts[ind]) for ind in lookup_table.index],\n",
    "                     index = lookup_table.index), sorted(expected)\n",
    "\n",
    "def _build_lookup_norms(lookup_table):\n",
    "    \"\"\"\n",
    "\n",
    "    Pulls out the values of the __mean and __std columns to create a\n",
    "    pd.Series of scipy.norm instances.\n",
    "\n",
    "    This can be better generalized in the future.\n",
    "\n",
    "    Parameters\n",
    "    ----------\n",
    "    lookup_table : pd.DataFrame\n",
    "\n",
    "    Returns\n",
    "    -------\n",
    "    ps.Series\n",
    "    \"\"\"\n",
    "\n",
    "    mean_col = next(col for col in lookup_table.columns if col.endswith('__mean'))\n",
    "    std_col = next(col for col in lookup_table.columns if col.endswith('__std'))\n",
    "\n",
    "    field = mean_col.split('__')[0]\n",
    "\n",
    "    return mean_col, std_col, field\n",
    "\n",
    "\n",
    "\n",
    "    norm_list = []\n",
    "    for _, row in lookup_table.iterrows():\n",
    "        norm_list.append(norm(loc = row[mean_col],\n",
    "                               scale = row[std_col]))\n",
    "    return pd.Series(norm_list, index = lookup_table.index), fields\n",
    "\n",
    "\n",
    "\n",
    "\n",
    "class LookupNormalTransform(object):\n",
    "\n",
    "    def __init__(self, lookup_table=None, name = ''):\n",
    "        \"\"\"\n",
    "\n",
    "        Parameters\n",
    "        ----------\n",
    "        lookup_table : pd.DataFrame\n",
    "          Formatted lookup-table for the transformer\n",
    "        \"\"\"\n",
    "\n",
    "        self.lookup_table = lookup_table\n",
    "        self.name = name\n",
    "        self._fit(lookup_table)\n",
    "\n",
    "\n",
    "    def _fit(self, lookup_table):\n",
    "        self._filters, self._filter_cols = _build_filters(lookup_table)\n",
    "        self._mean_col, self._std_col, self._measure_col = _build_lookup_norms(lookup_table)\n",
    "\n",
    "    @property\n",
    "    def needed_cols(self):\n",
    "        \"\"\"\n",
    "\n",
    "        Returns\n",
    "        -------\n",
    "        list[str]\n",
    "\n",
    "        \"\"\"\n",
    "        return self._filter_cols + [self._measure_col]\n",
    "\n",
    "    def get_feature_names(self):\n",
    "        \"\"\"\n",
    "\n",
    "        Returns\n",
    "        -------\n",
    "        list[str]\n",
    "        \"\"\"\n",
    "        return [self.name]\n",
    "\n",
    "    def match_samples(self, data, keep = 'last'):\n",
    "        \"\"\" Match samples to their respective rows.\n",
    "\n",
    "        Parameters\n",
    "        ----------\n",
    "        data : pd.DataFrame\n",
    "        keep : str\n",
    "            Which item to keep. Currently only accepts 'last'\n",
    "\n",
    "        Returns\n",
    "        -------\n",
    "        pd.Series\n",
    "\n",
    "        \"\"\"\n",
    "        \n",
    "        linker_func = lambda flt: data.query(flt).index\n",
    "        all_matches = [(num, linker_func(f)) for num, f in  self._filters.to_dict().items()]\n",
    "        \n",
    "        data2flt = {}\n",
    "        for num, matches in all_matches:\n",
    "            for d_ind in matches:\n",
    "                data2flt[d_ind] = num\n",
    "        data2flt = pd.Series(data2flt)\n",
    "        return data2flt.reindex(data.index)\n",
    "\n",
    "\n",
    "    def normalize_samples(self, data, matched_rows = None):\n",
    "        \"\"\" Normalize samples to z-scale based on the scheme\n",
    "\n",
    "        Parameters\n",
    "        ----------\n",
    "        data : pd.DataFrame\n",
    "        matched_rows : pd.Series\n",
    "          Pre-calculated matching of the rows to each filter index.\n",
    "\n",
    "        Returns\n",
    "        -------\n",
    "        pd.Series\n",
    "\n",
    "        \"\"\"\n",
    "\n",
    "        if matched_rows is None: matched_rows = self.match_samples(data)\n",
    "\n",
    "        valid_matches = matched_rows.dropna()\n",
    "        obs_vals = data.loc[valid_matches.index, self._measure_col]\n",
    "        means = self.lookup_table.loc[valid_matches.values, self._mean_col]\n",
    "        stds = self.lookup_table.loc[valid_matches.values, self._std_col]\n",
    "        Zs = pd.Series((obs_vals.values-means.values)/stds.values,\n",
    "                       valid_matches.index,\n",
    "                       name = self.name)\n",
    "\n",
    "        return Zs.reindex(data.index)\n",
    "\n",
    "\n",
    "    def transform(self, data):\n",
    "        \"\"\"\n",
    "\n",
    "        Parameters\n",
    "        ----------\n",
    "        data : pd.DataFrame\n",
    "\n",
    "        Returns\n",
    "        -------\n",
    "        pd.DataFrame\n",
    "\n",
    "        \"\"\"\n",
    "\n",
    "        return pd.DataFrame(self.normalize_samples(data))\n"
   ],
   "metadata": {
    "collapsed": false,
    "pycharm": {
     "name": "#%%\n"
    }
   }
  },
  {
   "cell_type": "markdown",
   "source": [
    "We will need to re-arrange the normalization table into a more suitable format.\n",
    "This uses __ to indicate operations based on a currently limited language.\n",
    "These need to map to the same columns as the input data."
   ],
   "metadata": {
    "collapsed": false,
    "pycharm": {
     "name": "#%% md\n"
    }
   }
  },
  {
   "cell_type": "code",
   "execution_count": 12,
   "outputs": [
    {
     "data": {
      "text/plain": "   Age__gte  Age__lte  BVMTimmed__mean  BVMTimmed__std\n0        18        21            28.74            4.32\n1        20        23            28.44            4.38\n2        24        25            27.83            4.48\n3        26        29            27.52            4.54\n4        30        33            26.92            4.64",
      "text/html": "<div>\n<style scoped>\n    .dataframe tbody tr th:only-of-type {\n        vertical-align: middle;\n    }\n\n    .dataframe tbody tr th {\n        vertical-align: top;\n    }\n\n    .dataframe thead th {\n        text-align: right;\n    }\n</style>\n<table border=\"1\" class=\"dataframe\">\n  <thead>\n    <tr style=\"text-align: right;\">\n      <th></th>\n      <th>Age__gte</th>\n      <th>Age__lte</th>\n      <th>BVMTimmed__mean</th>\n      <th>BVMTimmed__std</th>\n    </tr>\n  </thead>\n  <tbody>\n    <tr>\n      <th>0</th>\n      <td>18</td>\n      <td>21</td>\n      <td>28.74</td>\n      <td>4.32</td>\n    </tr>\n    <tr>\n      <th>1</th>\n      <td>20</td>\n      <td>23</td>\n      <td>28.44</td>\n      <td>4.38</td>\n    </tr>\n    <tr>\n      <th>2</th>\n      <td>24</td>\n      <td>25</td>\n      <td>27.83</td>\n      <td>4.48</td>\n    </tr>\n    <tr>\n      <th>3</th>\n      <td>26</td>\n      <td>29</td>\n      <td>27.52</td>\n      <td>4.54</td>\n    </tr>\n    <tr>\n      <th>4</th>\n      <td>30</td>\n      <td>33</td>\n      <td>26.92</td>\n      <td>4.64</td>\n    </tr>\n  </tbody>\n</table>\n</div>"
     },
     "execution_count": 12,
     "metadata": {},
     "output_type": "execute_result"
    }
   ],
   "source": [
    "mapping = {'MinAge':'Age__gte',\n",
    "           'MaxAge':'Age__lte',\n",
    "           'Total': 'BVMTimmed__mean',\n",
    "           'Total-STD': 'BVMTimmed__std',\n",
    "           }\n",
    "immed_extracted_norm = bvmt_norm.rename(columns = mapping)[mapping.values()]\n",
    "immed_extracted_norm.head()"
   ],
   "metadata": {
    "collapsed": false,
    "pycharm": {
     "name": "#%%\n"
    }
   }
  },
  {
   "cell_type": "code",
   "execution_count": 13,
   "outputs": [],
   "source": [
    "transform_immed = LookupNormalTransform(immed_extracted_norm,\n",
    "                                        name = 'BVMTimmed')\n",
    "\n",
    "# You can extract the index of matched samples\n",
    "hits = transform_immed.match_samples(bvmt_all)\n",
    "\n",
    "# Or transform into normalized Z-scores directly\n",
    "z_scores_immed = transform_immed.normalize_samples(bvmt_all)\n",
    "z_scores_immed = transform_immed.transform(bvmt_all)"
   ],
   "metadata": {
    "collapsed": false,
    "pycharm": {
     "name": "#%%\n"
    }
   }
  },
  {
   "cell_type": "code",
   "execution_count": 16,
   "outputs": [],
   "source": [
    "# We can create a second one and then merge them\n",
    "mapping = {'MinAge':'Age__gte',\n",
    "           'MaxAge':'Age__lte',\n",
    "           'DR': 'BVMTdelay__mean',\n",
    "           'DR-STD': 'BVMTdelay__std',\n",
    "           }\n",
    "dr_extracted_norm = bvmt_norm.rename(columns = mapping)[mapping.values()]\n",
    "\n",
    "transform_dr = LookupNormalTransform(dr_extracted_norm,\n",
    "                                     name = 'BVMTdelay')"
   ],
   "metadata": {
    "collapsed": false,
    "pycharm": {
     "name": "#%%\n"
    }
   }
  },
  {
   "cell_type": "markdown",
   "source": [
    "Cool, but I don't want to have to build each one one at a time.\n",
    "So, there are some utility functions.\n"
   ],
   "metadata": {
    "collapsed": false,
    "pycharm": {
     "name": "#%% md\n"
    }
   }
  },
  {
   "cell_type": "code",
   "execution_count": 19,
   "outputs": [],
   "source": [
    "#export\n",
    "\n",
    "def build_merged_transformers(df, groupings, universal_cols = None,\n",
    "                              prefix = '',\n",
    "                              transform_class = LookupNormalTransform,\n",
    "                              skip_final = False):\n",
    "    \"\"\"\n",
    "    Build a set of merged transformers.\n",
    "\n",
    "    Parameters\n",
    "    ----------\n",
    "    df : pd.DataFrame\n",
    "    groupings : dict\n",
    "    universal_cols : list\n",
    "    prefix : str\n",
    "    transform_class : cls\n",
    "    skip_final : bool\n",
    "      Useful if chaining multiple calls together before constructing the transformer.\n",
    "\n",
    "    Returns\n",
    "    -------\n",
    "    ColumnTransformer\n",
    "\n",
    "    \"\"\"\n",
    "\n",
    "    if universal_cols is None: universal_cols = []\n",
    "\n",
    "    for key, cols in groupings.items():\n",
    "        yield transform_class(name = key,\n",
    "                              lookup_table=df[cols+universal_cols])\n"
   ],
   "metadata": {
    "collapsed": false,
    "pycharm": {
     "name": "#%%\n"
    }
   }
  },
  {
   "cell_type": "code",
   "execution_count": 20,
   "outputs": [
    {
     "name": "stdout",
     "output_type": "stream",
     "text": [
      "BVMTimmed     BVMTimmed\n",
      "0         NaN\n",
      "1         NaN\n",
      "2         NaN\n",
      "3   -0.679035\n",
      "4   -0.493506\n",
      "5   -0.998106\n",
      "6   -1.133205\n",
      "7    0.172727\n",
      "8   -2.856016\n",
      "9   -1.566288\n",
      "10  -2.554545\n",
      "11  -1.832661\n",
      "12  -1.546410\n",
      "BVMTdelay     BVMTdelay\n",
      "0         NaN\n",
      "1         NaN\n",
      "2         NaN\n",
      "3   -1.215962\n",
      "4   -1.215962\n",
      "5   -0.882927\n",
      "6         NaN\n",
      "7   -0.622727\n",
      "8   -2.763158\n",
      "9   -1.370732\n",
      "10  -2.895455\n",
      "11  -1.349727\n",
      "12  -2.088983\n",
      "BVMTrecog     BVMTrecog\n",
      "0         NaN\n",
      "1         NaN\n",
      "2         NaN\n",
      "3   -1.954545\n",
      "4    0.318182\n",
      "5   -2.948276\n",
      "6         NaN\n",
      "7    0.166667\n",
      "8   -8.142857\n",
      "9   -2.948276\n",
      "10  -4.000000\n",
      "11   0.291667\n",
      "12  -0.703297\n"
     ]
    }
   ],
   "source": [
    "# Learn,Learn-STD,ret,ret-STD\n",
    "# BVMT_hit BVMT_FP\n",
    "\n",
    "bvmt_formatted = bvmt_norm.rename(columns={'MinAge':'Age__gte',\n",
    "                                           'MaxAge':'Age__lte',\n",
    "                                           'DR': 'BVMTdelay__mean',\n",
    "                                           'DR-STD': 'BVMTdelay__std',\n",
    "                                           'Total': 'BVMTimmed__mean',\n",
    "                                           'Total-STD': 'BVMTimmed__std',\n",
    "                                           'Disc': 'BVMTrecog__mean',\n",
    "                                           'Disc-STD': 'BVMTrecog__std'})\n",
    "\n",
    "\n",
    "\n",
    "bvmt_groupings = {'BVMTimmed': ['BVMTimmed__mean', 'BVMTimmed__std'],\n",
    "                  'BVMTdelay': ['BVMTdelay__mean', 'BVMTdelay__std'],\n",
    "                  'BVMTrecog': ['BVMTrecog__mean', 'BVMTrecog__std']\n",
    "                  }\n",
    "\n",
    "bvmt_transforms = build_merged_transformers(bvmt_formatted, bvmt_groupings,\n",
    "                                           universal_cols = ['Age__gte', 'Age__lte'],\n",
    "                                           prefix = 'lookup_', transform_class = LookupNormalTransform)\n",
    "for tf in bvmt_transforms:\n",
    "    print(tf.name, tf.transform(bvmt_all))\n"
   ],
   "metadata": {
    "collapsed": false,
    "pycharm": {
     "name": "#%%\n"
    }
   }
  },
  {
   "cell_type": "code",
   "execution_count": 21,
   "outputs": [],
   "source": [
    "#export\n",
    "\n",
    "def build_from_yaml(path, _nested = False):\n",
    "\n",
    "    if type(path) is str:\n",
    "        config = yaml.full_load(open(path))\n",
    "        direc = os.path.dirname(path)\n",
    "        lk_data_path = os.path.join(direc, config['lookup_table'])\n",
    "        lk_data = pd.read_csv(lk_data_path)\n",
    "        return build_merged_transformers(lk_data, config['groupings'],\n",
    "                                         universal_cols = config['universal_cols'],\n",
    "                                         prefix = config['short_name'],\n",
    "                                         transform_class = LookupNormalTransform,\n",
    "                                         skip_final = _nested)\n",
    "    else:\n",
    "        all_transformers = chain.from_iterable(build_from_yaml(p) for p in path)\n",
    "        return all_transformers"
   ],
   "metadata": {
    "collapsed": false,
    "pycharm": {
     "name": "#%%\n"
    }
   }
  },
  {
   "cell_type": "code",
   "execution_count": 22,
   "outputs": [
    {
     "name": "stdout",
     "output_type": "stream",
     "text": [
      "BVMTimmed BVMTimmed   -1.348705\n",
      "dtype: float64\n",
      "BVMTdelay BVMTdelay   -1.600626\n",
      "dtype: float64\n",
      "BVMTrecog BVMTrecog   -2.213415\n",
      "dtype: float64\n"
     ]
    }
   ],
   "source": [
    "ex_path = 'data/norms/from_kate/BVMTR/description.yaml'\n",
    "for tf in build_from_yaml(ex_path):\n",
    "    print(tf.name, tf.transform(bvmt_all).mean())\n"
   ],
   "metadata": {
    "collapsed": false,
    "pycharm": {
     "name": "#%%\n"
    }
   }
  },
  {
   "cell_type": "markdown",
   "source": [
    "That worked great.\n",
    "However, some norms are regression based.\n",
    "Utilizing these norms requires a 2 step process.\n",
    "First, raw values need to be scaled into the units used by the researcher.\n",
    "Then, the scaled values are used in a regression equation along with demographic variables.\n",
    "\n",
    "We'll use the BVMTdelay for Caucasians from https://www.ncbi.nlm.nih.gov/pmc/articles/PMC3154384/"
   ],
   "metadata": {
    "collapsed": false,
    "pycharm": {
     "name": "#%% md\n"
    }
   }
  },
  {
   "cell_type": "code",
   "execution_count": 24,
   "outputs": [
    {
     "data": {
      "text/plain": "   scaled  min  max\n9       2    0    2\n8       3    3    3\n7       4    4    4\n6       5    5    6\n5       6    7    7\n4       7    8    8\n3       8    9    9\n2       9   10   10\n1      11   11   11\n0      14   12   12",
      "text/html": "<div>\n<style scoped>\n    .dataframe tbody tr th:only-of-type {\n        vertical-align: middle;\n    }\n\n    .dataframe tbody tr th {\n        vertical-align: top;\n    }\n\n    .dataframe thead th {\n        text-align: right;\n    }\n</style>\n<table border=\"1\" class=\"dataframe\">\n  <thead>\n    <tr style=\"text-align: right;\">\n      <th></th>\n      <th>scaled</th>\n      <th>min</th>\n      <th>max</th>\n    </tr>\n  </thead>\n  <tbody>\n    <tr>\n      <th>9</th>\n      <td>2</td>\n      <td>0</td>\n      <td>2</td>\n    </tr>\n    <tr>\n      <th>8</th>\n      <td>3</td>\n      <td>3</td>\n      <td>3</td>\n    </tr>\n    <tr>\n      <th>7</th>\n      <td>4</td>\n      <td>4</td>\n      <td>4</td>\n    </tr>\n    <tr>\n      <th>6</th>\n      <td>5</td>\n      <td>5</td>\n      <td>6</td>\n    </tr>\n    <tr>\n      <th>5</th>\n      <td>6</td>\n      <td>7</td>\n      <td>7</td>\n    </tr>\n    <tr>\n      <th>4</th>\n      <td>7</td>\n      <td>8</td>\n      <td>8</td>\n    </tr>\n    <tr>\n      <th>3</th>\n      <td>8</td>\n      <td>9</td>\n      <td>9</td>\n    </tr>\n    <tr>\n      <th>2</th>\n      <td>9</td>\n      <td>10</td>\n      <td>10</td>\n    </tr>\n    <tr>\n      <th>1</th>\n      <td>11</td>\n      <td>11</td>\n      <td>11</td>\n    </tr>\n    <tr>\n      <th>0</th>\n      <td>14</td>\n      <td>12</td>\n      <td>12</td>\n    </tr>\n  </tbody>\n</table>\n</div>"
     },
     "execution_count": 24,
     "metadata": {},
     "output_type": "execute_result"
    }
   ],
   "source": [
    "scale_data = pd.read_csv('data/testing/heaton_bvtm_scales.csv').sort_values('max')\n",
    "scale_data"
   ],
   "metadata": {
    "collapsed": false,
    "pycharm": {
     "name": "#%%\n"
    }
   }
  },
  {
   "cell_type": "code",
   "source": [
    "scale_ser = pd.Series(scale_data['scaled'].values,\n",
    "                      index = pd.IntervalIndex.from_arrays(scale_data['min'].values,\n",
    "                                                           scale_data['max'].values,\n",
    "                                                           closed='both'))\n",
    "\n",
    "\n",
    "pd.DataFrame({'raw':bvmt_all['BVMTdelay'],\n",
    "              'scaled': bvmt_all['BVMTdelay'].map(scale_ser.get)})\n",
    "\n"
   ],
   "metadata": {
    "collapsed": false,
    "pycharm": {
     "name": "#%%\n"
    }
   },
   "execution_count": 25,
   "outputs": [
    {
     "data": {
      "text/plain": "    raw  scaled\n0   NaN     NaN\n1   NaN     NaN\n2   NaN     NaN\n3   6.0     5.0\n4   6.0     5.0\n5   7.0     6.0\n6   NaN     NaN\n7   7.0     6.0\n8   4.0     4.0\n9   6.0     5.0\n10  2.0     2.0\n11  7.0     6.0\n12  3.0     3.0",
      "text/html": "<div>\n<style scoped>\n    .dataframe tbody tr th:only-of-type {\n        vertical-align: middle;\n    }\n\n    .dataframe tbody tr th {\n        vertical-align: top;\n    }\n\n    .dataframe thead th {\n        text-align: right;\n    }\n</style>\n<table border=\"1\" class=\"dataframe\">\n  <thead>\n    <tr style=\"text-align: right;\">\n      <th></th>\n      <th>raw</th>\n      <th>scaled</th>\n    </tr>\n  </thead>\n  <tbody>\n    <tr>\n      <th>0</th>\n      <td>NaN</td>\n      <td>NaN</td>\n    </tr>\n    <tr>\n      <th>1</th>\n      <td>NaN</td>\n      <td>NaN</td>\n    </tr>\n    <tr>\n      <th>2</th>\n      <td>NaN</td>\n      <td>NaN</td>\n    </tr>\n    <tr>\n      <th>3</th>\n      <td>6.0</td>\n      <td>5.0</td>\n    </tr>\n    <tr>\n      <th>4</th>\n      <td>6.0</td>\n      <td>5.0</td>\n    </tr>\n    <tr>\n      <th>5</th>\n      <td>7.0</td>\n      <td>6.0</td>\n    </tr>\n    <tr>\n      <th>6</th>\n      <td>NaN</td>\n      <td>NaN</td>\n    </tr>\n    <tr>\n      <th>7</th>\n      <td>7.0</td>\n      <td>6.0</td>\n    </tr>\n    <tr>\n      <th>8</th>\n      <td>4.0</td>\n      <td>4.0</td>\n    </tr>\n    <tr>\n      <th>9</th>\n      <td>6.0</td>\n      <td>5.0</td>\n    </tr>\n    <tr>\n      <th>10</th>\n      <td>2.0</td>\n      <td>2.0</td>\n    </tr>\n    <tr>\n      <th>11</th>\n      <td>7.0</td>\n      <td>6.0</td>\n    </tr>\n    <tr>\n      <th>12</th>\n      <td>3.0</td>\n      <td>3.0</td>\n    </tr>\n  </tbody>\n</table>\n</div>"
     },
     "execution_count": 25,
     "metadata": {},
     "output_type": "execute_result"
    }
   ]
  },
  {
   "cell_type": "markdown",
   "source": [
    "Now we have to deal with the regression equation.\n",
    "\n",
    "((scaled-(0.2267*(Education-13.86) + (-0.1262)*(Age-40.63) + 0.8593*heaton_gender + 7.691))/2.5197)*10 + 50\n",
    "Heaton_gender is 1 for female and 0 for male."
   ],
   "metadata": {
    "collapsed": false,
    "pycharm": {
     "name": "#%% md\n"
    }
   }
  },
  {
   "cell_type": "code",
   "execution_count": 26,
   "outputs": [
    {
     "data": {
      "text/plain": "array([        nan,         nan,         nan,  0.16968528, -0.19019883,\n        0.0861039 ,         nan,  0.61664325, -0.79852522,  0.18917173,\n       -1.28064611, -0.44598325,  0.10682065])"
     },
     "execution_count": 26,
     "metadata": {},
     "output_type": "execute_result"
    }
   ],
   "source": [
    "\n",
    "# Slightly Edited for z-scaling\n",
    "eqn = \"(scaled-(0.2267*(Education-13.86) + (-0.1262)*(Age-40.63) + 0.8593*heaton_gender + 7.691))/2.5197\"\n",
    "\n",
    "cal_data = pd.DataFrame({'scaled': bvmt_all['BVMTdelay'].map(scale_ser.get),\n",
    "                         'Education': bvmt_all['Education'],\n",
    "                         'Age': bvmt_all['Age'],\n",
    "                         'heaton_gender': bvmt_all['Sex'].replace({1: 0,\n",
    "                                                                   2: 1})})\n",
    "\n",
    "normed_data = ne.evaluate(eqn, local_dict=cal_data)\n",
    "normed_data"
   ],
   "metadata": {
    "collapsed": false,
    "pycharm": {
     "name": "#%%\n"
    }
   }
  },
  {
   "cell_type": "markdown",
   "source": [
    "Sweet, Z-scaled data!\n",
    "But not everyone is Caucasian, we need a way to adjust the scaling based on other factors.\n",
    "We'll use another subclass of the sklearn API to make our lives easier again.\n",
    "\n",
    "First, we'll make a node that encapsulates the logic renaming columns and syncing coding that can be shared across implementations.\n",
    "Then we'll need another node that matches filters and calculating the values."
   ],
   "metadata": {
    "collapsed": false,
    "pycharm": {
     "name": "#%% md\n"
    }
   }
  },
  {
   "cell_type": "code",
   "execution_count": 27,
   "outputs": [],
   "source": [
    "#export\n",
    "\n",
    "class EncodingTransform(object):\n",
    "\n",
    "    def __init__(self, replacements = None, renames = None):\n",
    "\n",
    "        if replacements is None: replacements = {}\n",
    "        if renames is None: renames = {}\n",
    "\n",
    "        self.replacements = replacements\n",
    "        self.renames = renames\n",
    "        self.rev_renames = dict((val, key) for key, val in renames.items())\n",
    "\n",
    "\n",
    "    def reverse_col_lookup(self, col):\n",
    "        return self.rev_renames.get(col, col)\n",
    "\n",
    "    def forward_col_lookup(self, col):\n",
    "        return self.renames.get(col, col)\n",
    "\n",
    "    def extract_data(self, data, needed_cols, added_cols = None, replacements = None):\n",
    "        \"\"\"\n",
    "\n",
    "        Parameters\n",
    "        ----------\n",
    "        data : pd.DataFrame\n",
    "        needed_cols: list[str]\n",
    "        added_cols : dict\n",
    "        replacements : dict\n",
    "\n",
    "        Returns\n",
    "        -------\n",
    "\n",
    "        pd.DataFrame\n",
    "\n",
    "        \"\"\"\n",
    "\n",
    "        if replacements is None: replacements  = {}\n",
    "        needed_cols = set(self.reverse_col_lookup(col) for col in needed_cols)\n",
    "        wdata = data.reindex(sorted(needed_cols), axis=1)\n",
    "        if added_cols is not None:\n",
    "            wdata = pd.concat([wdata, pd.DataFrame(added_cols)], axis=1)\n",
    "\n",
    "\n",
    "        replacements = {**replacements, **self.replacements}\n",
    "        wdata.replace(replacements, inplace=True)\n",
    "\n",
    "        if self.renames is not None:\n",
    "            wdata.rename(columns = self.renames, inplace=True)\n",
    "\n",
    "        return wdata\n"
   ],
   "metadata": {
    "collapsed": false,
    "pycharm": {
     "name": "#%%\n"
    }
   }
  },
  {
   "cell_type": "code",
   "execution_count": 28,
   "outputs": [],
   "source": [
    "encoder_transform = EncodingTransform(replacements = {'Sex': {1: 0,\n",
    "                                                              2: 1},\n",
    "                                                      'Race': {2: 'AA',\n",
    "                                                               1: 'White'}},\n",
    "                                      renames = {'Sex': 'heaton_gender',\n",
    "                                                 'Race': 'RaceCat'})"
   ],
   "metadata": {
    "collapsed": false,
    "pycharm": {
     "name": "#%%\n"
    }
   }
  },
  {
   "cell_type": "code",
   "execution_count": 29,
   "outputs": [],
   "source": [
    "#export\n",
    "\n",
    "def _convert_scales(scale_obj):\n",
    "\n",
    "    data = pd.DataFrame(scale_obj).sort_values('Max')\n",
    "\n",
    "    #print(data)\n",
    "\n",
    "    index = pd.IntervalIndex.from_arrays(data['Min'].values, data['Max'].values,\n",
    "                                         closed='both')\n",
    "    #print(pd.Series(data['scaled'].values, index = index))\n",
    "\n",
    "    return pd.Series(data['scaled'].values, index = index)\n",
    "\n",
    "class ScaledRegressionNode(object):\n",
    "\n",
    "    def __init__(self, field, scale_col, scales, flt, eqn, needed_cols,\n",
    "                 result = 'zscale', transform = None):\n",
    "        \"\"\"\n",
    "\n",
    "        Parameters\n",
    "        ----------\n",
    "        field : str\n",
    "        scale_col : str\n",
    "        scales : pd.Series\n",
    "        flt : str\n",
    "        eqn : str\n",
    "        needed_cols : list[str]\n",
    "        result : str\n",
    "        replacements : dict\n",
    "        \"\"\"\n",
    "\n",
    "        self.field = field\n",
    "        self.scale_col = scale_col\n",
    "\n",
    "        assert type(scales.index) == pd.IntervalIndex\n",
    "        self.scales = scales\n",
    "\n",
    "        self.flt = flt\n",
    "        self.eqn = eqn\n",
    "        self.needed_cols = needed_cols\n",
    "        self.transformer = transform\n",
    "        self.result = result\n",
    "\n",
    "    @staticmethod\n",
    "    def from_yaml(path, typ = 'tscore', transform = None):\n",
    "\n",
    "        if transform is None:\n",
    "            rev_lookup = lambda x: x\n",
    "        else:\n",
    "            rev_lookup = lambda x: transform.reverse_col_lookup(x)\n",
    "\n",
    "        with open(path) as handle:\n",
    "            obj = yaml.full_load(handle)\n",
    "        try:\n",
    "            return ScaledRegressionNode(field = obj['short_name'],\n",
    "                                        scale_col = obj['scale_column'],\n",
    "                                        scales = _convert_scales(obj['scores']),\n",
    "                                        flt = obj['Population_filter'],\n",
    "                                        eqn = obj[typ],\n",
    "                                        needed_cols = [rev_lookup(x) for x in (obj['filter_cols'] + obj[typ+'_cols'])],\n",
    "                                        result = typ,\n",
    "                                        transform = transform)\n",
    "        except ValueError:\n",
    "            print(f'Failed on {path}')\n",
    "            raise\n",
    "\n",
    "\n",
    "\n",
    "    def extract_data(self, data, **kwargs):\n",
    "\n",
    "        return self.transformer.extract_data(data, self.needed_cols, **kwargs)\n",
    "\n",
    "    def extract_filter_data(self, data, **kwargs):\n",
    "\n",
    "        return self.extract_data(data, **kwargs).query(self.flt)\n",
    "\n",
    "    def scale_data(self, raw_values):\n",
    "        \"\"\"\n",
    "\n",
    "        Parameters\n",
    "        ----------\n",
    "        raw_values : pd.Series\n",
    "\n",
    "        Returns\n",
    "        -------\n",
    "        pd.Series\n",
    "\n",
    "        \"\"\"\n",
    "\n",
    "        return raw_values.map(self.scales.get)\n",
    "\n",
    "    def transform(self, data):\n",
    "        return self.norm_data(data)\n",
    "\n",
    "    def norm_data(self, data):\n",
    "\n",
    "        scaled = self.scale_data(data[self.transformer.reverse_col_lookup(self.scale_col)])\n",
    "        wdata = self.extract_filter_data(data, added_cols={'scaled': scaled})\n",
    "        try:\n",
    "            res = ne.evaluate(self.eqn, local_dict=wdata)\n",
    "        except:\n",
    "            print(wdata)\n",
    "            raise\n",
    "\n",
    "        res = pd.Series(res, index = wdata.index,\n",
    "                        name = self.field)\n",
    "        if self.result == 'tscore':\n",
    "           res = (res-50)/10\n",
    "        return res"
   ],
   "metadata": {
    "collapsed": false,
    "pycharm": {
     "name": "#%%\n"
    }
   }
  },
  {
   "cell_type": "code",
   "execution_count": 30,
   "outputs": [],
   "source": [
    "\n",
    "eqn = \"(scaled-(0.2267*(Education-13.86) + (-0.1262)*(Age-40.63) + 0.8593*heaton_gender + 7.691))/2.5197\"\n",
    "flt = '(RaceCat == \"AA\") & ((Age >= 18) & (Age <= 66))'\n",
    "\n",
    "smaller_data = bvmt_all\n",
    "\n",
    "\n",
    "cal_data = pd.DataFrame({'scaled': bvmt_all['BVMTdelay'].map(scale_ser.get),\n",
    "                         'Education': bvmt_all['Education'],\n",
    "                         'Age': bvmt_all['Age'],\n",
    "                         'heaton_gender': bvmt_all['Sex'].replace()})\n",
    "\n",
    "\n",
    "node = ScaledRegressionNode('test', 'BVMTdelay', scale_ser, flt, eqn,\n",
    "                            ['Age', 'Sex', 'Education', 'BVMTdelay', 'Race'],\n",
    "                            result = 'zscale',\n",
    "                            transform = encoder_transform)\n"
   ],
   "metadata": {
    "collapsed": false,
    "pycharm": {
     "name": "#%%\n"
    }
   }
  },
  {
   "cell_type": "code",
   "execution_count": 31,
   "outputs": [],
   "source": [
    "#export\n",
    "\n",
    "class ScaledRegressionTransform(object):\n",
    "\n",
    "    def __init__(self, name = '', norm_nodes=None):\n",
    "        \"\"\"\n",
    "\n",
    "        Parameters\n",
    "        ----------\n",
    "        norm_nodes : list[ScaledRegressionNode]\n",
    "          Formatted lookup-table for the transformer\n",
    "        \"\"\"\n",
    "\n",
    "\n",
    "        self.norm_nodes = norm_nodes\n",
    "        self.name = name\n",
    "\n",
    "\n",
    "    @staticmethod\n",
    "    def from_yaml(paths, name = '', transform=None):\n",
    "        nodes = [ScaledRegressionNode.from_yaml(path, transform=transform) for path in paths]\n",
    "        return ScaledRegressionTransform(name = name,\n",
    "                                         norm_nodes = nodes)\n",
    "\n",
    "    def fit(self, *args, **kwargs):\n",
    "        return self\n",
    "\n",
    "    @property\n",
    "    def needed_cols(self):\n",
    "        cols = set()\n",
    "        for node in self.norm_nodes:\n",
    "            cols |= set(node.needed_cols)\n",
    "        return sorted(cols)\n",
    "\n",
    "    @property\n",
    "    def out_fields(self):\n",
    "        return sorted(set(node.field for node in self.norm_nodes))\n",
    "\n",
    "    def get_feature_names(self):\n",
    "        if len(self.name):\n",
    "            return [self.name + '__' + node.field for node in self.norm_nodes]\n",
    "        else:\n",
    "            return self.out_fields\n",
    "\n",
    "    def normalize_samples(self, data, aggfunc = 'last'):\n",
    "\n",
    "        index_key = data.index.name\n",
    "        if index_key is None:\n",
    "            data.index.name = 'index'\n",
    "            index_key = 'index'\n",
    "        #print('index', index_key)\n",
    "        out_data = []\n",
    "        for node in self.norm_nodes:\n",
    "            out_data.append(node.transform(data).reset_index())\n",
    "\n",
    "        out_data = pd.concat(out_data, axis=0, ignore_index=True)\n",
    "        if len(out_data.index) == 0: # nobody matched the filter\n",
    "            return pd.Series([np.nan]*len(data.index),\n",
    "                             index = data.index)\n",
    "\n",
    "        out_piv = out_data.groupby(index_key)[self.out_fields].agg(aggfunc)\n",
    "        return out_piv.reindex(data.index, axis=0)\n",
    "\n",
    "    def transform(self, data):\n",
    "        return self.normalize_samples(data, aggfunc = 'first')\n"
   ],
   "metadata": {
    "collapsed": false,
    "pycharm": {
     "name": "#%%\n"
    }
   }
  },
  {
   "cell_type": "code",
   "execution_count": 32,
   "outputs": [],
   "source": [
    "heaton_transform = EncodingTransform(replacements = {'Sex': {1: 0,\n",
    "                                                              2: 1},\n",
    "                                                      'Race': {2: 'AA',\n",
    "                                                               1: 'White'}},\n",
    "                                      renames = {'Sex': 'heaton_gender',\n",
    "                                                 'Race': 'RaceCat',\n",
    "                                                 'BVMTimmed': 'BVMTtotalrecal',\n",
    "                                                 'HVLT.total': 'HVLTtotalrecal'\n",
    "                                                  })\n",
    "\n",
    "\n",
    "\n",
    "\n",
    "heaton_normer = ScaledRegressionTransform.from_yaml(['data/norms/heaton/heaton_AA_BVMTdelay.yaml',\n",
    "                                                     'data/norms/heaton/heaton_AA_BVMTtotalrecall.yaml',\n",
    "                                                     'data/norms/heaton/heaton_White_BVMTdelay.yaml',\n",
    "                                                     'data/norms/heaton/heaton_White_BVMTtotalrecall.yaml',\n",
    "                                                     ], transform=heaton_transform)\n"
   ],
   "metadata": {
    "collapsed": false,
    "pycharm": {
     "name": "#%%\n"
    }
   }
  },
  {
   "cell_type": "code",
   "execution_count": 33,
   "outputs": [
    {
     "data": {
      "text/plain": "       BVMTdelay  BVMTtotalrecal\nindex                           \n0            NaN             NaN\n1            NaN             NaN\n2            NaN             NaN\n3       0.169685        0.725010\n4      -0.190199        0.283938",
      "text/html": "<div>\n<style scoped>\n    .dataframe tbody tr th:only-of-type {\n        vertical-align: middle;\n    }\n\n    .dataframe tbody tr th {\n        vertical-align: top;\n    }\n\n    .dataframe thead th {\n        text-align: right;\n    }\n</style>\n<table border=\"1\" class=\"dataframe\">\n  <thead>\n    <tr style=\"text-align: right;\">\n      <th></th>\n      <th>BVMTdelay</th>\n      <th>BVMTtotalrecal</th>\n    </tr>\n    <tr>\n      <th>index</th>\n      <th></th>\n      <th></th>\n    </tr>\n  </thead>\n  <tbody>\n    <tr>\n      <th>0</th>\n      <td>NaN</td>\n      <td>NaN</td>\n    </tr>\n    <tr>\n      <th>1</th>\n      <td>NaN</td>\n      <td>NaN</td>\n    </tr>\n    <tr>\n      <th>2</th>\n      <td>NaN</td>\n      <td>NaN</td>\n    </tr>\n    <tr>\n      <th>3</th>\n      <td>0.169685</td>\n      <td>0.725010</td>\n    </tr>\n    <tr>\n      <th>4</th>\n      <td>-0.190199</td>\n      <td>0.283938</td>\n    </tr>\n  </tbody>\n</table>\n</div>"
     },
     "execution_count": 33,
     "metadata": {},
     "output_type": "execute_result"
    }
   ],
   "source": [
    "heaton_res = heaton_normer.normalize_samples(bvmt_all)\n",
    "heaton_res.head()"
   ],
   "metadata": {
    "collapsed": false,
    "pycharm": {
     "name": "#%%\n"
    }
   }
  },
  {
   "cell_type": "code",
   "execution_count": 24,
   "outputs": [],
   "source": [
    "\n",
    "\n",
    "\n"
   ],
   "metadata": {
    "collapsed": false,
    "pycharm": {
     "name": "#%%\n"
    }
   }
  }
 ],
 "metadata": {
  "kernelspec": {
   "display_name": "Python 3",
   "language": "python",
   "name": "python3"
  }
 },
 "nbformat": 4,
 "nbformat_minor": 2
}