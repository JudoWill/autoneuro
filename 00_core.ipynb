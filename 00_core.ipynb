{
 "cells": [
  {
   "cell_type": "code",
   "execution_count": 1,
   "metadata": {},
   "outputs": [],
   "source": [
    "# default_exp core"
   ]
  },
  {
   "cell_type": "markdown",
   "metadata": {},
   "source": [
    "# AutoNeuro\n",
    "\n",
    "> API details.\n",
    "\n",
    "\n",
    "Normalizing neurological data is near impossible to do at scale.\n",
    "There are dozens of neurological tests each with a diverse collection of normalizations data.\n",
    "Due to the fractured nature of the research, this has led to a collection of diverse normalizations schemes.\n",
    "This package is an attempt to unify these into a single API.\n"
   ]
  },
  {
   "cell_type": "code",
   "execution_count": 2,
   "metadata": {},
   "outputs": [],
   "source": [
    "#hide\n",
    "\n",
    "from nbdev.showdoc import *"
   ]
  },
  {
   "cell_type": "code",
   "execution_count": null,
   "outputs": [],
   "source": [
    "#hide\n",
    "#export\n",
    "\n",
    "import pandas as pd\n",
    "\n",
    "from sklearn.base import BaseEstimator, TransformerMixin\n",
    "from scipy.stats import norm"
   ],
   "metadata": {
    "collapsed": false,
    "pycharm": {
     "name": "#%%\n"
    }
   }
  },
  {
   "cell_type": "markdown",
   "metadata": {
    "pycharm": {
     "name": "#%% md\n"
    }
   },
   "source": [
    "This will be easiest with an example test.\n",
    "The BVMT-R is a useful example.\n",
    "There are multiple measurements for the test Immediate Recall, Delayed Recall, and Recognition.\n",
    "The values represent the number of cards remembered after different lengths of time.\n",
    "Here's an example dataset."
   ]
  },
  {
   "cell_type": "code",
   "execution_count": 3,
   "outputs": [
    {
     "data": {
      "text/plain": "    BVMTform  BVMTtrial1  BVMTtrial2  BVMTtrial3  BVMTimmed  BVMTdelay  \\\n8          1         2.0         4.0         4.0       10.0        4.0   \n9          1         2.0         6.0         7.0       15.0        6.0   \n10         1         2.0         2.0         4.0        8.0        2.0   \n11         1         3.0         6.0         7.0       16.0        7.0   \n12         1         3.0         6.0         3.0       12.0        3.0   \n\n    BVMTretention  BVMThits  BVMTfalsepos  BVMTrecog  BVMTcopy  Age  Sex  \\\n8           100.0       4.0           1.0        3.0      12.0   47    1   \n9            86.0       5.0           1.0        4.0      12.0   57    1   \n10           50.0       6.0           2.0        4.0      12.0   64    1   \n11          100.0       6.0           0.0        6.0      11.0   45    2   \n12           50.0       5.0           0.0        5.0      11.0   73    1   \n\n    Race  Race_specify  Education  EngFluency  SpanFluency  MMSE  \n8      2           NaN         10           3            0  28.0  \n9      2           NaN          9           3            0  25.0  \n10     2           NaN         16           3            0  26.0  \n11     2           NaN         10           3            0  29.0  \n12     2           NaN         10           3            0  29.0  ",
      "text/html": "<div>\n<style scoped>\n    .dataframe tbody tr th:only-of-type {\n        vertical-align: middle;\n    }\n\n    .dataframe tbody tr th {\n        vertical-align: top;\n    }\n\n    .dataframe thead th {\n        text-align: right;\n    }\n</style>\n<table border=\"1\" class=\"dataframe\">\n  <thead>\n    <tr style=\"text-align: right;\">\n      <th></th>\n      <th>BVMTform</th>\n      <th>BVMTtrial1</th>\n      <th>BVMTtrial2</th>\n      <th>BVMTtrial3</th>\n      <th>BVMTimmed</th>\n      <th>BVMTdelay</th>\n      <th>BVMTretention</th>\n      <th>BVMThits</th>\n      <th>BVMTfalsepos</th>\n      <th>BVMTrecog</th>\n      <th>BVMTcopy</th>\n      <th>Age</th>\n      <th>Sex</th>\n      <th>Race</th>\n      <th>Race_specify</th>\n      <th>Education</th>\n      <th>EngFluency</th>\n      <th>SpanFluency</th>\n      <th>MMSE</th>\n    </tr>\n  </thead>\n  <tbody>\n    <tr>\n      <th>8</th>\n      <td>1</td>\n      <td>2.0</td>\n      <td>4.0</td>\n      <td>4.0</td>\n      <td>10.0</td>\n      <td>4.0</td>\n      <td>100.0</td>\n      <td>4.0</td>\n      <td>1.0</td>\n      <td>3.0</td>\n      <td>12.0</td>\n      <td>47</td>\n      <td>1</td>\n      <td>2</td>\n      <td>NaN</td>\n      <td>10</td>\n      <td>3</td>\n      <td>0</td>\n      <td>28.0</td>\n    </tr>\n    <tr>\n      <th>9</th>\n      <td>1</td>\n      <td>2.0</td>\n      <td>6.0</td>\n      <td>7.0</td>\n      <td>15.0</td>\n      <td>6.0</td>\n      <td>86.0</td>\n      <td>5.0</td>\n      <td>1.0</td>\n      <td>4.0</td>\n      <td>12.0</td>\n      <td>57</td>\n      <td>1</td>\n      <td>2</td>\n      <td>NaN</td>\n      <td>9</td>\n      <td>3</td>\n      <td>0</td>\n      <td>25.0</td>\n    </tr>\n    <tr>\n      <th>10</th>\n      <td>1</td>\n      <td>2.0</td>\n      <td>2.0</td>\n      <td>4.0</td>\n      <td>8.0</td>\n      <td>2.0</td>\n      <td>50.0</td>\n      <td>6.0</td>\n      <td>2.0</td>\n      <td>4.0</td>\n      <td>12.0</td>\n      <td>64</td>\n      <td>1</td>\n      <td>2</td>\n      <td>NaN</td>\n      <td>16</td>\n      <td>3</td>\n      <td>0</td>\n      <td>26.0</td>\n    </tr>\n    <tr>\n      <th>11</th>\n      <td>1</td>\n      <td>3.0</td>\n      <td>6.0</td>\n      <td>7.0</td>\n      <td>16.0</td>\n      <td>7.0</td>\n      <td>100.0</td>\n      <td>6.0</td>\n      <td>0.0</td>\n      <td>6.0</td>\n      <td>11.0</td>\n      <td>45</td>\n      <td>2</td>\n      <td>2</td>\n      <td>NaN</td>\n      <td>10</td>\n      <td>3</td>\n      <td>0</td>\n      <td>29.0</td>\n    </tr>\n    <tr>\n      <th>12</th>\n      <td>1</td>\n      <td>3.0</td>\n      <td>6.0</td>\n      <td>3.0</td>\n      <td>12.0</td>\n      <td>3.0</td>\n      <td>50.0</td>\n      <td>5.0</td>\n      <td>0.0</td>\n      <td>5.0</td>\n      <td>11.0</td>\n      <td>73</td>\n      <td>1</td>\n      <td>2</td>\n      <td>NaN</td>\n      <td>10</td>\n      <td>3</td>\n      <td>0</td>\n      <td>29.0</td>\n    </tr>\n  </tbody>\n</table>\n</div>"
     },
     "execution_count": 3,
     "metadata": {},
     "output_type": "execute_result"
    }
   ],
   "source": [
    "bvmt_data = pd.read_csv('data/testing/bvmt.tsv', sep = '\\t', na_values=['na'])\n",
    "bvmt_demo = pd.read_csv('data/testing/bvmt_demo.tsv', sep = '\\t', na_values=['na'])\n",
    "bvmt_all = pd.concat([bvmt_data, bvmt_demo], axis=1)\n",
    "bvmt_all.tail()"
   ],
   "metadata": {
    "collapsed": false,
    "pycharm": {
     "name": "#%%\n"
    }
   }
  },
  {
   "cell_type": "markdown",
   "source": [
    "Our goal is to transform this data utilizing a collection of known normalization schemes.\n",
    "We will adapt the sklearn API to perform these tasks.\n",
    "This will allow us to use the vast array of other tools in the sklearn ecosystem.\n",
    "\n",
    "Let's start by using a lookup table style normalization scheme.\n",
    "This lookup table provides the mean and std of a \"healthy\" population on the same test."
   ],
   "metadata": {
    "collapsed": false,
    "pycharm": {
     "name": "#%% md\n"
    }
   }
  },
  {
   "cell_type": "code",
   "execution_count": 4,
   "outputs": [
    {
     "data": {
      "text/plain": "   MinAge  MaxAge  Total  Total-STD  Learn  Learn-STD     DR  DR-STD    ret  \\\n0      18      21  28.74       4.32   3.63       1.67  10.79    1.37  95.34   \n1      20      23  28.44       4.38   3.64       1.68  10.68    1.41  94.93   \n2      24      25  27.83       4.48   3.65       1.69  10.46    1.48  95.08   \n3      26      29  27.52       4.54   3.66       1.70  10.35    1.52  96.67   \n4      30      33  26.92       4.64   3.67       1.71  10.13    1.60  96.20   \n\n   ret-STD  Disc  Disc-STD  \n0     6.60  5.91      0.31  \n1     7.26  5.92      0.26  \n2     8.04  5.89      0.30  \n3     6.31  5.97      0.15  \n4     4.74  5.97      0.15  ",
      "text/html": "<div>\n<style scoped>\n    .dataframe tbody tr th:only-of-type {\n        vertical-align: middle;\n    }\n\n    .dataframe tbody tr th {\n        vertical-align: top;\n    }\n\n    .dataframe thead th {\n        text-align: right;\n    }\n</style>\n<table border=\"1\" class=\"dataframe\">\n  <thead>\n    <tr style=\"text-align: right;\">\n      <th></th>\n      <th>MinAge</th>\n      <th>MaxAge</th>\n      <th>Total</th>\n      <th>Total-STD</th>\n      <th>Learn</th>\n      <th>Learn-STD</th>\n      <th>DR</th>\n      <th>DR-STD</th>\n      <th>ret</th>\n      <th>ret-STD</th>\n      <th>Disc</th>\n      <th>Disc-STD</th>\n    </tr>\n  </thead>\n  <tbody>\n    <tr>\n      <th>0</th>\n      <td>18</td>\n      <td>21</td>\n      <td>28.74</td>\n      <td>4.32</td>\n      <td>3.63</td>\n      <td>1.67</td>\n      <td>10.79</td>\n      <td>1.37</td>\n      <td>95.34</td>\n      <td>6.60</td>\n      <td>5.91</td>\n      <td>0.31</td>\n    </tr>\n    <tr>\n      <th>1</th>\n      <td>20</td>\n      <td>23</td>\n      <td>28.44</td>\n      <td>4.38</td>\n      <td>3.64</td>\n      <td>1.68</td>\n      <td>10.68</td>\n      <td>1.41</td>\n      <td>94.93</td>\n      <td>7.26</td>\n      <td>5.92</td>\n      <td>0.26</td>\n    </tr>\n    <tr>\n      <th>2</th>\n      <td>24</td>\n      <td>25</td>\n      <td>27.83</td>\n      <td>4.48</td>\n      <td>3.65</td>\n      <td>1.69</td>\n      <td>10.46</td>\n      <td>1.48</td>\n      <td>95.08</td>\n      <td>8.04</td>\n      <td>5.89</td>\n      <td>0.30</td>\n    </tr>\n    <tr>\n      <th>3</th>\n      <td>26</td>\n      <td>29</td>\n      <td>27.52</td>\n      <td>4.54</td>\n      <td>3.66</td>\n      <td>1.70</td>\n      <td>10.35</td>\n      <td>1.52</td>\n      <td>96.67</td>\n      <td>6.31</td>\n      <td>5.97</td>\n      <td>0.15</td>\n    </tr>\n    <tr>\n      <th>4</th>\n      <td>30</td>\n      <td>33</td>\n      <td>26.92</td>\n      <td>4.64</td>\n      <td>3.67</td>\n      <td>1.71</td>\n      <td>10.13</td>\n      <td>1.60</td>\n      <td>96.20</td>\n      <td>4.74</td>\n      <td>5.97</td>\n      <td>0.15</td>\n    </tr>\n  </tbody>\n</table>\n</div>"
     },
     "execution_count": 4,
     "metadata": {},
     "output_type": "execute_result"
    },
    {
     "data": {
      "text/plain": "<Figure size 432x288 with 1 Axes>",
      "image/png": "[encoded data removed]"
     },
     "metadata": {
      "needs_background": "light"
     },
     "output_type": "display_data"
    }
   ],
   "source": [
    "bvmt_norm = pd.read_csv('data/testing/bvmtr_extract.csv')\n",
    "ax = bvmt_norm.plot(x = 'MaxAge', y = 'Total', label = 'Expected')\n",
    "bvmt_all.plot(x = 'Age', y = 'BVMTimmed', ax=ax, label = 'Obs',\n",
    "              marker = '.', linestyle = '')\n",
    "ax.set_ylabel('Expected Immediate Recall')\n",
    "bvmt_norm.head()"
   ],
   "metadata": {
    "collapsed": false,
    "pycharm": {
     "name": "#%%\n"
    }
   }
  },
  {
   "cell_type": "markdown",
   "source": [
    "As expected, the average expected number of cards recalled goes down with age (blue line).\n",
    "The plotted points mostly fall below this line, indicating that they are performing worse compared to age-matched controls.\n",
    "Let's use a transformer to correct for these problems."
   ],
   "metadata": {
    "collapsed": false,
    "pycharm": {
     "name": "#%% md\n"
    }
   }
  },
  {
   "cell_type": "code",
   "execution_count": 16,
   "outputs": [],
   "source": [
    "#export\n",
    "#hide\n",
    "\n",
    "FILTER_MAPPINGS = {'gt': '>',\n",
    "                   'gte': '>=',\n",
    "                   'lte': '<=',\n",
    "                   'lt': '<',\n",
    "                   'eq': '--',\n",
    "                   'neq': '!='}\n",
    "\n",
    "\n",
    "\n",
    "def _build_filters(lookup_table):\n",
    "    \"\"\"\n",
    "    Build filters from lookup table\n",
    "    Parameters\n",
    "    ----------\n",
    "    lookup_table : pd.DataFrame\n",
    "\n",
    "    Returns\n",
    "    -------\n",
    "\n",
    "    \"\"\"\n",
    "\n",
    "\n",
    "    filts = dict((_id, []) for _id in lookup_table.index)\n",
    "    expected = set()\n",
    "    for col in lookup_table.columns:\n",
    "        if '__' in col:\n",
    "            field, nop = col.split('__')\n",
    "            op = FILTER_MAPPINGS.get(nop, None)\n",
    "            if op is not None:\n",
    "                expected.add(field)\n",
    "                for ind, val in lookup_table[col].to_dict().items():\n",
    "                    if type(val) == str:\n",
    "                        filts[ind].append(f'({field} {op} \"{val}\")')\n",
    "                    else:\n",
    "                        filts[ind].append(f'({field} {op} {val})')\n",
    "    return pd.Series([' & '.join(filts[ind]) for ind in lookup_table.index],\n",
    "                     index = lookup_table.index), sorted(expected)\n",
    "\n",
    "def _build_lookup_norms(lookup_table):\n",
    "    \"\"\"\n",
    "\n",
    "    Pulls out the values of the __mean and __std columns to create a\n",
    "    pd.Series of scipy.norm instances.\n",
    "\n",
    "    This can be better generalized in the future.\n",
    "\n",
    "    Parameters\n",
    "    ----------\n",
    "    lookup_table : pd.DataFrame\n",
    "\n",
    "    Returns\n",
    "    -------\n",
    "    ps.Series\n",
    "    \"\"\"\n",
    "\n",
    "    mean_col = next(col for col in lookup_table.columns if col.endswith('__mean'))\n",
    "    std_col = next(col for col in lookup_table.columns if col.endswith('__std'))\n",
    "\n",
    "    field = mean_col.split('__')[0]\n",
    "\n",
    "    return mean_col, std_col, field\n",
    "\n",
    "\n",
    "\n",
    "    norm_list = []\n",
    "    for _, row in lookup_table.iterrows():\n",
    "        norm_list.append(norm(loc = row[mean_col],\n",
    "                               scale = row[std_col]))\n",
    "    return pd.Series(norm_list, index = lookup_table.index), fields\n",
    "\n",
    "\n",
    "\n",
    "\n",
    "class LookupNormalTransform(BaseEstimator, TransformerMixin):\n",
    "\n",
    "    def __init__(self, lookup_table=None, name = ''):\n",
    "        \"\"\"\n",
    "\n",
    "        Parameters\n",
    "        ----------\n",
    "        lookup_table : pd.DataFrame\n",
    "          Formatted lookup-table for the transformer\n",
    "        \"\"\"\n",
    "        super(LookupNormalTransform, self).__init__()\n",
    "\n",
    "\n",
    "        self.lookup_table = lookup_table\n",
    "        self.name = name\n",
    "\n",
    "\n",
    "    def fit(self, *args, **kwargs):\n",
    "        self._filters, self._filter_cols = _build_filters(self.lookup_table)\n",
    "        self._mean_col, self._std_col, self._measure_col = _build_lookup_norms(self.lookup_table)\n",
    "        return self\n",
    "\n",
    "    @property\n",
    "    def needed_cols(self):\n",
    "        return self._filter_cols + [self._measure_col]\n",
    "\n",
    "    def get_feature_names(self):\n",
    "        return [self.name]\n",
    "\n",
    "    def match_samples(self, data, keep = 'last'):\n",
    "        \n",
    "        linker_func = lambda flt: data.query(flt).index\n",
    "        all_matches = self._filters.map(linker_func)\n",
    "        \n",
    "        data2flt = {}\n",
    "        for num, matches in all_matches.to_dict().items():\n",
    "            for d_ind in matches:\n",
    "                data2flt[d_ind] = num\n",
    "        data2flt = pd.Series(data2flt)\n",
    "        return data2flt.reindex(data.index)\n",
    "\n",
    "\n",
    "    def normalize_samples(self, data, matched_rows = None):\n",
    "\n",
    "        if matched_rows is None: matched_rows = self.match_samples(data)\n",
    "\n",
    "        valid_matches = matched_rows.dropna()\n",
    "        obs_vals = data.loc[valid_matches.index, self._measure_col]\n",
    "        means = self.lookup_table.loc[valid_matches.values, self._mean_col]\n",
    "        stds = self.lookup_table.loc[valid_matches.values, self._std_col]\n",
    "        Zs = pd.Series((obs_vals.values-means.values)/stds.values,\n",
    "                       valid_matches.index,\n",
    "                       name = self.name)\n",
    "\n",
    "        return Zs.reindex(data.index)\n",
    "\n",
    "\n",
    "    def transform(self, data):\n",
    "\n",
    "        return pd.DataFrame(self.normalize_samples(data))\n",
    "\n",
    "\n",
    "\n",
    "\n",
    "\n",
    "\n"
   ],
   "metadata": {
    "collapsed": false,
    "pycharm": {
     "name": "#%%\n"
    }
   }
  },
  {
   "cell_type": "markdown",
   "source": [
    "We will need to re-arrange the normalization table into a more suitable format.\n",
    "This uses __ to indicate operations based on a currently limited language.\n",
    "These need to map to the same columns as the input data."
   ],
   "metadata": {
    "collapsed": false,
    "pycharm": {
     "name": "#%% md\n"
    }
   }
  },
  {
   "cell_type": "code",
   "execution_count": 17,
   "outputs": [
    {
     "data": {
      "text/plain": "   Age__gte  Age__lte  BVMTimmed__mean  BVMTimmed__std\n0        18        21            28.74            4.32\n1        20        23            28.44            4.38\n2        24        25            27.83            4.48\n3        26        29            27.52            4.54\n4        30        33            26.92            4.64",
      "text/html": "<div>\n<style scoped>\n    .dataframe tbody tr th:only-of-type {\n        vertical-align: middle;\n    }\n\n    .dataframe tbody tr th {\n        vertical-align: top;\n    }\n\n    .dataframe thead th {\n        text-align: right;\n    }\n</style>\n<table border=\"1\" class=\"dataframe\">\n  <thead>\n    <tr style=\"text-align: right;\">\n      <th></th>\n      <th>Age__gte</th>\n      <th>Age__lte</th>\n      <th>BVMTimmed__mean</th>\n      <th>BVMTimmed__std</th>\n    </tr>\n  </thead>\n  <tbody>\n    <tr>\n      <th>0</th>\n      <td>18</td>\n      <td>21</td>\n      <td>28.74</td>\n      <td>4.32</td>\n    </tr>\n    <tr>\n      <th>1</th>\n      <td>20</td>\n      <td>23</td>\n      <td>28.44</td>\n      <td>4.38</td>\n    </tr>\n    <tr>\n      <th>2</th>\n      <td>24</td>\n      <td>25</td>\n      <td>27.83</td>\n      <td>4.48</td>\n    </tr>\n    <tr>\n      <th>3</th>\n      <td>26</td>\n      <td>29</td>\n      <td>27.52</td>\n      <td>4.54</td>\n    </tr>\n    <tr>\n      <th>4</th>\n      <td>30</td>\n      <td>33</td>\n      <td>26.92</td>\n      <td>4.64</td>\n    </tr>\n  </tbody>\n</table>\n</div>"
     },
     "execution_count": 17,
     "metadata": {},
     "output_type": "execute_result"
    }
   ],
   "source": [
    "mapping = {'MinAge':'Age__gte',\n",
    "           'MaxAge':'Age__lte',\n",
    "           'Total': 'BVMTimmed__mean',\n",
    "           'Total-STD': 'BVMTimmed__std',\n",
    "           }\n",
    "immed_extracted_norm = bvmt_norm.rename(columns = mapping)[mapping.values()]\n",
    "immed_extracted_norm.head()"
   ],
   "metadata": {
    "collapsed": false,
    "pycharm": {
     "name": "#%%\n"
    }
   }
  },
  {
   "cell_type": "code",
   "execution_count": 18,
   "outputs": [],
   "source": [
    "transform_immed = LookupNormalTransform(immed_extracted_norm,\n",
    "                                  name = 'BVMTimmed-lookup').fit()\n",
    "\n",
    "# You can extract the index of matched samples\n",
    "hits = transform_immed.match_samples(bvmt_all)\n",
    "\n",
    "# Or transform into normalized Z-scores directly\n",
    "z_scores_immed = transform_immed.normalize_samples(bvmt_all)\n",
    "z_scores_immed = transform_immed.transform(bvmt_all)"
   ],
   "metadata": {
    "collapsed": false,
    "pycharm": {
     "name": "#%%\n"
    }
   }
  },
  {
   "cell_type": "code",
   "execution_count": 19,
   "outputs": [
    {
     "data": {
      "text/plain": "['Age', 'BVMTimmed']"
     },
     "execution_count": 19,
     "metadata": {},
     "output_type": "execute_result"
    }
   ],
   "source": [
    "mapping = {'MinAge':'Age__gte',\n",
    "           'MaxAge':'Age__lte',\n",
    "           'DR': 'BVMTdelay__mean',\n",
    "           'DR-STD': 'BVMTdelay__std',\n",
    "           }\n",
    "dr_extracted_norm = bvmt_norm.rename(columns = mapping)[mapping.values()]\n",
    "dr_extracted_norm\n",
    "\n",
    "transform_dr = LookupNormalTransform(dr_extracted_norm,\n",
    "                                  name = 'BVMTdelay-lookup').fit()\n",
    "\n",
    "\n",
    "\n",
    "transform_immed.needed_cols"
   ],
   "metadata": {
    "collapsed": false,
    "pycharm": {
     "name": "#%%\n"
    }
   }
  },
  {
   "cell_type": "code",
   "execution_count": 20,
   "outputs": [
    {
     "data": {
      "text/plain": "array([[        nan,         nan],\n       [        nan,         nan],\n       [        nan,         nan],\n       [-0.67903525, -1.21596244],\n       [-0.49350649, -1.21596244],\n       [-0.99810606, -0.88292683],\n       [-1.13320463,         nan],\n       [ 0.17272727, -0.62272727],\n       [-2.85601578, -2.76315789],\n       [-1.56628788, -1.37073171],\n       [-2.55454545, -2.89545455],\n       [-1.83266129, -1.34972678],\n       [-1.54640981, -2.08898305]])"
     },
     "execution_count": 20,
     "metadata": {},
     "output_type": "execute_result"
    }
   ],
   "source": [
    "from sklearn.compose import ColumnTransformer\n",
    "\n",
    "multi_trans = ColumnTransformer([('bvmt_immid_lookup', transform_immed, transform_immed.needed_cols),\n",
    "                                 ('bvmt_delay_lookup', transform_dr, transform_dr.needed_cols )])\n",
    "\n",
    "multi_trans.fit_transform(bvmt_all)"
   ],
   "metadata": {
    "collapsed": false,
    "pycharm": {
     "name": "#%%\n"
    }
   }
  },
  {
   "cell_type": "code",
   "execution_count": 22,
   "outputs": [
    {
     "data": {
      "text/plain": "['bvmt_immid_lookup__BVMTimmed-lookup', 'bvmt_delay_lookup__BVMTdelay-lookup']"
     },
     "execution_count": 22,
     "metadata": {},
     "output_type": "execute_result"
    }
   ],
   "source": [
    "multi_trans.get_feature_names()\n"
   ],
   "metadata": {
    "collapsed": false,
    "pycharm": {
     "name": "#%%\n"
    }
   }
  },
  {
   "cell_type": "code",
   "execution_count": null,
   "outputs": [],
   "source": [],
   "metadata": {
    "collapsed": false,
    "pycharm": {
     "name": "#%%\n"
    }
   }
  }
 ],
 "metadata": {
  "kernelspec": {
   "display_name": "Python 3",
   "language": "python",
   "name": "python3"
  }
 },
 "nbformat": 4,
 "nbformat_minor": 2
}