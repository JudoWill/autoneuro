{
 "cells": [
  {
   "cell_type": "code",
   "execution_count": 1,
   "id": "suitable-monday",
   "metadata": {},
   "outputs": [],
   "source": [
    "# default_exp field_mapping"
   ]
  },
  {
   "cell_type": "markdown",
   "id": "bored-courtesy",
   "metadata": {},
   "source": [
    "# Field Mapping\n",
    "\n",
    "A big problem with the different neuro measures is that everyone seems to have their own field names for the same measurement. This module is a small collection of utilities for converting between internal and external fields."
   ]
  },
  {
   "cell_type": "code",
   "execution_count": 2,
   "id": "civic-wholesale",
   "metadata": {},
   "outputs": [],
   "source": [
    "# export\n",
    "\n",
    "import pandas as pd"
   ]
  },
  {
   "cell_type": "code",
   "execution_count": 12,
   "id": "dense-junction",
   "metadata": {},
   "outputs": [],
   "source": [
    "# export\n",
    "\n",
    "class FieldMapper(object):\n",
    "    \n",
    "    def __init__(self, mapping_df):\n",
    "        \n",
    "        self.mapping_df = mapping_df\n",
    "        \n",
    "    @staticmethod\n",
    "    def from_file(path):\n",
    "        \n",
    "        if path.endswith('csv'):\n",
    "            mapping_df = pd.read_csv(path)\n",
    "        elif path.endswith('tsv'):\n",
    "            mapping_df = pd.read_csv(path, sep = '\\t')\n",
    "        elif path.endswith('xlsx'):\n",
    "            mapping_df = pd.read_excel(path)\n",
    "        else:\n",
    "            raise ValueError(f'Could not understand {path}')\n",
    "        \n",
    "        return FieldMapper(mapping_df)\n",
    "    \n",
    "    def convert(self, data, source_column, target_column):\n",
    "        \n",
    "        assert source_column in self.mapping_df\n",
    "        assert target_column in self.mapping_df\n",
    "        \n",
    "        source_fields = sorted(set(self.mapping_df[source_column].dropna()))\n",
    "        target_fields = sorted(set(self.mapping_df[target_column].dropna()))\n",
    "        \n",
    "        id_df = self.mapping_df[[source_column, target_column]].dropna()\n",
    "        id_dict = dict(row.values for _, row in id_df.iterrows())\n",
    "        \n",
    "        mapped_data = data[source_fields].rename(columns = id_dict)\n",
    "        #print(target_fields)\n",
    "        mapped_data = mapped_data.reindex(target_fields, axis=1)\n",
    "        \n",
    "        return mapped_data\n",
    "        \n",
    "        "
   ]
  },
  {
   "cell_type": "code",
   "execution_count": 13,
   "id": "minus-smell",
   "metadata": {},
   "outputs": [
    {
     "data": {
      "text/html": [
       "<div>\n",
       "<style scoped>\n",
       "    .dataframe tbody tr th:only-of-type {\n",
       "        vertical-align: middle;\n",
       "    }\n",
       "\n",
       "    .dataframe tbody tr th {\n",
       "        vertical-align: top;\n",
       "    }\n",
       "\n",
       "    .dataframe thead th {\n",
       "        text-align: right;\n",
       "    }\n",
       "</style>\n",
       "<table border=\"1\" class=\"dataframe\">\n",
       "  <thead>\n",
       "    <tr style=\"text-align: right;\">\n",
       "      <th></th>\n",
       "      <th>fieldA</th>\n",
       "      <th>fieldB</th>\n",
       "      <th>fieldC</th>\n",
       "      <th>fieldD</th>\n",
       "    </tr>\n",
       "  </thead>\n",
       "  <tbody>\n",
       "    <tr>\n",
       "      <th>0</th>\n",
       "      <td>1</td>\n",
       "      <td>2.0</td>\n",
       "      <td>3.0</td>\n",
       "      <td>4.0</td>\n",
       "    </tr>\n",
       "    <tr>\n",
       "      <th>1</th>\n",
       "      <td>1</td>\n",
       "      <td>2.0</td>\n",
       "      <td>3.0</td>\n",
       "      <td>4.0</td>\n",
       "    </tr>\n",
       "    <tr>\n",
       "      <th>2</th>\n",
       "      <td>1</td>\n",
       "      <td>2.0</td>\n",
       "      <td>NaN</td>\n",
       "      <td>NaN</td>\n",
       "    </tr>\n",
       "    <tr>\n",
       "      <th>3</th>\n",
       "      <td>1</td>\n",
       "      <td>NaN</td>\n",
       "      <td>3.0</td>\n",
       "      <td>4.0</td>\n",
       "    </tr>\n",
       "  </tbody>\n",
       "</table>\n",
       "</div>"
      ],
      "text/plain": [
       "   fieldA  fieldB  fieldC  fieldD\n",
       "0       1     2.0     3.0     4.0\n",
       "1       1     2.0     3.0     4.0\n",
       "2       1     2.0     NaN     NaN\n",
       "3       1     NaN     3.0     4.0"
      ]
     },
     "execution_count": 13,
     "metadata": {},
     "output_type": "execute_result"
    }
   ],
   "source": [
    "map_df = pd.DataFrame([{'internal_field': 'fieldA', 'redcap_id': 'field_a', 'cnns_id': 'fielda'},\n",
    "                       {'internal_field': 'fieldB', 'redcap_id': 'field_b', 'cnns_id': 'fieldb'},\n",
    "                       {'internal_field': 'fieldC', 'redcap_id': None, 'cnns_id': 'fieldc'},\n",
    "                       {'internal_field': 'fieldD', 'redcap_id': 'field_d', 'cnns_id': None},])\n",
    "field_data = pd.DataFrame([{'fieldA': 1, 'fieldB': 2, 'fieldC':3, 'fieldD': 4},\n",
    "                           {'fieldA': 1, 'fieldB': 2, 'fieldC':3, 'fieldD': 4},\n",
    "                           {'fieldA': 1, 'fieldB': 2, 'fieldC':None, 'fieldD': None},\n",
    "                           {'fieldA': 1, 'fieldB': None, 'fieldC':3, 'fieldD': 4}])\n",
    "field_data"
   ]
  },
  {
   "cell_type": "code",
   "execution_count": 14,
   "id": "binding-family",
   "metadata": {},
   "outputs": [
    {
     "data": {
      "text/html": [
       "<div>\n",
       "<style scoped>\n",
       "    .dataframe tbody tr th:only-of-type {\n",
       "        vertical-align: middle;\n",
       "    }\n",
       "\n",
       "    .dataframe tbody tr th {\n",
       "        vertical-align: top;\n",
       "    }\n",
       "\n",
       "    .dataframe thead th {\n",
       "        text-align: right;\n",
       "    }\n",
       "</style>\n",
       "<table border=\"1\" class=\"dataframe\">\n",
       "  <thead>\n",
       "    <tr style=\"text-align: right;\">\n",
       "      <th>redcap_id</th>\n",
       "      <th>field_a</th>\n",
       "      <th>field_b</th>\n",
       "      <th>field_d</th>\n",
       "    </tr>\n",
       "  </thead>\n",
       "  <tbody>\n",
       "    <tr>\n",
       "      <th>0</th>\n",
       "      <td>1</td>\n",
       "      <td>2.0</td>\n",
       "      <td>4.0</td>\n",
       "    </tr>\n",
       "    <tr>\n",
       "      <th>1</th>\n",
       "      <td>1</td>\n",
       "      <td>2.0</td>\n",
       "      <td>4.0</td>\n",
       "    </tr>\n",
       "    <tr>\n",
       "      <th>2</th>\n",
       "      <td>1</td>\n",
       "      <td>2.0</td>\n",
       "      <td>NaN</td>\n",
       "    </tr>\n",
       "    <tr>\n",
       "      <th>3</th>\n",
       "      <td>1</td>\n",
       "      <td>NaN</td>\n",
       "      <td>4.0</td>\n",
       "    </tr>\n",
       "  </tbody>\n",
       "</table>\n",
       "</div>"
      ],
      "text/plain": [
       "redcap_id  field_a  field_b  field_d\n",
       "0                1      2.0      4.0\n",
       "1                1      2.0      4.0\n",
       "2                1      2.0      NaN\n",
       "3                1      NaN      4.0"
      ]
     },
     "execution_count": 14,
     "metadata": {},
     "output_type": "execute_result"
    }
   ],
   "source": [
    "mapper = FieldMapper(map_df)\n",
    "\n",
    "out = mapper.convert(field_data, 'internal_field', 'redcap_id')\n",
    "assert (out.columns == ['field_a', 'field_b', 'field_d']).all()\n",
    "assert (out['field_a'] == 1).all()\n",
    "out"
   ]
  },
  {
   "cell_type": "code",
   "execution_count": 17,
   "id": "desperate-algorithm",
   "metadata": {},
   "outputs": [
    {
     "data": {
      "text/html": [
       "<div>\n",
       "<style scoped>\n",
       "    .dataframe tbody tr th:only-of-type {\n",
       "        vertical-align: middle;\n",
       "    }\n",
       "\n",
       "    .dataframe tbody tr th {\n",
       "        vertical-align: top;\n",
       "    }\n",
       "\n",
       "    .dataframe thead th {\n",
       "        text-align: right;\n",
       "    }\n",
       "</style>\n",
       "<table border=\"1\" class=\"dataframe\">\n",
       "  <thead>\n",
       "    <tr style=\"text-align: right;\">\n",
       "      <th>cnns_id</th>\n",
       "      <th>fielda</th>\n",
       "      <th>fieldb</th>\n",
       "      <th>fieldc</th>\n",
       "    </tr>\n",
       "  </thead>\n",
       "  <tbody>\n",
       "    <tr>\n",
       "      <th>0</th>\n",
       "      <td>1</td>\n",
       "      <td>2.0</td>\n",
       "      <td>3.0</td>\n",
       "    </tr>\n",
       "    <tr>\n",
       "      <th>1</th>\n",
       "      <td>1</td>\n",
       "      <td>2.0</td>\n",
       "      <td>3.0</td>\n",
       "    </tr>\n",
       "    <tr>\n",
       "      <th>2</th>\n",
       "      <td>1</td>\n",
       "      <td>2.0</td>\n",
       "      <td>NaN</td>\n",
       "    </tr>\n",
       "    <tr>\n",
       "      <th>3</th>\n",
       "      <td>1</td>\n",
       "      <td>NaN</td>\n",
       "      <td>3.0</td>\n",
       "    </tr>\n",
       "  </tbody>\n",
       "</table>\n",
       "</div>"
      ],
      "text/plain": [
       "cnns_id  fielda  fieldb  fieldc\n",
       "0             1     2.0     3.0\n",
       "1             1     2.0     3.0\n",
       "2             1     2.0     NaN\n",
       "3             1     NaN     3.0"
      ]
     },
     "execution_count": 17,
     "metadata": {},
     "output_type": "execute_result"
    }
   ],
   "source": [
    "mapper.convert(field_data, 'internal_field', 'cnns_id')"
   ]
  },
  {
   "cell_type": "code",
   "execution_count": null,
   "id": "weird-medication",
   "metadata": {},
   "outputs": [],
   "source": []
  }
 ],
 "metadata": {
  "kernelspec": {
   "display_name": "Python 3",
   "language": "python",
   "name": "python3"
  },
  "language_info": {
   "codemirror_mode": {
    "name": "ipython",
    "version": 3
   },
   "file_extension": ".py",
   "mimetype": "text/x-python",
   "name": "python",
   "nbconvert_exporter": "python",
   "pygments_lexer": "ipython3",
   "version": "3.9.2"
  }
 },
 "nbformat": 4,
 "nbformat_minor": 5
}
